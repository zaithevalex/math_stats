{
 "cells": [
  {
   "cell_type": "markdown",
   "metadata": {},
   "source": [
    "<center>\n",
    "<img src=\"logo.png\" height=\"900\"> \n",
    "</center>\n",
    "\n",
    "\n",
    "# Максимально правдоподобная домашка\n",
    "\n",
    "В этом задании мы с вами отточим метод максимального правдоподобия."
   ]
  },
  {
   "cell_type": "code",
   "execution_count": null,
   "metadata": {},
   "outputs": [],
   "source": [
    "import numpy as np\n",
    "import pandas as pd\n",
    "\n",
    "from scipy import stats\n",
    "from scipy.optimize import minimize\n",
    "\n",
    "import seaborn as sns\n",
    "import matplotlib.pyplot as plt\n",
    "\n",
    "plt.style.use('ggplot')\n",
    "%matplotlib inline"
   ]
  },
  {
   "cell_type": "markdown",
   "metadata": {},
   "source": [
    "## Упражнение 1 (Разминка)\n",
    "\n",
    "__а)__ Пусть $X \\sim Exp(0.05)$. Сгенерируйте из этого распределения выборку размера $1000$. У метода `rvs` используйте `random_state=42` \n",
    "\n",
    "Обратите внимание, что `stats.expon` принимает в качестве параметра `scale` значение $\\frac{1}{\\lambda}$, а $0.05$ это именно $\\lambda$."
   ]
  },
  {
   "cell_type": "code",
   "execution_count": null,
   "metadata": {
    "deletable": false,
    "nbgrader": {
     "cell_type": "code",
     "checksum": "cf5fe495e59777dc463c48268c39f794",
     "grade": false,
     "grade_id": "cell-f56ad0d7e5287be8",
     "locked": false,
     "schema_version": 3,
     "solution": true,
     "task": false
    }
   },
   "outputs": [],
   "source": [
    "### ╰( ͡° ͜ʖ ͡° )つ▬▬ι═══════  bzzzzzzzzzz\n",
    "# will the code be with you\n",
    "\n",
    "x = ...\n",
    "\n",
    "# your code here\n"
   ]
  },
  {
   "cell_type": "code",
   "execution_count": null,
   "metadata": {},
   "outputs": [],
   "source": [
    "assert np.abs(19.45 - np.mean(x)) < 0.01"
   ]
  },
  {
   "cell_type": "markdown",
   "metadata": {},
   "source": [
    "__б)__ Выпишите логарифмическую функцию правдоподобия на бумажке. Затем вбейте её в python."
   ]
  },
  {
   "cell_type": "code",
   "execution_count": null,
   "metadata": {
    "deletable": false,
    "nbgrader": {
     "cell_type": "code",
     "checksum": "c16066e01c7ba00e9fb4c8951a3114ce",
     "grade": false,
     "grade_id": "cell-8b65f97b3713651c",
     "locked": false,
     "schema_version": 3,
     "solution": true,
     "task": false
    }
   },
   "outputs": [],
   "source": [
    "def lnL(theta, x):\n",
    "    \n",
    "    # your code here\n",
    "    \n",
    "    return -l"
   ]
  },
  {
   "cell_type": "code",
   "execution_count": null,
   "metadata": {
    "deletable": false,
    "editable": false,
    "nbgrader": {
     "cell_type": "code",
     "checksum": "0936f9fd98414ca0840289dcd0a97060",
     "grade": true,
     "grade_id": "cell-06138bffb4961739",
     "locked": true,
     "points": 1,
     "schema_version": 3,
     "solution": false,
     "task": false
    }
   },
   "outputs": [],
   "source": [
    "assert np.abs(lnL(4, x) - 76414.1814) < 1e-4\n",
    "\n",
    "# несколько похожих скрытых тестов"
   ]
  },
  {
   "cell_type": "markdown",
   "metadata": {},
   "source": [
    "__в)__ Оцените значение параметра $\\lambda$ по сгенерированной выборке `x`. Аккуратнее выбирайте точку для инициализации параметра. "
   ]
  },
  {
   "cell_type": "code",
   "execution_count": null,
   "metadata": {
    "deletable": false,
    "nbgrader": {
     "cell_type": "code",
     "checksum": "6c95cc8f52de834cdacce2f213d505d5",
     "grade": false,
     "grade_id": "cell-46d606a0b318889e",
     "locked": false,
     "schema_version": 3,
     "solution": true,
     "task": false
    }
   },
   "outputs": [],
   "source": [
    "### ╰( ͡° ͜ʖ ͡° )つ▬▬ι═══════  bzzzzzzzzzz\n",
    "# will the code be with you\n",
    "\n",
    "theta_init = ...\n",
    "res = ...\n",
    "\n",
    "# your code here\n"
   ]
  },
  {
   "cell_type": "code",
   "execution_count": null,
   "metadata": {
    "deletable": false,
    "editable": false,
    "nbgrader": {
     "cell_type": "code",
     "checksum": "513429d1704694149de80b0412ba4c05",
     "grade": true,
     "grade_id": "cell-fdb20543b8303077",
     "locked": true,
     "points": 1,
     "schema_version": 3,
     "solution": false,
     "task": false
    }
   },
   "outputs": [],
   "source": [
    "assert np.abs(res.x[0] - 0.0514) < 1e-4\n",
    "\n",
    "# несколько похожих скрытых тестов"
   ]
  },
  {
   "cell_type": "markdown",
   "metadata": {},
   "source": [
    "__г)__ Постройте график для функции правдоподобия. По оси $x$ отложите значения $\\lambda$, по оси $y$ логарифм правдоподобия. Отметьте на картинке точку оптимума. "
   ]
  },
  {
   "cell_type": "code",
   "execution_count": null,
   "metadata": {
    "deletable": false,
    "nbgrader": {
     "cell_type": "code",
     "checksum": "983bff4bd26687e77b72f755b54ea24f",
     "grade": false,
     "grade_id": "cell-4de953f7f7c66a39",
     "locked": false,
     "schema_version": 3,
     "solution": true,
     "task": false
    }
   },
   "outputs": [],
   "source": [
    "### ╰( ͡° ͜ʖ ͡° )つ▬▬ι═══════  bzzzzzzzzzz\n",
    "# will the code be with you\n",
    "\n",
    "# your code here\n"
   ]
  },
  {
   "cell_type": "markdown",
   "metadata": {},
   "source": [
    "__д)__ Постройте для параметра $\\lambda$ асимптотический $80\\%$ доверительный интервал. "
   ]
  },
  {
   "cell_type": "code",
   "execution_count": null,
   "metadata": {
    "deletable": false,
    "nbgrader": {
     "cell_type": "code",
     "checksum": "9c551d72f5c326f977b2b6762ae62ca6",
     "grade": false,
     "grade_id": "cell-c20e8fc746ce9925",
     "locked": false,
     "schema_version": 3,
     "solution": true,
     "task": false
    }
   },
   "outputs": [],
   "source": [
    "### ╰( ͡° ͜ʖ ͡° )つ▬▬ι═══════  bzzzzzzzzzz\n",
    "# will the code be with you\n",
    "\n",
    "alpha = ...\n",
    "z = ...\n",
    "\n",
    "left = ...\n",
    "right = ...\n",
    "\n",
    "# your code here\n"
   ]
  },
  {
   "cell_type": "code",
   "execution_count": null,
   "metadata": {
    "deletable": false,
    "editable": false,
    "nbgrader": {
     "cell_type": "code",
     "checksum": "79098e408937d94334a534d4a159fe63",
     "grade": true,
     "grade_id": "cell-b6d9034e824cb106",
     "locked": true,
     "points": 2,
     "schema_version": 3,
     "solution": false,
     "task": false
    }
   },
   "outputs": [],
   "source": [
    "assert np.abs(z - 1.2815) < 1e-4\n",
    "\n",
    "# несколько похожих скрытых тестов"
   ]
  },
  {
   "cell_type": "markdown",
   "metadata": {},
   "source": [
    "__е)__ Проверите на уровне значимости $1\\%$ тестом отношения правдоподобия гипотезу о том, что $\\lambda = 0.05$. "
   ]
  },
  {
   "cell_type": "code",
   "execution_count": null,
   "metadata": {
    "deletable": false,
    "nbgrader": {
     "cell_type": "code",
     "checksum": "607ddce16e40b0a6e1f9bbb2d787f4ea",
     "grade": false,
     "grade_id": "cell-78a916d342e6ca21",
     "locked": false,
     "schema_version": 3,
     "solution": true,
     "task": false
    }
   },
   "outputs": [],
   "source": [
    "### ╰( ͡° ͜ʖ ͡° )つ▬▬ι═══════  bzzzzzzzzzz\n",
    "# will the code be with you\n",
    "\n",
    "lnL_un = ...\n",
    "lnL_r = ...\n",
    "\n",
    "# наблюдаемое значение статистики\n",
    "LR_obs =  ... \n",
    "\n",
    "# критическое значение\n",
    "LR_cr = ...\n",
    "\n",
    "# your code here\n"
   ]
  },
  {
   "cell_type": "code",
   "execution_count": null,
   "metadata": {
    "deletable": false,
    "editable": false,
    "nbgrader": {
     "cell_type": "code",
     "checksum": "a4b0e8af48c132461b0de8789f51c326",
     "grade": true,
     "grade_id": "cell-f2b0554f56b04198",
     "locked": true,
     "points": 1,
     "schema_version": 3,
     "solution": false,
     "task": false
    }
   },
   "outputs": [],
   "source": [
    "assert np.abs(lnL_un - 3967.8531) < 1e-4\n",
    "\n",
    "# несколько похожих скрытых тестов"
   ]
  },
  {
   "cell_type": "markdown",
   "metadata": {},
   "source": [
    "Справились? Значит вас ничто не может остановить реализовать подобный пайплайн для более сложной ситуации. Убедитесь в этом сами, решив задачку про «Челленджер»."
   ]
  },
  {
   "cell_type": "markdown",
   "metadata": {},
   "source": [
    "## Упражнение 2 (Логистическая регрессия)\n",
    "\n",
    "В этом упражнении мы оценим методом максимального правдоподобия логистическую регрессию.\n",
    "\n",
    "$28$ января $1986$ года космический шатл «Челленджер» взорвался при взлёте. Семь астронавтов, находившихся на борту, погибли. В ходе расследования причин катастрофы основной версией была неполадка с резиновыми уплотнительными кольцами в соединении с ракетными ускорителями. Для $23$ предшествовавших катастрофе полётов «Челленджера» известны температура воздуха и появление повреждений хотя бы у одного из уплотнительных колец."
   ]
  },
  {
   "cell_type": "code",
   "execution_count": null,
   "metadata": {},
   "outputs": [],
   "source": [
    "df = pd.read_csv('challenger.csv', sep=',')\n",
    "print(df.shape)\n",
    "df.head()"
   ]
  },
  {
   "cell_type": "markdown",
   "metadata": {},
   "source": [
    "__а)__ Постройте на графиках гистограмму для распределения температуры $(Temperature)$ в ситуациях, когда хотябы одно кольцо было повреждено $(Incident = 1)$ и в ситуациях, когда ни одного повреждения не было $(Incident = 0)$. "
   ]
  },
  {
   "cell_type": "code",
   "execution_count": null,
   "metadata": {
    "deletable": false,
    "nbgrader": {
     "cell_type": "code",
     "checksum": "122ef16c11c5e50db7c9a8bb5f7b85b0",
     "grade": false,
     "grade_id": "cell-4f7c85bfda7decc0",
     "locked": false,
     "schema_version": 3,
     "solution": true,
     "task": false
    }
   },
   "outputs": [],
   "source": [
    "### ╰( ͡° ͜ʖ ͡° )つ▬▬ι═══════  bzzzzzzzzzz\n",
    "# will the code be with you\n",
    "\n",
    "# your code here\n"
   ]
  },
  {
   "cell_type": "code",
   "execution_count": null,
   "metadata": {},
   "outputs": [],
   "source": [
    "df[df['Incident'] == 1].Temperature.mean(), df[df['Incident'] == 0].Temperature.mean()"
   ]
  },
  {
   "cell_type": "markdown",
   "metadata": {},
   "source": [
    "__б)__ Судя по всему, между температурой и вероятностью поломки есть взаимосвязь. Пусть вероятность поломки зависит от температуры экспоненциально:\n",
    "    \n",
    "$$\n",
    "P(Incident = 1) = \\frac{e^{\\alpha + \\beta \\cdot t}}{1 + e^{\\alpha + \\beta \\cdot t}} = \\frac{1}{1 + e^{-1\\cdot(\\alpha + \\beta \\cdot t)}} \n",
    "$$\n",
    "    \n",
    "Выведите функцию правдоподобия и задачу для оптимизации поиска коэффициентов $\\alpha$ и  $\\beta$ на бумажке, а затем вбейте её в python. "
   ]
  },
  {
   "cell_type": "code",
   "execution_count": null,
   "metadata": {
    "deletable": false,
    "nbgrader": {
     "cell_type": "code",
     "checksum": "6d6f65d90499b36288cf1da8a59addc5",
     "grade": false,
     "grade_id": "cell-0b993a930584fc58",
     "locked": false,
     "schema_version": 3,
     "solution": true,
     "task": false
    }
   },
   "outputs": [],
   "source": [
    "### ╰( ͡° ͜ʖ ͡° )つ▬▬ι═══════  bzzzzzzzzzz\n",
    "# will the code be with you\n",
    "\n",
    "def lnL(theta, data):\n",
    "    a, b = theta\n",
    "    \n",
    "    # your code here\n",
    "    "
   ]
  },
  {
   "cell_type": "code",
   "execution_count": null,
   "metadata": {
    "deletable": false,
    "editable": false,
    "nbgrader": {
     "cell_type": "code",
     "checksum": "1d37e18d62a5998262779f901c8ce1f2",
     "grade": true,
     "grade_id": "cell-63d24d1dbe5d8980",
     "locked": true,
     "points": 1,
     "schema_version": 3,
     "solution": false,
     "task": false
    }
   },
   "outputs": [],
   "source": [
    "assert np.abs(lnL([4, 0.2], df) - 294.8) < 1e-4\n",
    "\n",
    "# несколько похожих скрытых тестов"
   ]
  },
  {
   "cell_type": "markdown",
   "metadata": {},
   "source": [
    "__в)__ Оцените параметры $\\alpha$ и $\\beta$ с помощью метода максимального правдоподобия."
   ]
  },
  {
   "cell_type": "code",
   "execution_count": null,
   "metadata": {
    "deletable": false,
    "nbgrader": {
     "cell_type": "code",
     "checksum": "0cda9b46363a691403e587c04b35a8f4",
     "grade": false,
     "grade_id": "cell-160598072dae63da",
     "locked": false,
     "schema_version": 3,
     "solution": true,
     "task": false
    }
   },
   "outputs": [],
   "source": [
    "### ╰( ͡° ͜ʖ ͡° )つ▬▬ι═══════  bzzzzzzzzzz\n",
    "# will the code be with you\n",
    "\n",
    "theta_init = ...\n",
    "res = ...\n",
    "\n",
    "# your code here\n"
   ]
  },
  {
   "cell_type": "code",
   "execution_count": null,
   "metadata": {
    "deletable": false,
    "editable": false,
    "nbgrader": {
     "cell_type": "code",
     "checksum": "d31d1a270d7e36e07d8ab8ea79635472",
     "grade": true,
     "grade_id": "cell-17af0e0290ffd6bf",
     "locked": true,
     "points": 1,
     "schema_version": 3,
     "solution": false,
     "task": false
    }
   },
   "outputs": [],
   "source": [
    "assert np.abs(res.fun - 10.1576) < 1e-4\n",
    "\n",
    "# несколько похожих скрытых тестов"
   ]
  },
  {
   "cell_type": "markdown",
   "metadata": {},
   "source": [
    "__г)__ С помощью теста отношения правдоподобий на уровне значимости $5\\%$ проверьте гипотезу о том, что $\\alpha = \\beta = 0$."
   ]
  },
  {
   "cell_type": "code",
   "execution_count": null,
   "metadata": {
    "deletable": false,
    "nbgrader": {
     "cell_type": "code",
     "checksum": "c972da575dd2c34eb5f1971b5d1cc4b1",
     "grade": false,
     "grade_id": "cell-d58c71fd7ff43669",
     "locked": false,
     "schema_version": 3,
     "solution": true,
     "task": false
    }
   },
   "outputs": [],
   "source": [
    "### ╰( ͡° ͜ʖ ͡° )つ▬▬ι═══════  bzzzzzzzzzz\n",
    "# will the code be with you\n",
    "\n",
    "lnL_un = ...\n",
    "lnL_r = ...\n",
    "\n",
    "LR_obs = ...\n",
    "LR_crit = ...\n",
    "\n",
    "# your code here\n"
   ]
  },
  {
   "cell_type": "code",
   "execution_count": null,
   "metadata": {
    "deletable": false,
    "editable": false,
    "nbgrader": {
     "cell_type": "code",
     "checksum": "217df7d8de63f4cd23c77083d5efb55d",
     "grade": true,
     "grade_id": "cell-1144bb1c976e84e0",
     "locked": true,
     "points": 1,
     "schema_version": 3,
     "solution": false,
     "task": false
    }
   },
   "outputs": [],
   "source": [
    "assert np.abs(lnL_un - 10.1576) < 1e-4\n",
    "\n",
    "# несколько похожих скрытых тестов"
   ]
  },
  {
   "cell_type": "markdown",
   "metadata": {},
   "source": [
    "__д)__ В день катастрофы температура уплотнителя была $31$ градус по Фарингейту. Предскажите с помощью построенной модели вероятность катастрофы (для этого подставьте в формулу поиска вероятности получившиеся оценки и температуру)."
   ]
  },
  {
   "cell_type": "code",
   "execution_count": null,
   "metadata": {
    "deletable": false,
    "nbgrader": {
     "cell_type": "code",
     "checksum": "2cef03e68df8a9713b232520e60471b7",
     "grade": false,
     "grade_id": "cell-dc73e72855a06d26",
     "locked": false,
     "schema_version": 3,
     "solution": true,
     "task": false
    }
   },
   "outputs": [],
   "source": [
    "xnew = 31\n",
    "alpha, beta = res.x\n",
    "\n",
    "### ╰( ͡° ͜ʖ ͡° )つ▬▬ι═══════  bzzzzzzzzzz\n",
    "# will the code be with you\n",
    "\n",
    "p_hat = ...\n",
    "\n",
    "# your code here\n"
   ]
  },
  {
   "cell_type": "code",
   "execution_count": null,
   "metadata": {
    "deletable": false,
    "editable": false,
    "nbgrader": {
     "cell_type": "code",
     "checksum": "ad995b59df6bc7056e40d1b823061fcc",
     "grade": true,
     "grade_id": "cell-7fbcaf3d5937cf8c",
     "locked": true,
     "points": 1,
     "schema_version": 3,
     "solution": false,
     "task": false
    }
   },
   "outputs": [],
   "source": [
    "assert np.abs(p_hat - 0.9996) < 1e-4\n",
    "\n",
    "# несколько похожих скрытых тестов"
   ]
  },
  {
   "cell_type": "markdown",
   "metadata": {},
   "source": [
    "Только что мы с вами оценили логистическую регрессию. На самом деле функцию потерь, которую обычно используют для оценки логистической регрессии (logloss) можно получить из метода максимального правдоподобия. Об этом мы поговорим на следующей неделе нашего курса. \n",
    "\n",
    "__е)__ А сейчас, давайте сделаем финальный штрих и оценим ту же самую моделю с помощью пакета `statsmodels`."
   ]
  },
  {
   "cell_type": "code",
   "execution_count": null,
   "metadata": {},
   "outputs": [],
   "source": [
    "import statsmodels.formula.api as smf\n",
    "\n",
    "model = smf.logit(data=df, formula='Incident ~ 1 + Temperature').fit()\n",
    "model.summary()"
   ]
  },
  {
   "cell_type": "markdown",
   "metadata": {},
   "source": [
    "Посмотрев на протокол, получившийся в результате оценивания модели ответьте на вопросы: \n",
    "\n",
    "- Чему равноо значение логарифма правдоподобия? Запишите это значение в `logLik`\n",
    "- Чему равна оценка константы $\\alpha$? Запишите это значение в `alph`\n",
    "- По свойствам метода максимального правдоподобия $\\hat{\\beta} \\sim N(\\beta, \\hat{\\sigma}^2_{\\beta})$, чему равно значение $\\hat{\\sigma}_{\\beta}$? Запишите это значение в `std_beta`\n",
    "- Чему равно p-значение для гипотезы $H_0: \\beta = 0$? Запишите это значение в `pval_beta`\n",
    "- Отвергается ли гипотеза $H_0: \\beta = 0$ на $5\\%$ уровне значимости? Если да, запишите в `is_h` значение `False`"
   ]
  },
  {
   "cell_type": "code",
   "execution_count": null,
   "metadata": {
    "deletable": false,
    "nbgrader": {
     "cell_type": "code",
     "checksum": "b712daa0d63faf93a911d3d78b955676",
     "grade": false,
     "grade_id": "cell-47498286ac9be898",
     "locked": false,
     "schema_version": 3,
     "solution": true,
     "task": false
    }
   },
   "outputs": [],
   "source": [
    "### ╰( ͡° ͜ʖ ͡° )つ▬▬ι═══════  bzzzzzzzzzz\n",
    "# will the code be with you\n",
    "\n",
    "logLik = ...\n",
    "alph = ...\n",
    "std_beta = ...\n",
    "pval_beta = ...\n",
    "is_h = ...\n",
    "\n",
    "# your code here\n"
   ]
  },
  {
   "cell_type": "code",
   "execution_count": null,
   "metadata": {
    "deletable": false,
    "editable": false,
    "nbgrader": {
     "cell_type": "code",
     "checksum": "020a402b6e1b4e91aeefda77d1a9df07",
     "grade": true,
     "grade_id": "cell-738394af91e6aa78",
     "locked": true,
     "points": 1,
     "schema_version": 3,
     "solution": false,
     "task": false
    }
   },
   "outputs": [],
   "source": [
    "assert np.abs(logLik + 10.158) < 1e-4\n",
    "\n",
    "# несколько похожих скрытых тестов"
   ]
  },
  {
   "cell_type": "markdown",
   "metadata": {},
   "source": [
    "  "
   ]
  }
 ],
 "metadata": {
  "kernelspec": {
   "display_name": "Python 3",
   "language": "python",
   "name": "python3"
  },
  "language_info": {
   "codemirror_mode": {
    "name": "ipython",
    "version": 3
   },
   "file_extension": ".py",
   "mimetype": "text/x-python",
   "name": "python",
   "nbconvert_exporter": "python",
   "pygments_lexer": "ipython3",
   "version": "3.7.4"
  }
 },
 "nbformat": 4,
 "nbformat_minor": 2
}
