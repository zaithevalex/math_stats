{
 "cells": [
  {
   "cell_type": "markdown",
   "metadata": {},
   "source": [
    "<center>\n",
    "<img src=\"logo.png\" height=\"900\"> \n",
    "</center>\n",
    "\n",
    "\n",
    "# Линейная регрессия \n",
    "\n",
    "Данные для этой домашки взяты из [книги по эконометрике Филиппа Картаева](https://www.econ.msu.ru/departments/mmae/Category.20190227154534_1269/Category.20190227155254_6724/)"
   ]
  },
  {
   "cell_type": "code",
   "execution_count": null,
   "metadata": {},
   "outputs": [],
   "source": [
    "import numpy as np\n",
    "import pandas as pd\n",
    "\n",
    "from scipy import stats \n",
    "\n",
    "import seaborn as sns\n",
    "import matplotlib.pyplot as plt\n",
    "\n",
    "plt.style.use('ggplot')\n",
    "%matplotlib inline"
   ]
  },
  {
   "cell_type": "markdown",
   "metadata": {},
   "source": [
    "# Задание 1 (тренинг)\n",
    "\n",
    "Руководство крупной торговой сети планирует выяснить, помогает ли тренинг по продажам увеличить эффективность работы менеджеров по продажам. \n",
    "\n",
    "Для решения этой задачи были собраны данные: \n",
    "\n",
    "- `sales` - объём продаж данного менеджера (в тысячах рублей за период)\n",
    "- `training` - дамми-переменная, равная единице, если в а самом начале данного периода менеджер прошел тренинг по продажам (работники, которые направлялись на курсы, выбирались из общей совокупности работников компании при помощи специальной лотереи)\n",
    "- `female` - дамми-переменная, равная единице для менеджеров женщин и нулю для мужчин\n",
    "- `experience` - опыт работы менеджера в годах \n",
    "- `capital` -  дамми-переменная, равная единице, если менеджер работает в столичном отделении компании, и равная нулю в противном случае\n",
    "- `IQ` - все менеджеры при приеме на работу проходят IQ-тест "
   ]
  },
  {
   "cell_type": "code",
   "execution_count": null,
   "metadata": {},
   "outputs": [],
   "source": [
    "df = pd.read_csv('training.tsv', sep='\\t')\n",
    "print(df.shape)\n",
    "df.head()"
   ]
  },
  {
   "cell_type": "markdown",
   "metadata": {},
   "source": [
    "Предполагается, что в данных есть гетероскедастичность. Все гипотезы проверяйте с учётом коррекции `HC3`.\n",
    "\n",
    "> Гетероскедастичность довольно часто присутствует в данных. Из-за этого, на практике, обычно, сразу вводят коррекцию на неё, и тестируют все гипотезы с помощью асимптотического подхода.\n",
    "\n",
    "__[а]__ Оцените регрессию переменной `sales` на переменные `training`, `female`, `experience`, `capital`, `IQ`. Значимо ли уравнение в целом на уровне значимости 5%? Сколько переменных значимы на уровне значимости $5\\%$? "
   ]
  },
  {
   "cell_type": "code",
   "execution_count": null,
   "metadata": {
    "deletable": false,
    "nbgrader": {
     "cell_type": "code",
     "checksum": "eb9f40415de9cab742359a9e91070e1d",
     "grade": false,
     "grade_id": "cell-149c04bce064e935",
     "locked": false,
     "schema_version": 3,
     "solution": true,
     "task": false
    }
   },
   "outputs": [],
   "source": [
    "import statsmodels.formula.api as smf\n",
    "\n",
    "### ╰( ͡° ͜ʖ ͡° )つ▬▬ι═══════  bzzzzzzzzzz\n",
    "# will the code be with you\n",
    "\n",
    "# your code here\n"
   ]
  },
  {
   "cell_type": "markdown",
   "metadata": {},
   "source": [
    "- Запишите в переменную `prob_f` $p$-value для гипотезы о незначимости регрессии. \n",
    "- В переменную `cnt` запишите число незначимых коэффициентов. \n",
    "- На сколько в среднем, при прочих равных условиях, прохождение тренинга увеличивыет объём продаж менеджера? Запишите ответ в переменную `tren`."
   ]
  },
  {
   "cell_type": "code",
   "execution_count": null,
   "metadata": {
    "deletable": false,
    "nbgrader": {
     "cell_type": "code",
     "checksum": "743ccbe06d84573cddf9b3a9229c459f",
     "grade": false,
     "grade_id": "cell-f0be3ebdb49cf2b0",
     "locked": false,
     "schema_version": 3,
     "solution": true,
     "task": false
    }
   },
   "outputs": [],
   "source": [
    "### ╰( ͡° ͜ʖ ͡° )つ▬▬ι═══════  bzzzzzzzzzz\n",
    "# will the code be with you\n",
    "\n",
    "prob_f = ...\n",
    "cnt = ...\n",
    "tren = ...\n",
    "\n",
    "# your code here\n"
   ]
  },
  {
   "cell_type": "code",
   "execution_count": null,
   "metadata": {
    "deletable": false,
    "editable": false,
    "nbgrader": {
     "cell_type": "code",
     "checksum": "df651b7c8bf79e7ad47221513a0fb5b1",
     "grade": true,
     "grade_id": "cell-aa4d47500164f617",
     "locked": true,
     "points": 1,
     "schema_version": 3,
     "solution": false,
     "task": false
    }
   },
   "outputs": [],
   "source": [
    "assert np.abs(prob_f - 7.03e-159) < 1e-4\n",
    "\n",
    "# несколько похожих скрытых тестов"
   ]
  },
  {
   "cell_type": "markdown",
   "metadata": {},
   "source": [
    "__[б]__ Оцените модель заново, исключив из неё переменную `capital` и добавив переменную `training:capital` (произведение столбцов). Значим ли коэффициент перед этой переменной на уровне значимости $5\\%$? "
   ]
  },
  {
   "cell_type": "code",
   "execution_count": null,
   "metadata": {
    "deletable": false,
    "nbgrader": {
     "cell_type": "code",
     "checksum": "d8b3c5e4a2d893b2a9ec04de295b65bf",
     "grade": false,
     "grade_id": "cell-6fc9a46448b3ee92",
     "locked": false,
     "schema_version": 3,
     "solution": true,
     "task": false
    }
   },
   "outputs": [],
   "source": [
    "### ╰( ͡° ͜ʖ ͡° )つ▬▬ι═══════  bzzzzzzzzzz\n",
    "# will the code be with you\n",
    "\n",
    "# your code here\n"
   ]
  },
  {
   "cell_type": "markdown",
   "metadata": {},
   "source": [
    "- На сколько в среднем,  при прочих равных условиях, увеличивыет объём продаж столичного менеджера? Запишите ответ в переменную `ans1`.\n",
    "- На сколько в среднем,  при прочих равных условиях, увеличивыет объём продаж менеджера не из столицы? Запишите ответ в переменную `ans2`."
   ]
  },
  {
   "cell_type": "code",
   "execution_count": null,
   "metadata": {
    "deletable": false,
    "nbgrader": {
     "cell_type": "code",
     "checksum": "739782c284dbf6a7ae6ad335d710ea00",
     "grade": false,
     "grade_id": "cell-225d2b4b1df7de9d",
     "locked": false,
     "schema_version": 3,
     "solution": true,
     "task": false
    }
   },
   "outputs": [],
   "source": [
    "ans1 = ...\n",
    "ans2 = ...\n",
    "\n",
    "# your code here\n"
   ]
  },
  {
   "cell_type": "code",
   "execution_count": null,
   "metadata": {
    "deletable": false,
    "editable": false,
    "nbgrader": {
     "cell_type": "code",
     "checksum": "6d74e7305b394b9a65f383d7c595332e",
     "grade": true,
     "grade_id": "cell-73c14915270808fc",
     "locked": true,
     "points": 1,
     "schema_version": 3,
     "solution": false,
     "task": false
    }
   },
   "outputs": [],
   "source": [
    "assert np.abs(ans2 - 15.7) < 1e-1\n",
    "\n",
    "# несколько похожих скрытых тестов"
   ]
  },
  {
   "cell_type": "markdown",
   "metadata": {},
   "source": [
    "__[в]__ Для модели, оценённой в пункте б) проведите тест Бреуша-Пагана на гетероскедастичность. Действительно ли она наблюдается ли она в остатках? "
   ]
  },
  {
   "cell_type": "code",
   "execution_count": null,
   "metadata": {
    "deletable": false,
    "nbgrader": {
     "cell_type": "code",
     "checksum": "a02cf384e224e1e932be4cc47c5ee849",
     "grade": false,
     "grade_id": "cell-41d5fed492ba5cd8",
     "locked": false,
     "schema_version": 3,
     "solution": true,
     "task": false
    }
   },
   "outputs": [],
   "source": [
    "### ╰( ͡° ͜ʖ ͡° )つ▬▬ι═══════  bzzzzzzzzzz\n",
    "# will the code be with you\n",
    "\n",
    "# your code here\n"
   ]
  },
  {
   "cell_type": "markdown",
   "metadata": {},
   "source": [
    "## Задание 2 (размер класса) \n",
    "\n",
    "Давайте попробуем проанализировать данные о том, как размер класса влияет на успеваемость учеников. Коррекцию HC3 в этом задании мы использовать не будем. \n",
    "\n",
    "__Описание переменных:__\n",
    "\n",
    "- `CLASS` - размер класса, в котором обучается школьник, воздействие именно этой переменной нас интересует \n",
    "- `EXPN` - средние расходы на одного школьника в школе, где он учится, измеренные в тысячах долларов в год\n",
    "- `INCOME` - средний доход на одного члена семьи в семие школьника, измеренный в тысячах долларов в год \n",
    "- `TEST` - результат итогового стандартизированного теста, который писали все школьники в конце учебного года, она характеризует качество обучения "
   ]
  },
  {
   "cell_type": "code",
   "execution_count": null,
   "metadata": {},
   "outputs": [],
   "source": [
    "df = pd.read_csv('study.tsv', sep='\\t')\n",
    "print(df.shape)\n",
    "df.head()"
   ]
  },
  {
   "cell_type": "code",
   "execution_count": null,
   "metadata": {},
   "outputs": [],
   "source": [
    "sns.pairplot(df);"
   ]
  },
  {
   "cell_type": "markdown",
   "metadata": {},
   "source": [
    "__[a]__ Оцените параметры модели \n",
    "\n",
    "$$\n",
    "TEST_i = \\beta_0 + \\beta_1 \\cdot CLASS_i + \\varepsilon_i\n",
    "$$\n",
    "\n",
    "Коррекцию на гетероскедастичность вводить не надо. "
   ]
  },
  {
   "cell_type": "code",
   "execution_count": null,
   "metadata": {
    "deletable": false,
    "nbgrader": {
     "cell_type": "code",
     "checksum": "ac9557b0e9f43f365241c3b1e0122c17",
     "grade": false,
     "grade_id": "cell-d9033f154a5b7e01",
     "locked": false,
     "schema_version": 3,
     "solution": true,
     "task": false
    }
   },
   "outputs": [],
   "source": [
    "### ╰( ͡° ͜ʖ ͡° )つ▬▬ι═══════  bzzzzzzzzzz\n",
    "# will the code be with you\n",
    "\n",
    "# your code here\n"
   ]
  },
  {
   "cell_type": "markdown",
   "metadata": {},
   "source": [
    "Значима ли переменная `CLASS`? В качестве ответ на вопрос вбейте получившееся значение $p$-value и получившееся значение коэффициента."
   ]
  },
  {
   "cell_type": "code",
   "execution_count": null,
   "metadata": {
    "deletable": false,
    "nbgrader": {
     "cell_type": "code",
     "checksum": "0be7219f6e7178a0c5a444dc1a61b155",
     "grade": false,
     "grade_id": "cell-fa8531f95cd582ab",
     "locked": false,
     "schema_version": 3,
     "solution": true,
     "task": false
    }
   },
   "outputs": [],
   "source": [
    "prob = ...\n",
    "beta = ...\n",
    "\n",
    "# your code here\n"
   ]
  },
  {
   "cell_type": "code",
   "execution_count": null,
   "metadata": {
    "deletable": false,
    "editable": false,
    "nbgrader": {
     "cell_type": "code",
     "checksum": "fd8769abe1dd4a964db94d50cf2dd576",
     "grade": true,
     "grade_id": "cell-77bc8b71cbd2ff68",
     "locked": true,
     "points": 1,
     "schema_version": 3,
     "solution": false,
     "task": false
    }
   },
   "outputs": [],
   "source": [
    "assert prob < 1e-10\n",
    "\n",
    "# несколько похожих скрытых тестов"
   ]
  },
  {
   "cell_type": "markdown",
   "metadata": {},
   "source": [
    "В получившемся уравнении коэффициент $\\beta_1$ можно проинтерпретировать так, что  каждый дополнительным человек в классе приводит к тому, что результат типичного школьника из этого класса снижается в среднем на $beta_1$ балла.\n",
    "\n",
    "> Мы можем так интерпретировать значение коэффициента, если выполняются предпослыки линейной регрессии. Например, первая предпослыка говорит о том, что мы должны были верно специфицировать модель. А что, если это не так и мы пропустили какую-нибудь переменную?"
   ]
  },
  {
   "cell_type": "markdown",
   "metadata": {},
   "source": [
    "__[б]__ Оцените уравнение \n",
    "\n",
    "$$\n",
    "TEST_i = \\beta_0 + \\beta_1 \\cdot CLASS_i + \\beta_2 \\cdot EXPN_i + \\varepsilon_i\n",
    "$$"
   ]
  },
  {
   "cell_type": "code",
   "execution_count": null,
   "metadata": {
    "deletable": false,
    "nbgrader": {
     "cell_type": "code",
     "checksum": "6e573e599d8eb1bbf58ab91e0b79018c",
     "grade": false,
     "grade_id": "cell-67ad004938dfa0b5",
     "locked": false,
     "schema_version": 3,
     "solution": true,
     "task": false
    }
   },
   "outputs": [],
   "source": [
    "### ╰( ͡° ͜ʖ ͡° )つ▬▬ι═══════  bzzzzzzzzzz\n",
    "# will the code be with you\n",
    "\n",
    "# your code here\n"
   ]
  },
  {
   "cell_type": "markdown",
   "metadata": {},
   "source": [
    "- Значимо ли уравнение в целом?  Запишите получившееся значение $F$-статистики для проверки этой гипотезы в переменную `f_stat`"
   ]
  },
  {
   "cell_type": "code",
   "execution_count": null,
   "metadata": {
    "deletable": false,
    "nbgrader": {
     "cell_type": "code",
     "checksum": "813c1599ef3f16e38d6dbb56ba4177f1",
     "grade": false,
     "grade_id": "cell-2609963b6fb1daf8",
     "locked": false,
     "schema_version": 3,
     "solution": true,
     "task": false
    }
   },
   "outputs": [],
   "source": [
    "f_stat = ...\n",
    "\n",
    "# your code here\n"
   ]
  },
  {
   "cell_type": "code",
   "execution_count": null,
   "metadata": {
    "deletable": false,
    "editable": false,
    "nbgrader": {
     "cell_type": "code",
     "checksum": "d1c2ca74a77397e589442d6e30d6e58d",
     "grade": true,
     "grade_id": "cell-c9e8ea9ef25f5580",
     "locked": true,
     "points": 1,
     "schema_version": 3,
     "solution": false,
     "task": false
    }
   },
   "outputs": [],
   "source": [
    "assert f_stat > 8\n",
    "\n",
    "# несколько похожих скрытых тестов"
   ]
  },
  {
   "cell_type": "markdown",
   "metadata": {},
   "source": [
    "Коэффициент перед переменной `CLASS` значимый, но он увеличился. По всей видимости, переменная `EXPN`, которую мы добавили, значимо влияет на результаты школьника. Кроме того, она коррелирует с `CLASS`. Когда мы не включаем её в модель, влияние этой переменной остаётся в случайной ошибке. Из-за этого возникает ковариация $Cov(CLASS_i, \\varepsilon_i)$. \n",
    "\n",
    "Такая проблема называется __эндогенностью.__ Она приводит к смещению и несостоятельности оценок коэффициентов. Когда мы добавили в модель переменную `EXPN`, мы устранили возникшее у нас смещение. "
   ]
  },
  {
   "cell_type": "markdown",
   "metadata": {},
   "source": [
    "__[в]__ А что, если у нас есть какие-то другие переменные, которые оказались в ошибке, но при этом коррелируют с `CLASS`? Оцените уравнение:\n",
    "\n",
    "$$\n",
    "TEST_i = \\beta_0 + \\beta_1 \\cdot CLASS_i + \\beta_2 \\cdot EXPN_i + \\beta_3 \\cdot INCOME + \\varepsilon_i\n",
    "$$"
   ]
  },
  {
   "cell_type": "code",
   "execution_count": null,
   "metadata": {
    "deletable": false,
    "nbgrader": {
     "cell_type": "code",
     "checksum": "d32368b036d918cff841d589569d9702",
     "grade": false,
     "grade_id": "cell-6469ad10816d0fe2",
     "locked": false,
     "schema_version": 3,
     "solution": true,
     "task": false
    }
   },
   "outputs": [],
   "source": [
    "### ╰( ͡° ͜ʖ ͡° )つ▬▬ι═══════  bzzzzzzzzzz\n",
    "# will the code be with you\n",
    "\n",
    "# your code here\n"
   ]
  },
  {
   "cell_type": "markdown",
   "metadata": {},
   "source": [
    "Обратите внимание, что значение перед переменной `CLASS` снова изменилось.\n",
    "\n",
    "Изначально нас волновал вопрос: __Влияет ли размер класса на успеваемость?__ По факту, нас интересует только коэффициент перед этой переменной. Чтобы получить для него хорошую оценку, нам нужно учитывать в нашей регрессии все существенные факторы (т.е. все коррелированные с интересущей нас переменной факторы, коэффициенты при которых в истинной модели регрессии отличны от нуля). Такие дополнительные переменные обычно называют __контрольными__. \n",
    "\n",
    "Иногда бывает так, что интересующая нас переменная связана с чем-то ненаблюдаемым. Например, в данной ситуации успешность людей может быть связана с их талантом. Если мы никак не учтем талант людей в модели, мы получим неверные выводы. В эконометрике существуют различные продвинутые методы, которые позволяют попытаться оценить модели, учитывающие такие факторы. \n",
    "\n",
    "В качестве учебника можно почитать, например, книгу \"Введение в эконометрику\" Филиппа Картаева. "
   ]
  },
  {
   "cell_type": "markdown",
   "metadata": {},
   "source": [
    "  "
   ]
  }
 ],
 "metadata": {
  "kernelspec": {
   "display_name": "Python 3",
   "language": "python",
   "name": "python3"
  },
  "language_info": {
   "codemirror_mode": {
    "name": "ipython",
    "version": 3
   },
   "file_extension": ".py",
   "mimetype": "text/x-python",
   "name": "python",
   "nbconvert_exporter": "python",
   "pygments_lexer": "ipython3",
   "version": "3.8.5"
  }
 },
 "nbformat": 4,
 "nbformat_minor": 4
}
