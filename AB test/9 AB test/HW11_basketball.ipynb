{
 "cells": [
  {
   "cell_type": "markdown",
   "metadata": {},
   "source": [
    "<center>\n",
    "<img src=\"logo.png\" height=\"900\"> \n",
    "</center>\n",
    "\n",
    "\n",
    "#  Береги уровень значимости с молоду \n",
    "\n",
    "В этой тетрадке мы будем работать с данными про Баскетбол. "
   ]
  },
  {
   "cell_type": "code",
   "execution_count": 1,
   "metadata": {},
   "outputs": [],
   "source": [
    "import numpy as np\n",
    "import pandas as pd\n",
    "from scipy import stats as sts\n",
    "import seaborn as sns\n",
    "import matplotlib.pyplot as plt\n",
    "\n",
    "plt.style.use('ggplot')\n",
    "%matplotlib inline"
   ]
  },
  {
   "cell_type": "markdown",
   "metadata": {},
   "source": [
    "В файле `basketball.tsv` лежит [статистика о штрафных бросках в играх в Баскетбол, собранная с сайта ESPN.com](https://www.kaggle.com/sebastianmantey/nba-free-throws)"
   ]
  },
  {
   "cell_type": "code",
   "execution_count": 2,
   "metadata": {},
   "outputs": [
    {
     "name": "stdout",
     "output_type": "stream",
     "text": [
      "(618019, 13)\n"
     ]
    },
    {
     "data": {
      "text/html": [
       "<div>\n",
       "<style scoped>\n",
       "    .dataframe tbody tr th:only-of-type {\n",
       "        vertical-align: middle;\n",
       "    }\n",
       "\n",
       "    .dataframe tbody tr th {\n",
       "        vertical-align: top;\n",
       "    }\n",
       "\n",
       "    .dataframe thead th {\n",
       "        text-align: right;\n",
       "    }\n",
       "</style>\n",
       "<table border=\"1\" class=\"dataframe\">\n",
       "  <thead>\n",
       "    <tr style=\"text-align: right;\">\n",
       "      <th></th>\n",
       "      <th>end_result</th>\n",
       "      <th>game</th>\n",
       "      <th>game_id</th>\n",
       "      <th>period</th>\n",
       "      <th>play</th>\n",
       "      <th>player</th>\n",
       "      <th>playoffs</th>\n",
       "      <th>score</th>\n",
       "      <th>season</th>\n",
       "      <th>shot_made</th>\n",
       "      <th>time</th>\n",
       "      <th>command</th>\n",
       "      <th>is_home</th>\n",
       "    </tr>\n",
       "  </thead>\n",
       "  <tbody>\n",
       "    <tr>\n",
       "      <th>0</th>\n",
       "      <td>106 - 114</td>\n",
       "      <td>PHX - LAL</td>\n",
       "      <td>261031013.0</td>\n",
       "      <td>1.0</td>\n",
       "      <td>Andrew Bynum makes free throw 1 of 2</td>\n",
       "      <td>Andrew Bynum</td>\n",
       "      <td>regular</td>\n",
       "      <td>0 - 1</td>\n",
       "      <td>2006 - 2007</td>\n",
       "      <td>1</td>\n",
       "      <td>11:45</td>\n",
       "      <td>LAL</td>\n",
       "      <td>False</td>\n",
       "    </tr>\n",
       "    <tr>\n",
       "      <th>1</th>\n",
       "      <td>106 - 114</td>\n",
       "      <td>PHX - LAL</td>\n",
       "      <td>261031013.0</td>\n",
       "      <td>1.0</td>\n",
       "      <td>Andrew Bynum makes free throw 2 of 2</td>\n",
       "      <td>Andrew Bynum</td>\n",
       "      <td>regular</td>\n",
       "      <td>0 - 2</td>\n",
       "      <td>2006 - 2007</td>\n",
       "      <td>1</td>\n",
       "      <td>11:45</td>\n",
       "      <td>LAL</td>\n",
       "      <td>False</td>\n",
       "    </tr>\n",
       "    <tr>\n",
       "      <th>2</th>\n",
       "      <td>106 - 114</td>\n",
       "      <td>PHX - LAL</td>\n",
       "      <td>261031013.0</td>\n",
       "      <td>1.0</td>\n",
       "      <td>Andrew Bynum makes free throw 1 of 2</td>\n",
       "      <td>Andrew Bynum</td>\n",
       "      <td>regular</td>\n",
       "      <td>18 - 12</td>\n",
       "      <td>2006 - 2007</td>\n",
       "      <td>1</td>\n",
       "      <td>7:26</td>\n",
       "      <td>LAL</td>\n",
       "      <td>False</td>\n",
       "    </tr>\n",
       "    <tr>\n",
       "      <th>3</th>\n",
       "      <td>106 - 114</td>\n",
       "      <td>PHX - LAL</td>\n",
       "      <td>261031013.0</td>\n",
       "      <td>1.0</td>\n",
       "      <td>Andrew Bynum misses free throw 2 of 2</td>\n",
       "      <td>Andrew Bynum</td>\n",
       "      <td>regular</td>\n",
       "      <td>18 - 12</td>\n",
       "      <td>2006 - 2007</td>\n",
       "      <td>0</td>\n",
       "      <td>7:26</td>\n",
       "      <td>LAL</td>\n",
       "      <td>False</td>\n",
       "    </tr>\n",
       "    <tr>\n",
       "      <th>4</th>\n",
       "      <td>106 - 114</td>\n",
       "      <td>PHX - LAL</td>\n",
       "      <td>261031013.0</td>\n",
       "      <td>1.0</td>\n",
       "      <td>Shawn Marion makes free throw 1 of 1</td>\n",
       "      <td>Shawn Marion</td>\n",
       "      <td>regular</td>\n",
       "      <td>21 - 12</td>\n",
       "      <td>2006 - 2007</td>\n",
       "      <td>1</td>\n",
       "      <td>7:18</td>\n",
       "      <td>PHX</td>\n",
       "      <td>True</td>\n",
       "    </tr>\n",
       "  </tbody>\n",
       "</table>\n",
       "</div>"
      ],
      "text/plain": [
       "  end_result       game      game_id  period  \\\n",
       "0  106 - 114  PHX - LAL  261031013.0     1.0   \n",
       "1  106 - 114  PHX - LAL  261031013.0     1.0   \n",
       "2  106 - 114  PHX - LAL  261031013.0     1.0   \n",
       "3  106 - 114  PHX - LAL  261031013.0     1.0   \n",
       "4  106 - 114  PHX - LAL  261031013.0     1.0   \n",
       "\n",
       "                                    play        player playoffs    score  \\\n",
       "0   Andrew Bynum makes free throw 1 of 2  Andrew Bynum  regular    0 - 1   \n",
       "1   Andrew Bynum makes free throw 2 of 2  Andrew Bynum  regular    0 - 2   \n",
       "2   Andrew Bynum makes free throw 1 of 2  Andrew Bynum  regular  18 - 12   \n",
       "3  Andrew Bynum misses free throw 2 of 2  Andrew Bynum  regular  18 - 12   \n",
       "4   Shawn Marion makes free throw 1 of 1  Shawn Marion  regular  21 - 12   \n",
       "\n",
       "        season  shot_made   time command  is_home  \n",
       "0  2006 - 2007          1  11:45     LAL    False  \n",
       "1  2006 - 2007          1  11:45     LAL    False  \n",
       "2  2006 - 2007          1   7:26     LAL    False  \n",
       "3  2006 - 2007          0   7:26     LAL    False  \n",
       "4  2006 - 2007          1   7:18     PHX     True  "
      ]
     },
     "execution_count": 2,
     "metadata": {},
     "output_type": "execute_result"
    }
   ],
   "source": [
    "df = pd.read_csv('data/basketball.tsv', sep='\\t')\n",
    "print(df.shape)\n",
    "df.head( )"
   ]
  },
  {
   "cell_type": "markdown",
   "metadata": {},
   "source": [
    "__Описание колонок:__\n",
    "\n",
    "* `end_result` - результат игры\n",
    "* `game` - какие команды играли, команда справа - хозяин площадки\n",
    "* `game_id` - уникальный id игры\n",
    "* `period` - период\n",
    "* `player` - имя игрока\n",
    "* `playoff` - тип игры\n",
    "* `score` - счёт после броска \n",
    "* `season` - сезон игры\n",
    "* `shot_made` - попал или не попал в кольцо при броске \n",
    "* `time` - время броска \n",
    "* `command` - предполагаемая команда игрока (колонка рассчитана по датасету)\n",
    "* `is_home` - домашний матч или в гостях"
   ]
  },
  {
   "cell_type": "markdown",
   "metadata": {},
   "source": [
    "# 1. Доля попаданий в корзину\n",
    "\n",
    "Немного посмотрим на наши данные. Ответьте на следующие вопросы и запишите ответы в соотвествующие переменные. \n",
    "\n",
    "Сколько уникальных игр было сыграно в течение всего периода, который есть в таблице (`ans1`)? Сколько в данных встречается уникальных игроков (`ans2`)?"
   ]
  },
  {
   "cell_type": "code",
   "execution_count": 5,
   "metadata": {
    "deletable": false,
    "nbgrader": {
     "cell_type": "code",
     "checksum": "fcd91e963e9224fcdec19f36ee797fad",
     "grade": false,
     "grade_id": "cell-b4435f7854617700",
     "locked": false,
     "schema_version": 3,
     "solution": true,
     "task": false
    }
   },
   "outputs": [
    {
     "name": "stdout",
     "output_type": "stream",
     "text": [
      "ans1 = 12874, ans2 = 1098\n"
     ]
    }
   ],
   "source": [
    "### ╰( ͡° ͜ʖ ͡° )つ▬▬ι═══════  bzzzzzzzzzz\n",
    "# will the code be with you\n",
    "\n",
    "# your code here\n",
    "ans1 = df['game_id'].nunique()\n",
    "ans2 = df['player'].nunique()\n",
    "print(f\"ans1 = {ans1}, ans2 = {ans2}\")"
   ]
  },
  {
   "cell_type": "code",
   "execution_count": 6,
   "metadata": {
    "deletable": false,
    "editable": false,
    "nbgrader": {
     "cell_type": "code",
     "checksum": "a723a44fd4dd9e0aaa57b62e3284570a",
     "grade": true,
     "grade_id": "cell-cb06cb14b49d9294",
     "locked": true,
     "points": 1,
     "schema_version": 3,
     "solution": false,
     "task": false
    }
   },
   "outputs": [],
   "source": [
    "# проверка того, что задание решено верно\n",
    "assert ans1 == 12874\n",
    "\n",
    "# Другие подобные тесты скрыты от вас"
   ]
  },
  {
   "cell_type": "markdown",
   "metadata": {},
   "source": [
    "Подсчитайте по каждому игроку статистику, связанную с тем, как часто он попадет в корзину при бросках:\n",
    "\n",
    "- Долю попаданий в корзину среди его бросков, $\\hat{p}$\n",
    "- Число бросков, которое было сделано игроком, $n$\n",
    "\n",
    "Среди игроков, которые сделали более ста бросков, найдите самого успешного. Запишите его в переменную `ans3`."
   ]
  },
  {
   "cell_type": "code",
   "execution_count": 10,
   "metadata": {
    "deletable": false,
    "nbgrader": {
     "cell_type": "code",
     "checksum": "c966b5b3d7f34c77ed16155e730bf2c4",
     "grade": false,
     "grade_id": "cell-87779d294c93adee",
     "locked": false,
     "schema_version": 3,
     "solution": true,
     "task": false
    }
   },
   "outputs": [
    {
     "name": "stdout",
     "output_type": "stream",
     "text": [
      "ans3 = Steve Nash\n"
     ]
    }
   ],
   "source": [
    "### ╰( ͡° ͜ʖ ͡° )つ▬▬ι═══════  bzzzzzzzzzz\n",
    "# will the code be with you\n",
    "\n",
    "\n",
    "# your code here\n",
    "player_stats = df.groupby('player').agg(\n",
    "    hit_rate=('shot_made', 'mean'),\n",
    "    shots_count=('shot_made', 'count')\n",
    ").reset_index()\n",
    "successful_players = player_stats[player_stats['shots_count'] > 100]\n",
    "ans3 = successful_players.loc[successful_players['hit_rate'].idxmax(), 'player']\n",
    "print(f\"ans3 = {ans3}\")"
   ]
  },
  {
   "cell_type": "code",
   "execution_count": 11,
   "metadata": {
    "deletable": false,
    "editable": false,
    "nbgrader": {
     "cell_type": "code",
     "checksum": "97a2ab1d690232a2a2ccf5f684d08f3f",
     "grade": true,
     "grade_id": "cell-c23ba5c55e6cc4dd",
     "locked": true,
     "points": 1,
     "schema_version": 3,
     "solution": false,
     "task": false
    }
   },
   "outputs": [],
   "source": [
    "# проверка того, что задание решено верно\n",
    "assert ans3.split(' ')[0][-1] == 'e'\n",
    "assert len(ans3.split(' ')[0]) == 5\n",
    "\n",
    "# Другие подобные тесты скрыты от вас"
   ]
  },
  {
   "cell_type": "markdown",
   "metadata": {},
   "source": [
    "Для поиска `ans4` и `ans5` используйте данные по игрокам, сделавшим более ста бросков.  \n",
    "\n",
    "Найдите медиану распределения доли попаданий, запишите её в переменную `ans4`. Найдите значение коэффициента асимметрии, запишите его в переменную `ans5`. Какое значение он принимает? Правда ли, что распределение этой переменной оказывается скошенным?\n",
    "\n",
    "Постройте гистограмму для доли попаданий игроков, нарисуйте на ней пунктирной линией медиану. Проинтерпретируйте то, что вы видите на рисунке.  "
   ]
  },
  {
   "cell_type": "code",
   "execution_count": 27,
   "metadata": {
    "deletable": false,
    "nbgrader": {
     "cell_type": "code",
     "checksum": "98d69d8be0eb7427c9c83063a34a98c4",
     "grade": false,
     "grade_id": "cell-24c206f331e13f7d",
     "locked": false,
     "schema_version": 3,
     "solution": true,
     "task": false
    }
   },
   "outputs": [
    {
     "data": {
      "image/png": "[encoded data removed]",
      "text/plain": [
       "<Figure size 1000x600 with 1 Axes>"
      ]
     },
     "metadata": {},
     "output_type": "display_data"
    }
   ],
   "source": [
    "### ╰( ͡° ͜ʖ ͡° )つ▬▬ι═══════  bzzzzzzzzzz\n",
    "# will the code be with you\n",
    "\n",
    "# your code here\n",
    "from scipy.stats import skew\n",
    "\n",
    "player_stats = df.groupby('player').agg(\n",
    "    hit_rate=('shot_made', 'mean'),\n",
    "    shots_count=('shot_made', 'count')\n",
    ").reset_index()\n",
    "active_players = player_stats[player_stats['shots_count'] > 100]\n",
    "ans4 = np.median(active_players['hit_rate'])\n",
    "ans5 = skew(active_players['hit_rate'])\n",
    "plt.figure(figsize=(10, 6))\n",
    "plt.hist(active_players['hit_rate'], bins=20, color='skyblue', edgecolor='black')\n",
    "plt.axvline(ans4, color='red', linestyle='--', linewidth=2, label=f'Медиана = {ans4:.2f}')\n",
    "plt.legend()\n",
    "plt.grid(True)\n",
    "plt.show()"
   ]
  },
  {
   "cell_type": "markdown",
   "metadata": {},
   "source": [
    "Распределение переменной оказывается действительно скошенным, по большей части в правую сторону."
   ]
  },
  {
   "cell_type": "code",
   "execution_count": 29,
   "metadata": {
    "deletable": false,
    "editable": false,
    "nbgrader": {
     "cell_type": "code",
     "checksum": "ee3c96e18a2df006230fa0866f88e259",
     "grade": true,
     "grade_id": "cell-b31917b8cb7ffd81",
     "locked": true,
     "points": 1,
     "schema_version": 3,
     "solution": false,
     "task": false
    }
   },
   "outputs": [],
   "source": [
    "# проверка того, что задание решено верно\n",
    "assert ans4 > 0.7\n",
    "assert ans5 < -1\n",
    "\n",
    "# Другие подобные тесты скрыты от вас"
   ]
  },
  {
   "cell_type": "markdown",
   "metadata": {},
   "source": [
    "# 2. Игры дома и в гостях\n",
    "\n",
    "Проанализируем, как часто игроки попадают в корзину дома и как часто в гостях. Подсчитайте доли попаданий в корзину в гостях и дома для всех ироков из выборки. Если для какого-то игрока оказывается, что он всегда играл только дома/только в гостях, удалите его из выборки.\n",
    "\n",
    "Проверьте гипотезу о равенстве этих долей для каждого игрока против двусторонней альтернативы. Число гипотез, которые отклоняются на уровне значимости $5\\%$,  запишите в переменную `ans6`. "
   ]
  },
  {
   "cell_type": "code",
   "execution_count": 45,
   "metadata": {
    "deletable": false,
    "nbgrader": {
     "cell_type": "code",
     "checksum": "8aecbd0de1a7391399e17ce5b7f2e7a6",
     "grade": false,
     "grade_id": "cell-928c46b9ef1c2626",
     "locked": false,
     "schema_version": 3,
     "solution": true,
     "task": false
    }
   },
   "outputs": [
    {
     "name": "stderr",
     "output_type": "stream",
     "text": [
      "C:\\Users\\zaits\\AppData\\Local\\Packages\\PythonSoftwareFoundation.Python.3.13_qbz5n2kfra8p0\\LocalCache\\local-packages\\Python313\\site-packages\\statsmodels\\stats\\weightstats.py:792: RuntimeWarning: invalid value encountered in scalar divide\n",
      "  zstat = value / std\n"
     ]
    },
    {
     "name": "stdout",
     "output_type": "stream",
     "text": [
      "ans6 = 70\n"
     ]
    }
   ],
   "source": [
    "### ╰( ͡° ͜ʖ ͡° )つ▬▬ι═══════  bzzzzzzzzzz\n",
    "# will the code be with you\n",
    "\n",
    "# your code here\n",
    "from statsmodels.stats.proportion import proportions_ztest\n",
    "import pandas as pd\n",
    "\n",
    "player_stats = df.groupby(['player', 'is_home'])['shot_made'].agg(\n",
    "    made=('sum'),\n",
    "    attempts=('count')\n",
    ").reset_index()\n",
    "player_stats['hit_rate'] = player_stats['made'] / player_stats['attempts']\n",
    "players_with_both = player_stats.groupby('player')['is_home'].nunique() == 2\n",
    "valid_players = player_stats[player_stats['player'].isin(players_with_both[players_with_both].index)]\n",
    "\n",
    "results = []\n",
    "for player in valid_players['player'].unique():\n",
    "    player_data = valid_players[valid_players['player'] == player]\n",
    "    if len(player_data) == 2:\n",
    "        home = player_data[player_data['is_home'] == 1]\n",
    "        away = player_data[player_data['is_home'] == 0]\n",
    "        \n",
    "        _, pval = proportions_ztest(\n",
    "            [home['made'].values[0], away['made'].values[0]],\n",
    "            [home['attempts'].values[0], away['attempts'].values[0]],\n",
    "            alternative='two-sided'\n",
    "        )\n",
    "        results.append({'player': player, 'pvalue': pval})\n",
    "\n",
    "results_df = pd.DataFrame(results)\n",
    "alpha = 0.05\n",
    "ans6 = (results_df['pvalue'] < alpha).sum()\n",
    "print(f\"ans6 = {ans6}\")"
   ]
  },
  {
   "cell_type": "code",
   "execution_count": 46,
   "metadata": {
    "deletable": false,
    "editable": false,
    "nbgrader": {
     "cell_type": "code",
     "checksum": "780760b1819ebb30ffd63334094e221d",
     "grade": true,
     "grade_id": "cell-9278a8cb8af65de0",
     "locked": true,
     "points": 1,
     "schema_version": 3,
     "solution": false,
     "task": false
    }
   },
   "outputs": [],
   "source": [
    "# проверка того, что задание решено верно\n",
    "assert ans6 < 100\n",
    "assert ans6 > 60\n",
    "\n",
    "# другие подобные тесты скрыты от вас"
   ]
  },
  {
   "cell_type": "markdown",
   "metadata": {},
   "source": [
    "Введите коррекцию с помощью метода Холма. Запишите число гипотез, которые были отклонены на уровне значимости $5\\%$, в переменную `ans7`."
   ]
  },
  {
   "cell_type": "code",
   "execution_count": 43,
   "metadata": {
    "deletable": false,
    "nbgrader": {
     "cell_type": "code",
     "checksum": "3be3235e4d233030d4b9e0d421a32f76",
     "grade": false,
     "grade_id": "cell-ee73ba62dee38bd6",
     "locked": false,
     "schema_version": 3,
     "solution": true,
     "task": false
    }
   },
   "outputs": [
    {
     "name": "stdout",
     "output_type": "stream",
     "text": [
      "ans7 = 0\n"
     ]
    }
   ],
   "source": [
    "### ╰( ͡° ͜ʖ ͡° )つ▬▬ι═══════  bzzzzzzzzzz\n",
    "# will the code be with you\n",
    "\n",
    "ans7 = ...\n",
    "# ans7 = (dff.pholm < 0.05).sum()\n",
    "\n",
    "# your code here\n",
    "from statsmodels.stats.multitest import multipletests\n",
    "\n",
    "rejected, pvals_corrected, _, _ = multipletests(\n",
    "    results_df['pvalue'], \n",
    "    alpha=0.05, \n",
    "    method='holm'\n",
    ")\n",
    "\n",
    "results_df['pvalue_holm'] = pvals_corrected\n",
    "results_df['rejected_holm'] = rejected\n",
    "ans7 = results_df['rejected_holm'].sum()\n",
    "print(f\"ans7 = {ans7}\")"
   ]
  },
  {
   "cell_type": "markdown",
   "metadata": {},
   "source": [
    "Введите коррекцию с помощью метода Бенжамини-Хохберга. Запишите число гипотез, которые были отклонены на уровне значимости $5\\%$, в переменную `ans8`."
   ]
  },
  {
   "cell_type": "code",
   "execution_count": 41,
   "metadata": {
    "deletable": false,
    "nbgrader": {
     "cell_type": "code",
     "checksum": "cfdfda7df508362f248a54068fbccd65",
     "grade": false,
     "grade_id": "cell-d42dbc44789006fc",
     "locked": false,
     "schema_version": 3,
     "solution": true,
     "task": false
    }
   },
   "outputs": [
    {
     "name": "stdout",
     "output_type": "stream",
     "text": [
      "ans8 = 0\n"
     ]
    }
   ],
   "source": [
    "### ╰( ͡° ͜ʖ ͡° )つ▬▬ι═══════  bzzzzzzzzzz\n",
    "# will the code be with you\n",
    "\n",
    "# your code here\n",
    "from statsmodels.stats.multitest import multipletests\n",
    "\n",
    "rejected_bh, pvals_bh, _, _ = multipletests(\n",
    "    results_df['pvalue'], \n",
    "    alpha=0.05, \n",
    "    method='fdr_bh'  # FDR = False Discovery Rate\n",
    ")\n",
    "\n",
    "results_df['pvalue_bh'] = pvals_bh\n",
    "results_df['rejected_bh'] = rejected_bh\n",
    "ans8 = results_df['rejected_bh'].sum()\n",
    "print(f\"ans8 = {ans8}\")"
   ]
  },
  {
   "cell_type": "code",
   "execution_count": 42,
   "metadata": {
    "deletable": false,
    "editable": false,
    "nbgrader": {
     "cell_type": "code",
     "checksum": "4d3555e920cadc7289733039637e10e6",
     "grade": true,
     "grade_id": "cell-3ea4e0ea82f2e37f",
     "locked": true,
     "points": 1,
     "schema_version": 3,
     "solution": false,
     "task": false
    }
   },
   "outputs": [],
   "source": [
    "# проверка того, что задание решено верно\n",
    "assert ans7 < 10\n",
    "assert ans8 < 10\n",
    "\n",
    "# другие подобные тесты скрыты от вас"
   ]
  },
  {
   "cell_type": "markdown",
   "metadata": {},
   "source": [
    "Объясните разницу, которую вы получили в количестве отклоненных гипотез. Предположим, что вы менеджер команды и вы хотите на основе статистики принять решение о том, какие игроки должны играть на поле в домашнем матче. Как вы будете его принимать? "
   ]
  },
  {
   "cell_type": "markdown",
   "metadata": {},
   "source": [
    "Метод Холма ограничивает вероятность совершения хотя бы одной ошибки первого рода, тогда как метод Бенджамини-Хохберга допускает некоторую вероятность ошибок первого рода, чтобы снизить количество ошибок второго рода. Для менеджера хуже ошибки второго рода. Если мы принимаем решение о том, какие игроки должны играть дома, выбираем игроков с наибольшей точностью и числом бросков, гипотезы о которых не метод Бенджамини-Хохберга."
   ]
  },
  {
   "cell_type": "markdown",
   "metadata": {},
   "source": [
    "Отсортируйте таблицу по `pvalue`, полученному из самого первого теста. Посмотрите на самые большие и самые маленькие значения. Какое число наблюдений им соотвествуте? Как думаете, почему гипотезы для маленького числа наблюдений не отвергаются? Как это связано с ЗБЧ? Можно ли доверять этим результатам? Как их можно было бы решить при предобработке данных? "
   ]
  },
  {
   "cell_type": "code",
   "execution_count": 66,
   "metadata": {
    "deletable": false,
    "nbgrader": {
     "cell_type": "code",
     "checksum": "93a37803b5dca0e79f08ec1e4950cd57",
     "grade": false,
     "grade_id": "cell-9c6ed6ac74b605e8",
     "locked": false,
     "schema_version": 3,
     "solution": true,
     "task": false
    }
   },
   "outputs": [
    {
     "data": {
      "text/html": [
       "<div>\n",
       "<style scoped>\n",
       "    .dataframe tbody tr th:only-of-type {\n",
       "        vertical-align: middle;\n",
       "    }\n",
       "\n",
       "    .dataframe tbody tr th {\n",
       "        vertical-align: top;\n",
       "    }\n",
       "\n",
       "    .dataframe thead th {\n",
       "        text-align: right;\n",
       "    }\n",
       "</style>\n",
       "<table border=\"1\" class=\"dataframe\">\n",
       "  <thead>\n",
       "    <tr style=\"text-align: right;\">\n",
       "      <th></th>\n",
       "      <th>player</th>\n",
       "      <th>pvalue</th>\n",
       "    </tr>\n",
       "  </thead>\n",
       "  <tbody>\n",
       "    <tr>\n",
       "      <th>405</th>\n",
       "      <td>Jahlil Okafor</td>\n",
       "      <td>0.000630</td>\n",
       "    </tr>\n",
       "    <tr>\n",
       "      <th>45</th>\n",
       "      <td>Andrew Bogut</td>\n",
       "      <td>0.000660</td>\n",
       "    </tr>\n",
       "    <tr>\n",
       "      <th>413</th>\n",
       "      <td>Jamario Moon</td>\n",
       "      <td>0.000700</td>\n",
       "    </tr>\n",
       "    <tr>\n",
       "      <th>288</th>\n",
       "      <td>Draymond Green</td>\n",
       "      <td>0.001474</td>\n",
       "    </tr>\n",
       "    <tr>\n",
       "      <th>493</th>\n",
       "      <td>John Henson</td>\n",
       "      <td>0.002118</td>\n",
       "    </tr>\n",
       "  </tbody>\n",
       "</table>\n",
       "</div>"
      ],
      "text/plain": [
       "             player    pvalue\n",
       "405   Jahlil Okafor  0.000630\n",
       "45     Andrew Bogut  0.000660\n",
       "413    Jamario Moon  0.000700\n",
       "288  Draymond Green  0.001474\n",
       "493     John Henson  0.002118"
      ]
     },
     "execution_count": 66,
     "metadata": {},
     "output_type": "execute_result"
    }
   ],
   "source": [
    "### ╰( ͡° ͜ʖ ͡° )つ▬▬ι═══════  bzzzzzzzzzz\n",
    "# will the code be with you\n",
    "\n",
    "# your code here\n",
    "sorted_results = results_df[results_df['pvalue'] >= 0].sort_values('pvalue')\n",
    "sorted_results.head()"
   ]
  },
  {
   "cell_type": "code",
   "execution_count": 67,
   "metadata": {},
   "outputs": [
    {
     "data": {
      "text/html": [
       "<div>\n",
       "<style scoped>\n",
       "    .dataframe tbody tr th:only-of-type {\n",
       "        vertical-align: middle;\n",
       "    }\n",
       "\n",
       "    .dataframe tbody tr th {\n",
       "        vertical-align: top;\n",
       "    }\n",
       "\n",
       "    .dataframe thead th {\n",
       "        text-align: right;\n",
       "    }\n",
       "</style>\n",
       "<table border=\"1\" class=\"dataframe\">\n",
       "  <thead>\n",
       "    <tr style=\"text-align: right;\">\n",
       "      <th></th>\n",
       "      <th>player</th>\n",
       "      <th>pvalue</th>\n",
       "    </tr>\n",
       "  </thead>\n",
       "  <tbody>\n",
       "    <tr>\n",
       "      <th>703</th>\n",
       "      <td>Mickell Gladness</td>\n",
       "      <td>1.0</td>\n",
       "    </tr>\n",
       "    <tr>\n",
       "      <th>675</th>\n",
       "      <td>Marshon Brooks</td>\n",
       "      <td>1.0</td>\n",
       "    </tr>\n",
       "    <tr>\n",
       "      <th>661</th>\n",
       "      <td>Marcus Vinicius</td>\n",
       "      <td>1.0</td>\n",
       "    </tr>\n",
       "    <tr>\n",
       "      <th>899</th>\n",
       "      <td>Slava Kravtsov</td>\n",
       "      <td>1.0</td>\n",
       "    </tr>\n",
       "    <tr>\n",
       "      <th>957</th>\n",
       "      <td>Tornike Shengelia</td>\n",
       "      <td>1.0</td>\n",
       "    </tr>\n",
       "  </tbody>\n",
       "</table>\n",
       "</div>"
      ],
      "text/plain": [
       "                player  pvalue\n",
       "703   Mickell Gladness     1.0\n",
       "675     Marshon Brooks     1.0\n",
       "661    Marcus Vinicius     1.0\n",
       "899     Slava Kravtsov     1.0\n",
       "957  Tornike Shengelia     1.0"
      ]
     },
     "execution_count": 67,
     "metadata": {},
     "output_type": "execute_result"
    }
   ],
   "source": [
    "sorted_results.tail()"
   ]
  },
  {
   "cell_type": "markdown",
   "metadata": {},
   "source": [
    "Гипотезы не отвергаются, так как это связано с ЗБЧ(при большом числе наблюдений значение сходится к реальному, при маленьком - могут быть колебания).\n",
    "Для малых выборок нельзя доверять результатам. Ситуацию можно улучшить, исключив игроков с малым числом наблюдений (добавить на это условие)."
   ]
  },
  {
   "cell_type": "markdown",
   "metadata": {},
   "source": [
    "# 3. Постоянство - признак мастерства\n",
    "\n",
    "__Решение задач из этого пункта является не обязательным и никак не влияет на вашу оценку.__ "
   ]
  },
  {
   "cell_type": "markdown",
   "metadata": {},
   "source": [
    "В наших данных есть несколько сезонов. Постройте гистограмму с распределением числа игр по каждому году. Видна ли на гистограмме [аномалия, произошедшая в $2011$ году?](https://en.wikipedia.org/wiki/2011_NBA_lockout) "
   ]
  },
  {
   "cell_type": "code",
   "execution_count": 72,
   "metadata": {
    "deletable": false,
    "nbgrader": {
     "cell_type": "code",
     "checksum": "83f0aa96e2e9416c9253e22b5868e8bb",
     "grade": false,
     "grade_id": "cell-d094853b80af3c0e",
     "locked": false,
     "schema_version": 3,
     "solution": true,
     "task": false
    }
   },
   "outputs": [
    {
     "data": {
      "text/html": [
       "<div>\n",
       "<style scoped>\n",
       "    .dataframe tbody tr th:only-of-type {\n",
       "        vertical-align: middle;\n",
       "    }\n",
       "\n",
       "    .dataframe tbody tr th {\n",
       "        vertical-align: top;\n",
       "    }\n",
       "\n",
       "    .dataframe thead th {\n",
       "        text-align: right;\n",
       "    }\n",
       "</style>\n",
       "<table border=\"1\" class=\"dataframe\">\n",
       "  <thead>\n",
       "    <tr style=\"text-align: right;\">\n",
       "      <th></th>\n",
       "      <th>season</th>\n",
       "      <th>game_count</th>\n",
       "    </tr>\n",
       "  </thead>\n",
       "  <tbody>\n",
       "    <tr>\n",
       "      <th>0</th>\n",
       "      <td>2006 - 2007</td>\n",
       "      <td>67612</td>\n",
       "    </tr>\n",
       "    <tr>\n",
       "      <th>1</th>\n",
       "      <td>2007 - 2008</td>\n",
       "      <td>65500</td>\n",
       "    </tr>\n",
       "    <tr>\n",
       "      <th>2</th>\n",
       "      <td>2008 - 2009</td>\n",
       "      <td>65355</td>\n",
       "    </tr>\n",
       "    <tr>\n",
       "      <th>3</th>\n",
       "      <td>2009 - 2010</td>\n",
       "      <td>64804</td>\n",
       "    </tr>\n",
       "    <tr>\n",
       "      <th>4</th>\n",
       "      <td>2010 - 2011</td>\n",
       "      <td>64137</td>\n",
       "    </tr>\n",
       "    <tr>\n",
       "      <th>5</th>\n",
       "      <td>2011 - 2012</td>\n",
       "      <td>48459</td>\n",
       "    </tr>\n",
       "    <tr>\n",
       "      <th>6</th>\n",
       "      <td>2012 - 2013</td>\n",
       "      <td>58376</td>\n",
       "    </tr>\n",
       "    <tr>\n",
       "      <th>7</th>\n",
       "      <td>2013 - 2014</td>\n",
       "      <td>62290</td>\n",
       "    </tr>\n",
       "    <tr>\n",
       "      <th>8</th>\n",
       "      <td>2014 - 2015</td>\n",
       "      <td>60131</td>\n",
       "    </tr>\n",
       "    <tr>\n",
       "      <th>9</th>\n",
       "      <td>2015 - 2016</td>\n",
       "      <td>61355</td>\n",
       "    </tr>\n",
       "  </tbody>\n",
       "</table>\n",
       "</div>"
      ],
      "text/plain": [
       "        season  game_count\n",
       "0  2006 - 2007       67612\n",
       "1  2007 - 2008       65500\n",
       "2  2008 - 2009       65355\n",
       "3  2009 - 2010       64804\n",
       "4  2010 - 2011       64137\n",
       "5  2011 - 2012       48459\n",
       "6  2012 - 2013       58376\n",
       "7  2013 - 2014       62290\n",
       "8  2014 - 2015       60131\n",
       "9  2015 - 2016       61355"
      ]
     },
     "metadata": {},
     "output_type": "display_data"
    },
    {
     "name": "stderr",
     "output_type": "stream",
     "text": [
      "C:\\Users\\zaits\\AppData\\Local\\Temp\\ipykernel_22720\\506305361.py:7: FutureWarning: \n",
      "\n",
      "Passing `palette` without assigning `hue` is deprecated and will be removed in v0.14.0. Assign the `x` variable to `hue` and set `legend=False` for the same effect.\n",
      "\n",
      "  sns.barplot(x=\"season\", y=\"game_count\", data=season_df, palette=\"plasma\").set(title=\"Count of games by season\")\n"
     ]
    },
    {
     "data": {
      "image/png": "[encoded data removed]",
      "text/plain": [
       "<Figure size 640x480 with 1 Axes>"
      ]
     },
     "metadata": {},
     "output_type": "display_data"
    }
   ],
   "source": [
    "### ╰( ͡° ͜ʖ ͡° )つ▬▬ι═══════  bzzzzzzzzzz\n",
    "# will the code be with you\n",
    "\n",
    "# your code here\n",
    "season_df = df.groupby(\"season\").agg(game_count=('game_id', 'count')).reset_index()\n",
    "display(season_df)\n",
    "sns.barplot(x=\"season\", y=\"game_count\", data=season_df, palette=\"plasma\").set(title=\"Count of games by season\")\n",
    "plt.show()"
   ]
  },
  {
   "cell_type": "markdown",
   "metadata": {},
   "source": [
    "- Посчитайте для каждого игрока по каждому сезону долю попаданий в кольцо и количество сделанных бросков. \n",
    "- Оставьте в данных только те строки, где было сделано как минимум сто бросков. Удалите колонку с количеством сделанных бросков. \n",
    "- Методом `unstack(\"player\")` вытащите индексы, отвечающие в группировке за игроков в названия столбцов. Методом `droplevel()` удалите все лишние заголовки таблицы.\n",
    "- Удалите из данных всех игроков, у которых пропущена статистика хотя бы по одному сезону."
   ]
  },
  {
   "cell_type": "code",
   "execution_count": 78,
   "metadata": {
    "deletable": false,
    "nbgrader": {
     "cell_type": "code",
     "checksum": "afa31623b09f133766b2d25563f8de3b",
     "grade": false,
     "grade_id": "cell-92ebaebe5ffce12f",
     "locked": false,
     "schema_version": 3,
     "solution": true,
     "task": false
    }
   },
   "outputs": [
    {
     "data": {
      "text/html": [
       "<div>\n",
       "<style scoped>\n",
       "    .dataframe tbody tr th:only-of-type {\n",
       "        vertical-align: middle;\n",
       "    }\n",
       "\n",
       "    .dataframe tbody tr th {\n",
       "        vertical-align: top;\n",
       "    }\n",
       "\n",
       "    .dataframe thead th {\n",
       "        text-align: right;\n",
       "    }\n",
       "</style>\n",
       "<table border=\"1\" class=\"dataframe\">\n",
       "  <thead>\n",
       "    <tr style=\"text-align: right;\">\n",
       "      <th>player</th>\n",
       "      <th>Al Jefferson</th>\n",
       "      <th>Andre Iguodala</th>\n",
       "      <th>Carmelo Anthony</th>\n",
       "      <th>Chris Bosh</th>\n",
       "      <th>Chris Paul</th>\n",
       "      <th>Deron Williams</th>\n",
       "      <th>Devin Harris</th>\n",
       "      <th>Dirk Nowitzki</th>\n",
       "      <th>Dwight Howard</th>\n",
       "      <th>Dwyane Wade</th>\n",
       "      <th>...</th>\n",
       "      <th>Manu Ginobili</th>\n",
       "      <th>Pau Gasol</th>\n",
       "      <th>Paul Millsap</th>\n",
       "      <th>Rudy Gay</th>\n",
       "      <th>Tim Duncan</th>\n",
       "      <th>Tony Allen</th>\n",
       "      <th>Tony Parker</th>\n",
       "      <th>Tyson Chandler</th>\n",
       "      <th>Zach Randolph</th>\n",
       "      <th>Zaza Pachulia</th>\n",
       "    </tr>\n",
       "    <tr>\n",
       "      <th>season</th>\n",
       "      <th></th>\n",
       "      <th></th>\n",
       "      <th></th>\n",
       "      <th></th>\n",
       "      <th></th>\n",
       "      <th></th>\n",
       "      <th></th>\n",
       "      <th></th>\n",
       "      <th></th>\n",
       "      <th></th>\n",
       "      <th></th>\n",
       "      <th></th>\n",
       "      <th></th>\n",
       "      <th></th>\n",
       "      <th></th>\n",
       "      <th></th>\n",
       "      <th></th>\n",
       "      <th></th>\n",
       "      <th></th>\n",
       "      <th></th>\n",
       "      <th></th>\n",
       "    </tr>\n",
       "  </thead>\n",
       "  <tbody>\n",
       "    <tr>\n",
       "      <th>2006 - 2007</th>\n",
       "      <td>0.681356</td>\n",
       "      <td>0.820327</td>\n",
       "      <td>0.806344</td>\n",
       "      <td>0.784790</td>\n",
       "      <td>0.816901</td>\n",
       "      <td>0.771883</td>\n",
       "      <td>0.817857</td>\n",
       "      <td>0.896610</td>\n",
       "      <td>0.576102</td>\n",
       "      <td>0.796364</td>\n",
       "      <td>...</td>\n",
       "      <td>0.855372</td>\n",
       "      <td>0.743655</td>\n",
       "      <td>0.672566</td>\n",
       "      <td>0.727273</td>\n",
       "      <td>0.638028</td>\n",
       "      <td>0.783582</td>\n",
       "      <td>0.758772</td>\n",
       "      <td>0.532663</td>\n",
       "      <td>0.820513</td>\n",
       "      <td>0.787466</td>\n",
       "    </tr>\n",
       "    <tr>\n",
       "      <th>2007 - 2008</th>\n",
       "      <td>0.720812</td>\n",
       "      <td>0.721311</td>\n",
       "      <td>0.789984</td>\n",
       "      <td>0.840796</td>\n",
       "      <td>0.839744</td>\n",
       "      <td>0.798742</td>\n",
       "      <td>0.823920</td>\n",
       "      <td>0.872910</td>\n",
       "      <td>0.585961</td>\n",
       "      <td>0.755839</td>\n",
       "      <td>...</td>\n",
       "      <td>0.865497</td>\n",
       "      <td>0.781116</td>\n",
       "      <td>0.661417</td>\n",
       "      <td>0.782748</td>\n",
       "      <td>0.712014</td>\n",
       "      <td>0.752688</td>\n",
       "      <td>0.722477</td>\n",
       "      <td>0.594855</td>\n",
       "      <td>0.771626</td>\n",
       "      <td>0.706897</td>\n",
       "    </tr>\n",
       "    <tr>\n",
       "      <th>2008 - 2009</th>\n",
       "      <td>0.738095</td>\n",
       "      <td>0.717813</td>\n",
       "      <td>0.800654</td>\n",
       "      <td>0.816856</td>\n",
       "      <td>0.867890</td>\n",
       "      <td>0.847059</td>\n",
       "      <td>0.819835</td>\n",
       "      <td>0.895312</td>\n",
       "      <td>0.601113</td>\n",
       "      <td>0.770335</td>\n",
       "      <td>...</td>\n",
       "      <td>0.884211</td>\n",
       "      <td>0.765921</td>\n",
       "      <td>0.688953</td>\n",
       "      <td>0.767442</td>\n",
       "      <td>0.686888</td>\n",
       "      <td>0.727273</td>\n",
       "      <td>0.776650</td>\n",
       "      <td>0.575540</td>\n",
       "      <td>0.733607</td>\n",
       "      <td>0.716912</td>\n",
       "    </tr>\n",
       "    <tr>\n",
       "      <th>2009 - 2010</th>\n",
       "      <td>0.680451</td>\n",
       "      <td>0.732558</td>\n",
       "      <td>0.832836</td>\n",
       "      <td>0.795645</td>\n",
       "      <td>0.847368</td>\n",
       "      <td>0.803030</td>\n",
       "      <td>0.797927</td>\n",
       "      <td>0.917981</td>\n",
       "      <td>0.580348</td>\n",
       "      <td>0.755348</td>\n",
       "      <td>...</td>\n",
       "      <td>0.869668</td>\n",
       "      <td>0.782027</td>\n",
       "      <td>0.692547</td>\n",
       "      <td>0.754386</td>\n",
       "      <td>0.685393</td>\n",
       "      <td>0.645161</td>\n",
       "      <td>0.732639</td>\n",
       "      <td>0.731250</td>\n",
       "      <td>0.778495</td>\n",
       "      <td>0.646707</td>\n",
       "    </tr>\n",
       "    <tr>\n",
       "      <th>2010 - 2011</th>\n",
       "      <td>0.759582</td>\n",
       "      <td>0.694268</td>\n",
       "      <td>0.837500</td>\n",
       "      <td>0.813725</td>\n",
       "      <td>0.868966</td>\n",
       "      <td>0.844660</td>\n",
       "      <td>0.833333</td>\n",
       "      <td>0.906200</td>\n",
       "      <td>0.603380</td>\n",
       "      <td>0.762305</td>\n",
       "      <td>...</td>\n",
       "      <td>0.861538</td>\n",
       "      <td>0.819706</td>\n",
       "      <td>0.757396</td>\n",
       "      <td>0.804979</td>\n",
       "      <td>0.710623</td>\n",
       "      <td>0.735426</td>\n",
       "      <td>0.767442</td>\n",
       "      <td>0.721180</td>\n",
       "      <td>0.770916</td>\n",
       "      <td>0.756219</td>\n",
       "    </tr>\n",
       "  </tbody>\n",
       "</table>\n",
       "<p>5 rows × 27 columns</p>\n",
       "</div>"
      ],
      "text/plain": [
       "player       Al Jefferson  Andre Iguodala  Carmelo Anthony  Chris Bosh  \\\n",
       "season                                                                   \n",
       "2006 - 2007      0.681356        0.820327         0.806344    0.784790   \n",
       "2007 - 2008      0.720812        0.721311         0.789984    0.840796   \n",
       "2008 - 2009      0.738095        0.717813         0.800654    0.816856   \n",
       "2009 - 2010      0.680451        0.732558         0.832836    0.795645   \n",
       "2010 - 2011      0.759582        0.694268         0.837500    0.813725   \n",
       "\n",
       "player       Chris Paul  Deron Williams  Devin Harris  Dirk Nowitzki  \\\n",
       "season                                                                 \n",
       "2006 - 2007    0.816901        0.771883      0.817857       0.896610   \n",
       "2007 - 2008    0.839744        0.798742      0.823920       0.872910   \n",
       "2008 - 2009    0.867890        0.847059      0.819835       0.895312   \n",
       "2009 - 2010    0.847368        0.803030      0.797927       0.917981   \n",
       "2010 - 2011    0.868966        0.844660      0.833333       0.906200   \n",
       "\n",
       "player       Dwight Howard  Dwyane Wade  ...  Manu Ginobili  Pau Gasol  \\\n",
       "season                                   ...                             \n",
       "2006 - 2007       0.576102     0.796364  ...       0.855372   0.743655   \n",
       "2007 - 2008       0.585961     0.755839  ...       0.865497   0.781116   \n",
       "2008 - 2009       0.601113     0.770335  ...       0.884211   0.765921   \n",
       "2009 - 2010       0.580348     0.755348  ...       0.869668   0.782027   \n",
       "2010 - 2011       0.603380     0.762305  ...       0.861538   0.819706   \n",
       "\n",
       "player       Paul Millsap  Rudy Gay  Tim Duncan  Tony Allen  Tony Parker  \\\n",
       "season                                                                     \n",
       "2006 - 2007      0.672566  0.727273    0.638028    0.783582     0.758772   \n",
       "2007 - 2008      0.661417  0.782748    0.712014    0.752688     0.722477   \n",
       "2008 - 2009      0.688953  0.767442    0.686888    0.727273     0.776650   \n",
       "2009 - 2010      0.692547  0.754386    0.685393    0.645161     0.732639   \n",
       "2010 - 2011      0.757396  0.804979    0.710623    0.735426     0.767442   \n",
       "\n",
       "player       Tyson Chandler  Zach Randolph  Zaza Pachulia  \n",
       "season                                                     \n",
       "2006 - 2007        0.532663       0.820513       0.787466  \n",
       "2007 - 2008        0.594855       0.771626       0.706897  \n",
       "2008 - 2009        0.575540       0.733607       0.716912  \n",
       "2009 - 2010        0.731250       0.778495       0.646707  \n",
       "2010 - 2011        0.721180       0.770916       0.756219  \n",
       "\n",
       "[5 rows x 27 columns]"
      ]
     },
     "execution_count": 78,
     "metadata": {},
     "output_type": "execute_result"
    }
   ],
   "source": [
    "### ╰( ͡° ͜ʖ ͡° )つ▬▬ι═══════  bzzzzzzzzzz\n",
    "# will the code be with you\n",
    "\n",
    "# your code here\n",
    "df_new = df.groupby(['player', 'season'])['shot_made'].agg(['count', 'sum']).reset_index()\n",
    "df_new['freak'] = df_new['sum'] / df_new['count']\n",
    "df_new = df_new[df_new['count'] >= 100]\n",
    "df_new = df_new.drop(columns=['count', 'sum'])\n",
    "df_unstacked = df_new.pivot(index='season', columns='player', values='freak')\n",
    "shooting_per_season = df_unstacked.dropna(axis=1)\n",
    "shooting_per_season.head()"
   ]
  },
  {
   "cell_type": "code",
   "execution_count": 79,
   "metadata": {},
   "outputs": [],
   "source": [
    "assert shooting_per_season.shape == (10, 27)"
   ]
  },
  {
   "cell_type": "markdown",
   "metadata": {},
   "source": [
    "Посчтитайте для всех игроков стандартное отклонение их доли попаданий в динамике по сезонам. "
   ]
  },
  {
   "cell_type": "code",
   "execution_count": 80,
   "metadata": {
    "deletable": false,
    "nbgrader": {
     "cell_type": "code",
     "checksum": "222e40b205ce660e5ac982b50dc1d831",
     "grade": false,
     "grade_id": "cell-9689c3c819cbb4d2",
     "locked": false,
     "schema_version": 3,
     "solution": true,
     "task": false
    }
   },
   "outputs": [
    {
     "data": {
      "text/html": [
       "<div>\n",
       "<style scoped>\n",
       "    .dataframe tbody tr th:only-of-type {\n",
       "        vertical-align: middle;\n",
       "    }\n",
       "\n",
       "    .dataframe tbody tr th {\n",
       "        vertical-align: top;\n",
       "    }\n",
       "\n",
       "    .dataframe thead th {\n",
       "        text-align: right;\n",
       "    }\n",
       "</style>\n",
       "<table border=\"1\" class=\"dataframe\">\n",
       "  <thead>\n",
       "    <tr style=\"text-align: right;\">\n",
       "      <th></th>\n",
       "      <th>player</th>\n",
       "      <th>freak std</th>\n",
       "    </tr>\n",
       "  </thead>\n",
       "  <tbody>\n",
       "    <tr>\n",
       "      <th>0</th>\n",
       "      <td>Luol Deng</td>\n",
       "      <td>0.014586</td>\n",
       "    </tr>\n",
       "    <tr>\n",
       "      <th>1</th>\n",
       "      <td>Kevin Martin</td>\n",
       "      <td>0.015665</td>\n",
       "    </tr>\n",
       "    <tr>\n",
       "      <th>2</th>\n",
       "      <td>Dirk Nowitzki</td>\n",
       "      <td>0.016183</td>\n",
       "    </tr>\n",
       "    <tr>\n",
       "      <th>3</th>\n",
       "      <td>Jarrett Jack</td>\n",
       "      <td>0.019644</td>\n",
       "    </tr>\n",
       "    <tr>\n",
       "      <th>4</th>\n",
       "      <td>Dwyane Wade</td>\n",
       "      <td>0.020733</td>\n",
       "    </tr>\n",
       "    <tr>\n",
       "      <th>5</th>\n",
       "      <td>Chris Bosh</td>\n",
       "      <td>0.020911</td>\n",
       "    </tr>\n",
       "    <tr>\n",
       "      <th>6</th>\n",
       "      <td>Carmelo Anthony</td>\n",
       "      <td>0.022007</td>\n",
       "    </tr>\n",
       "    <tr>\n",
       "      <th>7</th>\n",
       "      <td>LeBron James</td>\n",
       "      <td>0.025669</td>\n",
       "    </tr>\n",
       "    <tr>\n",
       "      <th>8</th>\n",
       "      <td>Jamal Crawford</td>\n",
       "      <td>0.027020</td>\n",
       "    </tr>\n",
       "    <tr>\n",
       "      <th>9</th>\n",
       "      <td>Chris Paul</td>\n",
       "      <td>0.027927</td>\n",
       "    </tr>\n",
       "    <tr>\n",
       "      <th>10</th>\n",
       "      <td>Joe Johnson</td>\n",
       "      <td>0.027987</td>\n",
       "    </tr>\n",
       "    <tr>\n",
       "      <th>11</th>\n",
       "      <td>Tony Parker</td>\n",
       "      <td>0.030896</td>\n",
       "    </tr>\n",
       "    <tr>\n",
       "      <th>12</th>\n",
       "      <td>Deron Williams</td>\n",
       "      <td>0.030991</td>\n",
       "    </tr>\n",
       "    <tr>\n",
       "      <th>13</th>\n",
       "      <td>Pau Gasol</td>\n",
       "      <td>0.033607</td>\n",
       "    </tr>\n",
       "    <tr>\n",
       "      <th>14</th>\n",
       "      <td>Rudy Gay</td>\n",
       "      <td>0.036775</td>\n",
       "    </tr>\n",
       "    <tr>\n",
       "      <th>15</th>\n",
       "      <td>LaMarcus Aldridge</td>\n",
       "      <td>0.040264</td>\n",
       "    </tr>\n",
       "    <tr>\n",
       "      <th>16</th>\n",
       "      <td>Paul Millsap</td>\n",
       "      <td>0.041012</td>\n",
       "    </tr>\n",
       "    <tr>\n",
       "      <th>17</th>\n",
       "      <td>Al Jefferson</td>\n",
       "      <td>0.044703</td>\n",
       "    </tr>\n",
       "    <tr>\n",
       "      <th>18</th>\n",
       "      <td>Tim Duncan</td>\n",
       "      <td>0.045220</td>\n",
       "    </tr>\n",
       "    <tr>\n",
       "      <th>19</th>\n",
       "      <td>Zach Randolph</td>\n",
       "      <td>0.047434</td>\n",
       "    </tr>\n",
       "    <tr>\n",
       "      <th>20</th>\n",
       "      <td>Devin Harris</td>\n",
       "      <td>0.047734</td>\n",
       "    </tr>\n",
       "    <tr>\n",
       "      <th>21</th>\n",
       "      <td>Manu Ginobili</td>\n",
       "      <td>0.050102</td>\n",
       "    </tr>\n",
       "    <tr>\n",
       "      <th>22</th>\n",
       "      <td>Dwight Howard</td>\n",
       "      <td>0.051989</td>\n",
       "    </tr>\n",
       "    <tr>\n",
       "      <th>23</th>\n",
       "      <td>Zaza Pachulia</td>\n",
       "      <td>0.053400</td>\n",
       "    </tr>\n",
       "    <tr>\n",
       "      <th>24</th>\n",
       "      <td>Tony Allen</td>\n",
       "      <td>0.059138</td>\n",
       "    </tr>\n",
       "    <tr>\n",
       "      <th>25</th>\n",
       "      <td>Tyson Chandler</td>\n",
       "      <td>0.067176</td>\n",
       "    </tr>\n",
       "    <tr>\n",
       "      <th>26</th>\n",
       "      <td>Andre Iguodala</td>\n",
       "      <td>0.086967</td>\n",
       "    </tr>\n",
       "  </tbody>\n",
       "</table>\n",
       "</div>"
      ],
      "text/plain": [
       "               player  freak std\n",
       "0           Luol Deng   0.014586\n",
       "1        Kevin Martin   0.015665\n",
       "2       Dirk Nowitzki   0.016183\n",
       "3        Jarrett Jack   0.019644\n",
       "4         Dwyane Wade   0.020733\n",
       "5          Chris Bosh   0.020911\n",
       "6     Carmelo Anthony   0.022007\n",
       "7        LeBron James   0.025669\n",
       "8      Jamal Crawford   0.027020\n",
       "9          Chris Paul   0.027927\n",
       "10        Joe Johnson   0.027987\n",
       "11        Tony Parker   0.030896\n",
       "12     Deron Williams   0.030991\n",
       "13          Pau Gasol   0.033607\n",
       "14           Rudy Gay   0.036775\n",
       "15  LaMarcus Aldridge   0.040264\n",
       "16       Paul Millsap   0.041012\n",
       "17       Al Jefferson   0.044703\n",
       "18         Tim Duncan   0.045220\n",
       "19      Zach Randolph   0.047434\n",
       "20       Devin Harris   0.047734\n",
       "21      Manu Ginobili   0.050102\n",
       "22      Dwight Howard   0.051989\n",
       "23      Zaza Pachulia   0.053400\n",
       "24         Tony Allen   0.059138\n",
       "25     Tyson Chandler   0.067176\n",
       "26     Andre Iguodala   0.086967"
      ]
     },
     "metadata": {},
     "output_type": "display_data"
    }
   ],
   "source": [
    "### ╰( ͡° ͜ʖ ͡° )つ▬▬ι═══════  bzzzzzzzzzz\n",
    "# will the code be with you\n",
    "\n",
    "# your code here\n",
    "df_new = df.groupby(['player',\"season\"])['shot_made'].agg(['count', 'sum']).reset_index()\n",
    "df_new['freak'] = df_new[\"sum\"] / df_new[\"count\"]\n",
    "df_new = df_new[df_new[\"count\"] > 100]\n",
    "seasons = set(df_new['season'].unique())\n",
    "players = df_new['player'].unique()\n",
    "\n",
    "df_new = df_new[df_new['player'] != player]\n",
    "for player in players:\n",
    "    if set(df_new[df_new['player'] == player]['season'].unique()) != seasons:\n",
    "        df_new = df_new[df_new['player'] != player]\n",
    "df_new = df_new.drop(columns=[\"count\", \"sum\"]).reset_index(drop = True)\n",
    "\n",
    "std_per_player = df_new.groupby('player')['freak'].std().reset_index(name='freak std')\n",
    "std_per_player = std_per_player.sort_values(by='freak std').reset_index(drop=True).dropna()\n",
    "display(std_per_player)"
   ]
  },
  {
   "cell_type": "markdown",
   "metadata": {},
   "source": [
    "Постройте для $3$ самых непредсказуемых игроков и для трёх самых предсказуемых игроков динамику доли их попаданий по сезонам (по оси $x$ сезоны, по оси $y$ доля попаданий). "
   ]
  },
  {
   "cell_type": "code",
   "execution_count": 84,
   "metadata": {
    "deletable": false,
    "nbgrader": {
     "cell_type": "code",
     "checksum": "be14af5187c7bd7f408b7b08c3121eaf",
     "grade": false,
     "grade_id": "cell-4e5a67d23397bb09",
     "locked": false,
     "schema_version": 3,
     "solution": true,
     "task": false
    }
   },
   "outputs": [
    {
     "data": {
      "image/png": "[encoded data removed]",
      "text/plain": [
       "<Figure size 1600x900 with 6 Axes>"
      ]
     },
     "metadata": {},
     "output_type": "display_data"
    }
   ],
   "source": [
    "### ╰( ͡° ͜ʖ ͡° )つ▬▬ι═══════  bzzzzzzzzzz\n",
    "# will the code be with you\n",
    "\n",
    "# your code here\n",
    "stable_players = [\"Luol Deng\", \"Kevin Martin\", \"Dirk Nowitzki\"]\n",
    "unstable_players = [\"Andre Iguodala\", \"Tyson Chandler\", \"Tony Allen\"]\n",
    "players = [stable_players, unstable_players]\n",
    "\n",
    "fig, axes = plt.subplots(2, 3, figsize=(16, 9))\n",
    "\n",
    "for i, stab_type in enumerate(players):\n",
    "    for j, player in enumerate(stab_type):\n",
    "        sns.barplot(x=\"season\",\n",
    "                    y=\"freak\",\n",
    "                    data=df_new[df_new['player'] == player],\n",
    "                    ax=axes[i][j],\n",
    "                    hue=\"season\",\n",
    "                    palette=\"mako\",\n",
    "                    legend=False).set(title=player)\n"
   ]
  },
  {
   "cell_type": "markdown",
   "metadata": {},
   "source": [
    "Каких игроков из представленных вы бы предпочли взять к себе в команду? Кому бы вы предпочли доверить делать штрафные броски? Почему? \n",
    "Я бы доверил это Kevin Martin, так как у него статистика лучше чем у остальных (доля забитых голов) и потому что он входит в топ самых предсказуемых игроков."
   ]
  },
  {
   "cell_type": "markdown",
   "metadata": {},
   "source": [
    "# 4. Эффект победителя\n",
    "\n",
    "__Решение задач из этого пункта является не обязательным и никак не влияет на вашу оценку.__ \n",
    "\n",
    "__Гипотеза:__\n",
    "\n",
    "> Если мы попали в корзину, сделав первый штрафной бросок, вероятность попасть при втором штрафном выше, чем если бы мы промахнулись.\n",
    "\n",
    "Проверим эту гипотезу. \n",
    "\n",
    "- Создадим в исходной таблице колонку `shot_made_previous` методом `shift()`. В ней будет записан результат предыдущего броска. Данные отсортированы по времени.\n",
    "- Извлечём из данных в таблицу `winner_effect` все строки, где в колонке `play` находится одна из записей: `\"2 of 2\", \"2 of 3\", \"3 of 3\"`. Каждая из них означает, что предыдущий бросок был сделан успешно. Этот же срез выбросит из таблицы все строки, где сдвиг, сделанный в предыдущем пункте, привёл к появлению некорректных записей.  "
   ]
  },
  {
   "cell_type": "code",
   "execution_count": null,
   "metadata": {},
   "outputs": [],
   "source": [
    "df[\"shot_made_previous\"] = df.shot_made.shift()\n",
    "\n",
    "winner_effect = df[(df.play.str.contains(\"2 of 2\")) | \\\n",
    "                   (df.play.str.contains(\"2 of 3\")) | \n",
    "                   (df.play.str.contains(\"3 of 3\"))]"
   ]
  },
  {
   "cell_type": "markdown",
   "metadata": {},
   "source": [
    "По аналогии с пунктом $2$ найдите вероятность попасть в корзину при условии, что первый бросок был успешен, и вероятность попасть, при условии, что первый бросок был неуспешен. \n",
    "\n",
    "- Всех игроков с оценкой только одной из вероятностей удалите из данных.\n",
    "- Всех игроков, у которых было меньше $10$ успешных первых бросков либо проваленных первых бросков, также удалите.\n",
    "\n",
    "Для каждого игрока проверьте гипотезу о том, что эти две вероятности совпадают. Используйте уровень значимости $5\\%$. Для коррекции уровня значимости используйте методы Холма и Бенжамини-Хохберга. Для скольких игроков гипотеза об эффекте победителя не отвергается?"
   ]
  },
  {
   "cell_type": "code",
   "execution_count": null,
   "metadata": {
    "deletable": false,
    "nbgrader": {
     "cell_type": "code",
     "checksum": "f3a2223525a1ba70897c1117bbe35506",
     "grade": false,
     "grade_id": "cell-5dcff4f9598ae49b",
     "locked": false,
     "schema_version": 3,
     "solution": true,
     "task": false
    }
   },
   "outputs": [],
   "source": []
  },
  {
   "cell_type": "code",
   "execution_count": null,
   "metadata": {
    "deletable": false,
    "nbgrader": {
     "cell_type": "code",
     "checksum": "6bf9da40aa6cdff3f3f7957dd28a20a4",
     "grade": false,
     "grade_id": "cell-640ac09692c87082",
     "locked": false,
     "schema_version": 3,
     "solution": true,
     "task": false
    }
   },
   "outputs": [],
   "source": [
    "### ╰( ͡° ͜ʖ ͡° )つ▬▬ι═══════  bzzzzzzzzzz\n",
    "# will the code be with you\n",
    "\n",
    "# your code here\n"
   ]
  },
  {
   "cell_type": "markdown",
   "metadata": {},
   "source": [
    "Посмотрите на таблицу значимых по Бенжамини-Хохбергу эффектов. Какие из них на ваш взгляд являются существенными? Не допустили ли мы в этих ситуациях ошибку второго рода?"
   ]
  },
  {
   "cell_type": "code",
   "execution_count": null,
   "metadata": {
    "deletable": false,
    "nbgrader": {
     "cell_type": "code",
     "checksum": "871906201165c12d62a93f996b123bd7",
     "grade": false,
     "grade_id": "cell-9c851e54f8bbeca9",
     "locked": false,
     "schema_version": 3,
     "solution": true,
     "task": false
    }
   },
   "outputs": [],
   "source": [
    "### ╰( ͡° ͜ʖ ͡° )つ▬▬ι═══════  bzzzzzzzzzz\n",
    "# will the code be with you\n",
    "\n",
    "# your code here\n"
   ]
  }
 ],
 "metadata": {
  "kernelspec": {
   "display_name": "Python 3 (ipykernel)",
   "language": "python",
   "name": "python3"
  },
  "language_info": {
   "codemirror_mode": {
    "name": "ipython",
    "version": 3
   },
   "file_extension": ".py",
   "mimetype": "text/x-python",
   "name": "python",
   "nbconvert_exporter": "python",
   "pygments_lexer": "ipython3",
   "version": "3.13.3"
  }
 },
 "nbformat": 4,
 "nbformat_minor": 4
}
