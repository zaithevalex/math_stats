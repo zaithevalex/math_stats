{
 "cells": [
  {
   "cell_type": "markdown",
   "metadata": {},
   "source": [
    "<center>\n",
    "<img src=\"logo.png\" height=\"900\"> \n",
    "</center>\n",
    "\n",
    "\n",
    "#  Ошибки, которые мы совершаем\n",
    "\n",
    "В этой тетрадке мы: \n",
    "\n",
    "- оценим ошибки первого и второго рода для теста о доле с помощью симуляций (его мы применяли для Джеймса Бонда)\n",
    "- посмотрим на то, как можно рассчитать число наблюдений необходимое для конкретных величин ошибок"
   ]
  },
  {
   "cell_type": "code",
   "execution_count": 2,
   "metadata": {},
   "outputs": [],
   "source": [
    "import numpy as np\n",
    "import pandas as pd\n",
    "import seaborn as sns\n",
    "import matplotlib.pyplot as plt\n",
    "from scipy import stats\n",
    "\n",
    "from tqdm.notebook import tqdm\n",
    "\n",
    "plt.style.use('ggplot')\n",
    "%matplotlib inline"
   ]
  },
  {
   "cell_type": "markdown",
   "metadata": {},
   "source": [
    "# 1. Симулируем ошибки 1 и 2 рода \n",
    "\n",
    "Проверка гипотезы о равенстве доли $p = 0.5$  на уровне значимости $\\alpha$.\n",
    "\n",
    "$$\n",
    "\\begin{aligned}\n",
    "&H_0: \\hspace{2mm} p = 0.5 \\\\\n",
    "&H_1: \\hspace{2mm} p > 0.5 \n",
    "\\end{aligned}\n",
    "$$"
   ]
  },
  {
   "cell_type": "code",
   "execution_count": 3,
   "metadata": {},
   "outputs": [],
   "source": [
    "def prop_asy_test(x, p0=0.5, alpha=0.05):\n",
    "    p = x.mean()\n",
    "    z_obs = (p - p0)/np.sqrt(p0*(1-p0)/x.size)\n",
    "    pval = 1 - stats.norm.cdf(z_obs)  # p-value\n",
    "    return pval"
   ]
  },
  {
   "cell_type": "markdown",
   "metadata": {},
   "source": [
    "__Уровень значимости (ошибка первого рода)__ - вероятность отвергнуть гипотезу $H_0$, когда она верна. Попробуем с помощью симуляций вычислить её для проверки гипотезы о среднем.\n",
    "\n",
    "Когда мы проверяем гипотезу, мы фиксируем уровень значимости. Давайте убедимся, что он действительно оказывается таким, каким мы его зафиксировали."
   ]
  },
  {
   "cell_type": "code",
   "execution_count": 4,
   "metadata": {},
   "outputs": [
    {
     "data": {
      "application/vnd.jupyter.widget-view+json": {
       "model_id": "d0eacdd5b68540fc8bc7e744f3c58ca8",
       "version_major": 2,
       "version_minor": 0
      },
      "text/plain": [
       "HBox(children=(FloatProgress(value=0.0, max=100000.0), HTML(value='')))"
      ]
     },
     "metadata": {},
     "output_type": "display_data"
    },
    {
     "name": "stdout",
     "output_type": "stream",
     "text": [
      "\n"
     ]
    }
   ],
   "source": [
    "n_obs = 10**5 \n",
    "res = np.zeros(n_obs)\n",
    "\n",
    "bern_rv = stats.bernoulli(p=0.5)\n",
    "\n",
    "for i in tqdm(range(n_obs)):\n",
    "    x = bern_rv.rvs(100)\n",
    "    res[i] = prop_asy_test(x)"
   ]
  },
  {
   "cell_type": "code",
   "execution_count": 5,
   "metadata": {},
   "outputs": [
    {
     "data": {
      "text/plain": [
       "0.04434"
      ]
     },
     "execution_count": 5,
     "metadata": {},
     "output_type": "execute_result"
    }
   ],
   "source": [
    "np.mean(res < 0.05) "
   ]
  },
  {
   "cell_type": "markdown",
   "metadata": {},
   "source": [
    "__Ошибка второго рода__ - вероятность не отвергнуть гипотезу $H_0$, когда она неверна.\n",
    "\n",
    "Ошибку второго рода мы минимизируем по остаточному принципу. Давайте узнаем какого размера она в нашем эксперименте."
   ]
  },
  {
   "cell_type": "code",
   "execution_count": 6,
   "metadata": {},
   "outputs": [
    {
     "data": {
      "application/vnd.jupyter.widget-view+json": {
       "model_id": "065012c2476641448bc5484fe51fdb52",
       "version_major": 2,
       "version_minor": 0
      },
      "text/plain": [
       "HBox(children=(FloatProgress(value=0.0, max=100000.0), HTML(value='')))"
      ]
     },
     "metadata": {},
     "output_type": "display_data"
    },
    {
     "name": "stdout",
     "output_type": "stream",
     "text": [
      "\n"
     ]
    }
   ],
   "source": [
    "n_obs = 10**5 \n",
    "res = np.zeros(n_obs)\n",
    "\n",
    "bern_rv = stats.bernoulli(p=0.6)\n",
    "\n",
    "for i in tqdm(range(n_obs)):\n",
    "    x = bern_rv.rvs(100)\n",
    "    res[i] = prop_asy_test(x)"
   ]
  },
  {
   "cell_type": "code",
   "execution_count": 7,
   "metadata": {},
   "outputs": [
    {
     "data": {
      "text/plain": [
       "0.37817"
      ]
     },
     "execution_count": 7,
     "metadata": {},
     "output_type": "execute_result"
    }
   ],
   "source": [
    "np.mean(res > 0.05)"
   ]
  },
  {
   "cell_type": "markdown",
   "metadata": {},
   "source": [
    "Ошибка второго рода зашкаливает. Если увеличить число наблюдений, она уменьшится. Давайте научимся подбирать число наблюдений так, чтобы ошибка второго рода была такой, какой мы хотим. "
   ]
  },
  {
   "cell_type": "markdown",
   "metadata": {},
   "source": [
    "# 2. Ошибка 2 рода и число наблюдений\n",
    "\n",
    "__В предыдущем видео, на доске мы вывели формулу, описывающую как ошибка второго рода зависит от числа наблюдений и ошибки первого рода.__ Давайте немного подробнее посмотрим как эти три величины зависят друг от друга. \n",
    "\n",
    "\n",
    "Для простой альтернативы $(p = p_a)$:\n",
    "\n",
    "$$\n",
    "\\beta = \\Phi \\left( \\frac{\\sqrt{\\frac{p_0 \\cdot (1 - p_0)}{n}}}{\\sqrt{\\frac{p_a \\cdot (1 - p_a)}{n}}} \\cdot z_{1 - \\alpha} +  \\frac{p_0 - p_a}{\\sqrt{\\frac{p_a \\cdot (1 - p_a)}{n}}} \\right),\n",
    "$$\n",
    "\n",
    "где $\\Phi(x)$ - функция распределения для $N(0,1)$. Нарисуем это."
   ]
  },
  {
   "cell_type": "code",
   "execution_count": 8,
   "metadata": {},
   "outputs": [],
   "source": [
    "alpha = np.arange(0,1,0.001)[1:]       # уровень значимости, который мы фиксируем\n",
    "z_alpha = stats.norm().ppf(1 - alpha)  # разные критические значения\n",
    "\n",
    "# наша ситуация\n",
    "p0 = 0.5\n",
    "pa = 0.6  # если изменить алтернативу, кривые изменятся\n",
    "n = 100   # если выборка больше, гипотезы более различимы\n",
    "\n",
    "sd0 = np.sqrt(p0*(1-p0)/n)\n",
    "sda = np.sqrt(pa*(1-pa)/n)\n",
    "\n",
    "beta = stats.norm().cdf(sd0/sda * z_alpha + (p0 - pa)/sda)"
   ]
  },
  {
   "cell_type": "code",
   "execution_count": 9,
   "metadata": {},
   "outputs": [
    {
     "data": {
      "image/png": "[encoded data removed]",
      "text/plain": [
       "<Figure size 720x360 with 1 Axes>"
      ]
     },
     "metadata": {
      "needs_background": "light"
     },
     "output_type": "display_data"
    }
   ],
   "source": [
    "plt.figure(figsize = (10, 5))\n",
    "\n",
    "plt.plot(alpha, beta)\n",
    "plt.title(r\"Зависимость ошибки второго рода от ошибки первого рода\", fontsize=18)\n",
    "plt.xlabel(r\"Ошибка первого рода\")\n",
    "plt.ylabel(r\"Ошибка второго рода\");"
   ]
  },
  {
   "cell_type": "markdown",
   "metadata": {},
   "source": [
    "Посмотрим на то как ошибки зависят друг от друга в зависимости от выбора критического значения."
   ]
  },
  {
   "cell_type": "code",
   "execution_count": 10,
   "metadata": {},
   "outputs": [
    {
     "data": {
      "image/png": "[encoded data removed]",
      "text/plain": [
       "<Figure size 720x360 with 1 Axes>"
      ]
     },
     "metadata": {
      "needs_background": "light"
     },
     "output_type": "display_data"
    }
   ],
   "source": [
    "plt.figure(figsize = (10, 5))\n",
    "\n",
    "plt.plot(z_alpha, alpha, label = r\"Ошибка первого рода\")\n",
    "plt.plot(z_alpha, beta, label = r\"Ошибка второго рода\")\n",
    "plt.title(r\"Зависимость ошибок от критического значения\", fontsize=18)\n",
    "\n",
    "plt.xlabel(r\"Критическое значение\")\n",
    "plt.ylabel(r\"Ошибка\")\n",
    "plt.legend();"
   ]
  },
  {
   "cell_type": "markdown",
   "metadata": {},
   "source": [
    "> __Выводы:__ Видно, что ошибка первого и второго рода взаимосвязаны. Чем ниже ошибка первого рода, тем выше ошибка второго рода. Чем выше критическое значение, тем ниже ошибка первого рода, но тем выще ошибка второго рода. Между этими двумя ошибками надо искать баланс. \n",
    "\n",
    "Посмотрим на конкретную величину $\\beta$ при $\\alpha = 0.05$. И наоборот. "
   ]
  },
  {
   "cell_type": "code",
   "execution_count": 11,
   "metadata": {},
   "outputs": [
    {
     "data": {
      "text/plain": [
       "array([0.35850051])"
      ]
     },
     "execution_count": 11,
     "metadata": {},
     "output_type": "execute_result"
    }
   ],
   "source": [
    "beta[alpha == 0.05]"
   ]
  },
  {
   "cell_type": "code",
   "execution_count": 12,
   "metadata": {},
   "outputs": [
    {
     "data": {
      "text/plain": [
       "0.34900000000000003"
      ]
     },
     "execution_count": 12,
     "metadata": {},
     "output_type": "execute_result"
    }
   ],
   "source": [
    "ind = np.argmin(np.abs(beta - 0.05)) # beta наиболее близкая к 5%\n",
    "alpha[ind]"
   ]
  },
  {
   "cell_type": "markdown",
   "metadata": {},
   "source": [
    "Если мы увеличим количество наблюдений, ошибка второго рода уменьшится. На доске мы вывели формулу, по которой это происходит: \n",
    "\n",
    "$$\n",
    "n = \\left( \\frac{\\sqrt{p_0 \\cdot (1 - p_0) } \\cdot z_{1 - \\alpha} + \\sqrt{p_a \\cdot (1 - p_a) } \\cdot z_{1 - \\beta} }{p_a - p_0}  \\right)^2\n",
    "$$\n",
    "\n",
    "Напишем функцию, которая по конкретным $p_a$, $\\alpha$ и $\\beta$ говорит нам сколько наблюдений нужно собрать."
   ]
  },
  {
   "cell_type": "code",
   "execution_count": 13,
   "metadata": {},
   "outputs": [],
   "source": [
    "def find_n(p0, pa, alpha=0.05, beta=0.05):\n",
    "    za = stats.norm().ppf(1 - alpha)\n",
    "    zb = stats.norm().ppf(1 - beta)\n",
    "    sn = (np.sqrt(p0*(1 - p0))* za + np.sqrt(pa*(1 - pa))* zb)/(pa - p0)\n",
    "    return sn**2"
   ]
  },
  {
   "cell_type": "code",
   "execution_count": 14,
   "metadata": {},
   "outputs": [
    {
     "data": {
      "text/plain": [
       "265.11564803989296"
      ]
     },
     "execution_count": 14,
     "metadata": {},
     "output_type": "execute_result"
    }
   ],
   "source": [
    "find_n(0.5, 0.6, alpha=0.05, beta=0.05)"
   ]
  },
  {
   "cell_type": "code",
   "execution_count": 15,
   "metadata": {},
   "outputs": [
    {
     "data": {
      "text/plain": [
       "530.3104250795232"
      ]
     },
     "execution_count": 15,
     "metadata": {},
     "output_type": "execute_result"
    }
   ],
   "source": [
    "find_n(0.5, 0.6, alpha=0.01, beta=0.01)"
   ]
  },
  {
   "cell_type": "code",
   "execution_count": 16,
   "metadata": {},
   "outputs": [
    {
     "data": {
      "text/plain": [
       "54108.11998038348"
      ]
     },
     "execution_count": 16,
     "metadata": {},
     "output_type": "execute_result"
    }
   ],
   "source": [
    "find_n(0.5, 0.51, alpha=0.01, beta=0.01)"
   ]
  },
  {
   "cell_type": "markdown",
   "metadata": {},
   "source": [
    "- Чем меньше ошибки 1/2 рода, тем больше наблюдений нам нужно\n",
    "- Чем ниже размер эффекта, который мы хотим детектировать $p_0 - p_a$, тем больше наблюдений нам нужно"
   ]
  },
  {
   "cell_type": "markdown",
   "metadata": {},
   "source": [
    "__Ситуация:__ \n",
    "\n",
    "Менеджер Алексей хочет проверить правда ли Джеймс Бонд отличает взболтанный мартини от смешанного. Алексей полагает, что если Бонд правда умеет различать напитки, то размер эффекта должен быть как минимум $0.2$. Алексей хотел бы получить ошибки первого и второго рода равные 1%. Сколько наблюдений ему нужно? "
   ]
  },
  {
   "cell_type": "code",
   "execution_count": 17,
   "metadata": {},
   "outputs": [
    {
     "data": {
      "text/plain": [
       "124.23782566566618"
      ]
     },
     "execution_count": 17,
     "metadata": {},
     "output_type": "execute_result"
    }
   ],
   "source": [
    "find_n(0.5, 0.7, alpha=0.01, beta=0.01)"
   ]
  },
  {
   "cell_type": "markdown",
   "metadata": {},
   "source": [
    "На практике перед запуском эксперимента обычно готовят табличку, в которой смотрят на то, сколько наблюдений понадобится для поиска эффекта разного размера при разных значениях ошибок первого и второго рода. Подробнее это мы обсудим, когда будем говорить про АБ-тесты. "
   ]
  },
  {
   "cell_type": "markdown",
   "metadata": {},
   "source": [
    "# Выводы:\n",
    "\n",
    "- Ошибка 1 и 2 рода конфликтуют друг с другом. Обычно когда понижаешь одну из ошибок, растёт другая. \n",
    "- Зная как вычисляется ошибка второго рода, можно прикидывать сколько нам надо собрать наблюдений, чтобы та оказалась меньше некоторого порога.\n",
    "- __Борьба за мощность:__ найти тест, обладающей наибольшей мощностью (наименьшей ошибкой второго рода) при фиксированной ошибке первого рода"
   ]
  },
  {
   "cell_type": "markdown",
   "metadata": {},
   "source": [
    "   "
   ]
  }
 ],
 "metadata": {
  "kernelspec": {
   "display_name": "Python 3",
   "language": "python",
   "name": "python3"
  },
  "language_info": {
   "codemirror_mode": {
    "name": "ipython",
    "version": 3
   },
   "file_extension": ".py",
   "mimetype": "text/x-python",
   "name": "python",
   "nbconvert_exporter": "python",
   "pygments_lexer": "ipython3",
   "version": "3.7.6"
  }
 },
 "nbformat": 4,
 "nbformat_minor": 2
}
