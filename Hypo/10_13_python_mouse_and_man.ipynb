{
 "cells": [
  {
   "cell_type": "markdown",
   "metadata": {},
   "source": [
    "<center>\n",
    "<img src=\"logo.png\" height=\"900\"> \n",
    "</center>\n",
    "\n",
    "\n",
    "#  О Мышах и людях\n",
    "\n",
    "Для изучения аспектов процесса принятия моральных решений психологи уже много лет используют этические дилеммы, с помощью которых оценивают действия людей в гипотетических ситуациях. Один из самых известных примеров — это [проблема вагонетки,](https://ru.wikipedia.org/wiki/Проблема_вагонетки) в которой необходимо принять решение о том, стоит ли пожертвовать одним человеком для спасения пятерых."
   ]
  },
  {
   "cell_type": "code",
   "execution_count": 1,
   "metadata": {},
   "outputs": [],
   "source": [
    "import numpy as np\n",
    "import pandas as pd\n",
    "import seaborn as sns\n",
    "import matplotlib.pyplot as plt\n",
    "\n",
    "plt.style.use('ggplot')\n",
    "%matplotlib inline"
   ]
  },
  {
   "cell_type": "markdown",
   "metadata": {},
   "source": [
    "* Возможности `scipy` для проверки гипотез смотрите [в разделе Statistical tests](https://docs.scipy.org/doc/scipy/reference/stats.html)\n",
    "* Возможности `statsmodels`  [в модуле stats](https://www.statsmodels.org/0.6.1/stats.html)\n",
    "\n",
    "> Если используете встроенные функции, внимательно читайте документацию и проверяйте как именно расчитываются параметры."
   ]
  },
  {
   "cell_type": "code",
   "execution_count": 2,
   "metadata": {},
   "outputs": [],
   "source": [
    "from scipy import stats\n",
    "import statsmodels as sts "
   ]
  },
  {
   "cell_type": "code",
   "execution_count": 3,
   "metadata": {},
   "outputs": [],
   "source": [
    "def asy_mean_test(mean_hat, std_hat, mu_0=0, \n",
    "                   alpha=0.05, alternative='two-sided', margin=3):\n",
    "    \"\"\"\n",
    "        Асимптотический тест для равенства средних\n",
    "    \"\"\"\n",
    "    \n",
    "    z_obs = (mean_hat - mu_0)/std_hat\n",
    "    \n",
    "    if alternative == 'two-sided':\n",
    "        p_value = 2 * (1 - stats.norm().cdf(np.abs(z_obs)))\n",
    "        z_crit = stats.norm().ppf(1 - alpha/2)\n",
    "        \n",
    "        statistics = ['-z_crit', 'z_crit', '-z_obs', 'z_obs']\n",
    "        params = dict(zip(statistics, [(-z_crit, -0.6, -margin, -z_crit, 'b'), \n",
    "                                       (z_crit, 0.05, z_crit, margin, 'b'),\n",
    "                                       (-z_obs, -0.6, -margin, -z_obs, 'r'), \n",
    "                                       (z_obs, 0.1, z_obs, margin, 'r')]))\n",
    "    \n",
    "    if alternative == 'less':\n",
    "        p_value = stats.norm().cdf(z_obs)\n",
    "        z_crit = stats.norm().ppf(1 - alpha)\n",
    "        \n",
    "        statistics = ['-z_crit', '-z_obs']\n",
    "        params = dict(zip(statistics, [(-z_crit, -0.6, -margin, -z_crit, 'b'), \n",
    "                                       (-z_obs, -0.6, -margin, -z_obs, 'r')]))\n",
    "\n",
    "    if alternative == 'larger':\n",
    "        p_value = 1 - stats.norm().cdf(z_obs)\n",
    "        z_crit = stats.norm().ppf(1 - alpha)\n",
    "        \n",
    "        statistics = ['z_crit', 'z_obs']\n",
    "        params = dict(zip(statistics, [(z_crit, 0.05, z_crit, margin, 'b'),\n",
    "                                       (z_obs, 0.1, z_obs, margin, 'r')]))\n",
    "    \n",
    "    \n",
    "    plt.figure(figsize = (10, 5))\n",
    "    x = np.linspace(-margin, margin)\n",
    "    pdf = stats.norm().pdf(x)\n",
    "\n",
    "    plt.plot(x, pdf, color=\"black\")\n",
    "    plt.ylabel(\"$f(x)$\", fontsize=16)\n",
    "    plt.xlabel(\"$x$\", fontsize=16)\n",
    "    y_max = plt.ylim()[1]\n",
    "    \n",
    "    for i in range(len(statistics)):\n",
    "        statistic, text_margin, left_bound, right_bound, color = params[statistics[i]]\n",
    "        \n",
    "        plt.axvline(statistic, color=color, linestyle=\"--\", lw=2)\n",
    "        h = 0.8 if statistics[i].split('_')[-1] == 'crit' else 0.6\n",
    "        plt.text(statistic + text_margin, \n",
    "                 h*y_max, round(statistic, 2), color=color, fontsize=16)\n",
    "        \n",
    "        xq = np.linspace(left_bound, right_bound)\n",
    "        yq = stats.norm().pdf(xq)\n",
    "        plt.fill_between(xq, 0, yq, color=color, alpha=0.2)\n",
    "    \n",
    "    return p_value"
   ]
  },
  {
   "cell_type": "markdown",
   "metadata": {},
   "source": [
    "Бельгийские психологи воплотили дилемму в реальную жизнь. Участники эксперимента должны были выбрать, ударить током пять мышей или одну мышь. Эксперимент проходил следующим образом. Участника сажали перед двумя клетками, в одной из которых сидели пять мышей, а в другой — одна. Перед клетками стоял ноутбук с $20$-секундным таймером: участникам сообщили, что по истечении этих $20$ секунд в клетку с пятью мышами пустят ток, и мыши получат не смертельный, но очень болезненный удар. Пока время идет, участник может нажать на кнопку: в этом случае ток пустят по клетке с одной мышью. В исследовании использовали живых мышей. \n",
    "\n",
    "Удары тока были ненастоящими: сразу же после «удара» участников сопроводили в отдельную комнату, где разъяснили им, что мыши в полном порядке и током их не били (об этом заранее догадались только $12$ участников). В решении реальной проблемы вагонетки приняли участие $192$ человека, а еще $83$ решали такую же задачку, но гипотетическую (на бумаге). Все участники также прошли онлайн-опросы, в ходе которых учёные собрали о респондентах кучу дополнительной информации. \n",
    "\n",
    "В файле `mouse.csv` лежит информация о том, как прошёл эксперимент. Нас будут интересовать столбцы: \n",
    "\n",
    "* __STUDY:__ какую проблему вагонетки решал человек $1$ если реальную, $2$ если на бумаге\n",
    "* __AGE:__ возраст респондента \n",
    "* __GENDER:__ пол респондента\n",
    "* __DECISION:__ решение дилеммы ($1$ - жать на кнопу, $0$ - не жать) \n",
    "* __RT:__ время, которое респондент потратил, чтобы нажать на кнопку \n",
    "\n",
    "Подробное описание данных, сами данные и даже код на R, использованный при оценивании моделей, можно найти в [репозитории исследования.](https://osf.io/kvb99/) В статье авторы строили несколько логистических регрессий, чтобы очистить эффект от психологических особенностей респондентов. Про подобные приёмы очистки мы немного поговорим позже.  Также более подробно про исследование [можно почитать на N + 1.](https://nplus1.ru/news/2018/05/11/mice-trolley)"
   ]
  },
  {
   "cell_type": "code",
   "execution_count": 4,
   "metadata": {},
   "outputs": [
    {
     "data": {
      "text/html": [
       "<div>\n",
       "<style scoped>\n",
       "    .dataframe tbody tr th:only-of-type {\n",
       "        vertical-align: middle;\n",
       "    }\n",
       "\n",
       "    .dataframe tbody tr th {\n",
       "        vertical-align: top;\n",
       "    }\n",
       "\n",
       "    .dataframe thead th {\n",
       "        text-align: right;\n",
       "    }\n",
       "</style>\n",
       "<table border=\"1\" class=\"dataframe\">\n",
       "  <thead>\n",
       "    <tr style=\"text-align: right;\">\n",
       "      <th></th>\n",
       "      <th>STUDY</th>\n",
       "      <th>AGE</th>\n",
       "      <th>GENDER</th>\n",
       "      <th>DECISION</th>\n",
       "      <th>DEO1</th>\n",
       "      <th>DEO2</th>\n",
       "      <th>DEO3</th>\n",
       "      <th>DEO4</th>\n",
       "      <th>DEO5</th>\n",
       "      <th>DEO6</th>\n",
       "      <th>...</th>\n",
       "      <th>AE</th>\n",
       "      <th>MOUSE1</th>\n",
       "      <th>MOUSE2</th>\n",
       "      <th>MOUSE3</th>\n",
       "      <th>MOUSE</th>\n",
       "      <th>DOUBT</th>\n",
       "      <th>OTHERCHOICE</th>\n",
       "      <th>UNCOMFORTABLE</th>\n",
       "      <th>NOSHOCK</th>\n",
       "      <th>RT</th>\n",
       "    </tr>\n",
       "  </thead>\n",
       "  <tbody>\n",
       "    <tr>\n",
       "      <th>0</th>\n",
       "      <td>1</td>\n",
       "      <td>38</td>\n",
       "      <td>1</td>\n",
       "      <td>NaN</td>\n",
       "      <td>2</td>\n",
       "      <td>2</td>\n",
       "      <td>2</td>\n",
       "      <td>1</td>\n",
       "      <td>2</td>\n",
       "      <td>2</td>\n",
       "      <td>...</td>\n",
       "      <td>5.000000</td>\n",
       "      <td>6.0</td>\n",
       "      <td>5.0</td>\n",
       "      <td>5.0</td>\n",
       "      <td>5.333333</td>\n",
       "      <td>NaN</td>\n",
       "      <td>NaN</td>\n",
       "      <td>NaN</td>\n",
       "      <td>NaN</td>\n",
       "      <td>NaN</td>\n",
       "    </tr>\n",
       "    <tr>\n",
       "      <th>1</th>\n",
       "      <td>1</td>\n",
       "      <td>22</td>\n",
       "      <td>1</td>\n",
       "      <td>NaN</td>\n",
       "      <td>1</td>\n",
       "      <td>2</td>\n",
       "      <td>2</td>\n",
       "      <td>1</td>\n",
       "      <td>2</td>\n",
       "      <td>1</td>\n",
       "      <td>...</td>\n",
       "      <td>5.727273</td>\n",
       "      <td>5.0</td>\n",
       "      <td>6.0</td>\n",
       "      <td>6.0</td>\n",
       "      <td>5.666667</td>\n",
       "      <td>NaN</td>\n",
       "      <td>NaN</td>\n",
       "      <td>NaN</td>\n",
       "      <td>NaN</td>\n",
       "      <td>NaN</td>\n",
       "    </tr>\n",
       "    <tr>\n",
       "      <th>2</th>\n",
       "      <td>1</td>\n",
       "      <td>39</td>\n",
       "      <td>1</td>\n",
       "      <td>NaN</td>\n",
       "      <td>1</td>\n",
       "      <td>1</td>\n",
       "      <td>3</td>\n",
       "      <td>5</td>\n",
       "      <td>3</td>\n",
       "      <td>1</td>\n",
       "      <td>...</td>\n",
       "      <td>5.545455</td>\n",
       "      <td>6.0</td>\n",
       "      <td>6.0</td>\n",
       "      <td>6.0</td>\n",
       "      <td>6.000000</td>\n",
       "      <td>NaN</td>\n",
       "      <td>NaN</td>\n",
       "      <td>NaN</td>\n",
       "      <td>NaN</td>\n",
       "      <td>NaN</td>\n",
       "    </tr>\n",
       "    <tr>\n",
       "      <th>3</th>\n",
       "      <td>1</td>\n",
       "      <td>21</td>\n",
       "      <td>0</td>\n",
       "      <td>1.0</td>\n",
       "      <td>2</td>\n",
       "      <td>3</td>\n",
       "      <td>3</td>\n",
       "      <td>3</td>\n",
       "      <td>3</td>\n",
       "      <td>2</td>\n",
       "      <td>...</td>\n",
       "      <td>5.136364</td>\n",
       "      <td>4.0</td>\n",
       "      <td>7.0</td>\n",
       "      <td>7.0</td>\n",
       "      <td>6.000000</td>\n",
       "      <td>2.0</td>\n",
       "      <td>0.0</td>\n",
       "      <td>6.0</td>\n",
       "      <td>80.0</td>\n",
       "      <td>9.212427</td>\n",
       "    </tr>\n",
       "    <tr>\n",
       "      <th>4</th>\n",
       "      <td>1</td>\n",
       "      <td>20</td>\n",
       "      <td>0</td>\n",
       "      <td>1.0</td>\n",
       "      <td>4</td>\n",
       "      <td>2</td>\n",
       "      <td>2</td>\n",
       "      <td>2</td>\n",
       "      <td>2</td>\n",
       "      <td>2</td>\n",
       "      <td>...</td>\n",
       "      <td>4.181818</td>\n",
       "      <td>4.0</td>\n",
       "      <td>6.0</td>\n",
       "      <td>6.0</td>\n",
       "      <td>5.333333</td>\n",
       "      <td>4.0</td>\n",
       "      <td>0.0</td>\n",
       "      <td>6.5</td>\n",
       "      <td>75.0</td>\n",
       "      <td>17.071711</td>\n",
       "    </tr>\n",
       "  </tbody>\n",
       "</table>\n",
       "<p>5 rows × 132 columns</p>\n",
       "</div>"
      ],
      "text/plain": [
       "   STUDY  AGE  GENDER  DECISION  DEO1  DEO2  DEO3  DEO4  DEO5  DEO6  ...  \\\n",
       "0      1   38       1       NaN     2     2     2     1     2     2  ...   \n",
       "1      1   22       1       NaN     1     2     2     1     2     1  ...   \n",
       "2      1   39       1       NaN     1     1     3     5     3     1  ...   \n",
       "3      1   21       0       1.0     2     3     3     3     3     2  ...   \n",
       "4      1   20       0       1.0     4     2     2     2     2     2  ...   \n",
       "\n",
       "         AE  MOUSE1  MOUSE2  MOUSE3     MOUSE  DOUBT  OTHERCHOICE  \\\n",
       "0  5.000000     6.0     5.0     5.0  5.333333    NaN          NaN   \n",
       "1  5.727273     5.0     6.0     6.0  5.666667    NaN          NaN   \n",
       "2  5.545455     6.0     6.0     6.0  6.000000    NaN          NaN   \n",
       "3  5.136364     4.0     7.0     7.0  6.000000    2.0          0.0   \n",
       "4  4.181818     4.0     6.0     6.0  5.333333    4.0          0.0   \n",
       "\n",
       "   UNCOMFORTABLE  NOSHOCK         RT  \n",
       "0            NaN      NaN        NaN  \n",
       "1            NaN      NaN        NaN  \n",
       "2            NaN      NaN        NaN  \n",
       "3            6.0     80.0   9.212427  \n",
       "4            6.5     75.0  17.071711  \n",
       "\n",
       "[5 rows x 132 columns]"
      ]
     },
     "execution_count": 4,
     "metadata": {},
     "output_type": "execute_result"
    }
   ],
   "source": [
    "df = pd.read_csv(\"mouse.csv\", sep=\"\\t\")\n",
    "df.head()"
   ]
  },
  {
   "cell_type": "code",
   "execution_count": 5,
   "metadata": {},
   "outputs": [],
   "source": [
    "# удалим пропуски для тех, кто не решил дилемму\n",
    "df.dropna(subset=['DECISION'], inplace=True)"
   ]
  },
  {
   "cell_type": "markdown",
   "metadata": {},
   "source": [
    "# 1. Доля и нажатие на кнопку\n",
    "\n",
    "Попытаемся ответить на тот же вопрос, что и исследователи. В какой из двух ситуаций респонденты чаще принимают решение нажать кнопку: в реальной или на бумаге?"
   ]
  },
  {
   "cell_type": "code",
   "execution_count": 6,
   "metadata": {},
   "outputs": [
    {
     "data": {
      "text/plain": [
       "array([1., 1., 1., 1., 1., 1., 1., 1., 0., 1., 1., 1., 1., 1., 1., 1., 1.,\n",
       "       1., 1., 1., 1., 1., 1., 1., 1., 1., 1., 0., 1., 1., 0., 1., 1., 1.,\n",
       "       1., 1., 1., 1., 1., 0., 1., 1., 1., 1., 1., 1., 1., 1., 1., 1., 1.,\n",
       "       1., 1., 1., 1., 0., 1., 1., 1., 1., 1., 0., 1., 1., 1., 1., 1., 1.,\n",
       "       1., 1., 0., 1., 1., 1., 0., 1., 1., 0., 1., 1., 1., 1., 1., 0., 1.,\n",
       "       0., 1., 1., 1., 0., 1., 0., 1., 0., 0., 1., 0., 0., 0., 1., 1., 1.,\n",
       "       1., 1., 1., 1., 1., 1., 1., 1., 1., 1., 1., 0., 1., 1., 1., 1., 1.,\n",
       "       1., 1., 1., 1., 1., 1., 1., 1., 1., 0., 1., 1., 1., 1., 0., 1., 1.,\n",
       "       1., 1., 0., 1., 1., 1., 1., 1., 1., 1., 1., 0., 1., 1., 0., 1., 1.,\n",
       "       1., 1., 1., 1., 1., 1., 1., 1., 1., 1., 1., 1., 1., 1., 1., 1., 1.,\n",
       "       1., 1., 1., 1., 1., 0., 1., 1., 0., 1., 1., 1., 1., 1., 1., 1., 1.,\n",
       "       1., 1., 1., 1., 1.])"
      ]
     },
     "execution_count": 6,
     "metadata": {},
     "output_type": "execute_result"
    }
   ],
   "source": [
    "paper = df[df['STUDY'] == 1].DECISION.values\n",
    "real = df[df['STUDY'] == 2].DECISION.values\n",
    "\n",
    "paper"
   ]
  },
  {
   "cell_type": "code",
   "execution_count": 7,
   "metadata": {},
   "outputs": [
    {
     "data": {
      "text/plain": [
       "(0.8645833333333334, 0.7469879518072289)"
      ]
     },
     "execution_count": 7,
     "metadata": {},
     "output_type": "execute_result"
    }
   ],
   "source": [
    "paper.mean(), real.mean()"
   ]
  },
  {
   "cell_type": "markdown",
   "metadata": {},
   "source": [
    "Проверка гипотезы о равенстве долей. Выборки независимые. \n",
    "\n",
    "$$\n",
    "\\begin{aligned}\n",
    "&H_0: \\hspace{2mm} p_1 = p_2 \\hspace{2mm} \\text{На бумаге и в реальности жмут на кнопку одинаково часто} \\\\\n",
    "&H_1: \\hspace{2mm} p_1 \\ne p_2  \\hspace{2mm} \\text{Есть различия}\n",
    "\\end{aligned}\n",
    "$$\n",
    "\n",
    "> **Предпосылки:** нет выбросов, много наблюдений. Наблюдения независимы. Тогда сможем использовать ЦПТ."
   ]
  },
  {
   "cell_type": "code",
   "execution_count": 8,
   "metadata": {},
   "outputs": [
    {
     "name": "stdout",
     "output_type": "stream",
     "text": [
      "2.38 не попадает в (-1.96 , 1.96) => Нулевая гипотеза отвергается\n"
     ]
    }
   ],
   "source": [
    "alpha = 0.05                                       # уровень значимости = 5%\n",
    "n1,n2 = paper.size, real.size                      # размеры выборок\n",
    "m1,m2 = paper.sum(), real.sum()                    # число успехов\n",
    "\n",
    "p1, p2 = paper.mean(), real.mean()                 # точеные оценки долей \n",
    "diff = p1 - p2                                     # разность долей\n",
    "\n",
    "P = (m1 + m2)/(n1 + n2)          \n",
    "diff_std = np.sqrt(P*(1 - P)*(1/n1 + 1/n2))        # стандартное отклонение разности\n",
    "                                    \n",
    "z_obs = diff/diff_std                              # наблюдаемое значение статистики \n",
    "z_crit = stats.norm.ppf(1 - alpha/2)               # критическое значение статистики\n",
    "\n",
    "print(f'{z_obs:.3} не попадает в ({-z_crit:.3} , {z_crit:.3}) => Нулевая гипотеза отвергается')"
   ]
  },
  {
   "cell_type": "markdown",
   "metadata": {},
   "source": [
    "Применим функцию, которую мы задали выше и посмотрим на картинку. "
   ]
  },
  {
   "cell_type": "code",
   "execution_count": 9,
   "metadata": {},
   "outputs": [
    {
     "data": {
      "text/plain": [
       "0.008701077805778001"
      ]
     },
     "execution_count": 9,
     "metadata": {},
     "output_type": "execute_result"
    },
    {
     "data": {
      "image/png": "[encoded data removed]",
      "text/plain": [
       "<Figure size 720x360 with 1 Axes>"
      ]
     },
     "metadata": {
      "needs_background": "light"
     },
     "output_type": "display_data"
    }
   ],
   "source": [
    "asy_mean_test(diff, diff_std, mu_0=0, alpha=0.05, alternative='larger')"
   ]
  },
  {
   "cell_type": "markdown",
   "metadata": {},
   "source": [
    "$$\n",
    "\\begin{aligned}\n",
    "&H_0: \\hspace{2mm} p_1 = p_2 \\hspace{2mm} \\text{На бумаге и в реальности жмут на кнопку одинаково часто} \\\\\n",
    "&H_1: \\hspace{2mm} p_1 > p_2  \\hspace{2mm} \\text{На бумаге на кнопку жмут чаще}\n",
    "\\end{aligned}\n",
    "$$\n",
    "\n",
    "В случае односторонней альтернативы ошибка 1 рода, $\\alpha$, переносится на один из хвостов. "
   ]
  },
  {
   "cell_type": "code",
   "execution_count": 10,
   "metadata": {},
   "outputs": [
    {
     "data": {
      "text/plain": [
       "0.008701077805778001"
      ]
     },
     "execution_count": 10,
     "metadata": {},
     "output_type": "execute_result"
    },
    {
     "data": {
      "image/png": "[encoded data removed]",
      "text/plain": [
       "<Figure size 720x360 with 1 Axes>"
      ]
     },
     "metadata": {
      "needs_background": "light"
     },
     "output_type": "display_data"
    }
   ],
   "source": [
    "asy_mean_test(diff, diff_std, mu_0=0, alpha=0.05, alternative='larger')"
   ]
  },
  {
   "cell_type": "markdown",
   "metadata": {},
   "source": [
    "То же самое средствами `statsmodels`. "
   ]
  },
  {
   "cell_type": "code",
   "execution_count": 11,
   "metadata": {},
   "outputs": [
    {
     "name": "stdout",
     "output_type": "stream",
     "text": [
      "Наблюдаемое значение: 2.38\n",
      "P-значение: 0.0087\n"
     ]
    }
   ],
   "source": [
    "from statsmodels.stats.proportion import proportions_ztest\n",
    "\n",
    "alpha = 0.05                                       # уровень значимости = 5%\n",
    "n_obs = paper.size, real.size                      # размеры выборок\n",
    "m_obs = paper.sum(), real.sum()                    # число успехов\n",
    "\n",
    "z_obs, p_val =  proportions_ztest(m_obs, n_obs, value=0, \n",
    "                                  alternative='larger')\n",
    "\n",
    "print(f\"Наблюдаемое значение: {z_obs:.3}\") \n",
    "print(f\"P-значение: {p_val:.3}\") "
   ]
  },
  {
   "cell_type": "markdown",
   "metadata": {},
   "source": [
    "> **Вывод:** гипотеза о том, что на кнопку жмут одинаково часто отвергается. На бумаге на кнопку жмут чаще."
   ]
  },
  {
   "cell_type": "markdown",
   "metadata": {},
   "source": [
    "# 2. Среднее и кровожадность\n",
    "\n",
    "Кровожадные люди быстро берут на себя ответственность за удар мышки током. Будем считать, что кровожадные люди принимают решение менее, чем за пять секунд. Правда ли, что люди по своей природе кровожадные? \n",
    "\n",
    "$$\n",
    "\\begin{aligned}\n",
    "&H_0: \\hspace{2mm} \\mu \\le 5 \\hspace{2mm} \\text{Люди кровожадны} \\\\\n",
    "&H_1: \\hspace{2mm} \\mu > 5  \\hspace{2mm} \\text{Люди не кровожадны}\n",
    "\\end{aligned}\n",
    "$$"
   ]
  },
  {
   "cell_type": "markdown",
   "metadata": {},
   "source": [
    "### Асимптотический тест "
   ]
  },
  {
   "cell_type": "code",
   "execution_count": 12,
   "metadata": {},
   "outputs": [
    {
     "name": "stdout",
     "output_type": "stream",
     "text": [
      "Наблюдаемое значение 13.0 больше критического 1.64 => нулевая гипотеза отвергается\n"
     ]
    }
   ],
   "source": [
    "# Асимптотический критерий\n",
    "x = df['RT'].dropna().values         # выборка\n",
    "\n",
    "alpha = 0.05                         # уровень значимости = 5%\n",
    "n = x.size                           # размер выборки\n",
    "mu = x.mean()                        # среднее значение\n",
    "std = x.std(ddof=1)/np.sqrt(n)       # стандартное отклонение\n",
    "\n",
    "z_obs = (mu - 5)/std                 # наблюдаемое значение статистики \n",
    "z_crit = stats.norm.ppf(1 - alpha)   # критическое значение статистики\n",
    "\n",
    "print(f'Наблюдаемое значение {z_obs:.3} больше критического {z_crit:.3} => нулевая гипотеза отвергается')"
   ]
  },
  {
   "cell_type": "code",
   "execution_count": 13,
   "metadata": {},
   "outputs": [
    {
     "data": {
      "text/plain": [
       "0.0"
      ]
     },
     "execution_count": 13,
     "metadata": {},
     "output_type": "execute_result"
    },
    {
     "data": {
      "image/png": "[encoded data removed]",
      "text/plain": [
       "<Figure size 720x360 with 1 Axes>"
      ]
     },
     "metadata": {
      "needs_background": "light"
     },
     "output_type": "display_data"
    }
   ],
   "source": [
    "asy_mean_test(mu, std, mu_0=5, alpha=0.05, \n",
    "              margin=15, alternative='larger')"
   ]
  },
  {
   "cell_type": "markdown",
   "metadata": {},
   "source": [
    "То же самое средствами `statsmodels`. "
   ]
  },
  {
   "cell_type": "code",
   "execution_count": 14,
   "metadata": {},
   "outputs": [
    {
     "name": "stdout",
     "output_type": "stream",
     "text": [
      "Наблюдаемое значение: 12.9749\n",
      "P-значение: 8.49e-39\n"
     ]
    }
   ],
   "source": [
    "from statsmodels.stats.weightstats import ztest\n",
    "\n",
    "z_obs, p_val = ztest(x, value=5, alternative='larger')\n",
    "\n",
    "print(f\"Наблюдаемое значение: {z_obs:.7}\") \n",
    "print(f\"P-значение: {p_val:.3}\") "
   ]
  },
  {
   "cell_type": "markdown",
   "metadata": {},
   "source": [
    "### Точный тест "
   ]
  },
  {
   "cell_type": "code",
   "execution_count": 15,
   "metadata": {},
   "outputs": [
    {
     "name": "stdout",
     "output_type": "stream",
     "text": [
      "Наблюдаемое значение 12.97 больше критического 1.654 => нулевая гипотеза отвергается\n"
     ]
    }
   ],
   "source": [
    "t_obs = (mu - 5)/std                     # наблюдаемое значение статистики \n",
    "t_crit = stats.t(n - 1).ppf(1 - alpha)   # критическое значение статистики\n",
    "\n",
    "print(f'Наблюдаемое значение {t_obs:.4} больше критического {t_crit:.4} => нулевая гипотеза отвергается')"
   ]
  },
  {
   "cell_type": "markdown",
   "metadata": {},
   "source": [
    "Каким тестом пользоваться? Точным или асимптотическим? "
   ]
  },
  {
   "cell_type": "code",
   "execution_count": 16,
   "metadata": {},
   "outputs": [
    {
     "data": {
      "image/png": "[encoded data removed]",
      "text/plain": [
       "<Figure size 432x288 with 1 Axes>"
      ]
     },
     "metadata": {
      "needs_background": "light"
     },
     "output_type": "display_data"
    }
   ],
   "source": [
    "plt.hist(x, density=True, bins=20)\n",
    "\n",
    "xs = np.linspace(0,21,100)\n",
    "pdf = stats.norm(x.mean(), x.std(ddof=1)).pdf(xs)\n",
    "plt.plot(xs, pdf, lw=2);"
   ]
  },
  {
   "cell_type": "markdown",
   "metadata": {},
   "source": [
    "Распределение не похоже на нормальное. По аналогии с тем, что мы делали на прошлой неделе, воспользуемся тестом Колмогорова-Смирнова и проверим гипотезу о нормальности распределения колонки `RT`."
   ]
  },
  {
   "cell_type": "code",
   "execution_count": 17,
   "metadata": {},
   "outputs": [
    {
     "data": {
      "text/plain": [
       "KstestResult(statistic=0.10581791163988818, pvalue=0.045074318864650915)"
      ]
     },
     "execution_count": 17,
     "metadata": {},
     "output_type": "execute_result"
    }
   ],
   "source": [
    "stats.kstest(x, 'norm', args=(df['RT'].mean(), df['RT'].std(ddof=1)))"
   ]
  },
  {
   "cell_type": "markdown",
   "metadata": {},
   "source": [
    "Видим, что `pvalue` очень низкое, это говорит о том, что гипотеза о нормальности выборки отвергается."
   ]
  },
  {
   "cell_type": "markdown",
   "metadata": {},
   "source": [
    "> **Вывод:** гипотеза о том, что люди кровожадные отвергается. Гипотезу тестируем с помощью асимптотического критерия, так как наблюдений много, а распределение отличается от нормального."
   ]
  },
  {
   "cell_type": "markdown",
   "metadata": {},
   "source": [
    "# 3. Сравниваем кровожадность\n",
    "\n",
    "Правда ли, что женщины намного кровожаднее мужчин и жмут на кнопку гораздо быстрее?"
   ]
  },
  {
   "cell_type": "code",
   "execution_count": 18,
   "metadata": {},
   "outputs": [
    {
     "data": {
      "text/plain": [
       "array([ 9.827884, 10.14303 ,  7.447534,  3.900421,  6.257604,  8.35017 ,\n",
       "        4.851916,  4.715757,  5.502697,  2.834183, 13.204802,  6.475876,\n",
       "        8.112592, 11.550315, 15.830459, 13.966976, 16.467138,  5.847557,\n",
       "       14.130201,  3.897559, 17.687435,  5.059607,  5.841785,  4.766936,\n",
       "       10.962231,  2.934816, 18.404679,  5.461676, 13.413565,  7.79453 ,\n",
       "       17.490769,  7.060378, 16.371952,  6.683372,  3.911258,  8.673753,\n",
       "       15.396327,  4.671044,  4.104334, 12.423375,  9.657467,  8.533418,\n",
       "       11.257031,  2.746188, 12.626013,  5.015116,  6.508459,  6.378889,\n",
       "        5.775246, 20.      ,  3.16293 , 18.733759, 11.464392, 14.289954,\n",
       "        4.844785, 10.858654, 20.      ])"
      ]
     },
     "execution_count": 18,
     "metadata": {},
     "output_type": "execute_result"
    }
   ],
   "source": [
    "men = df[(df['GENDER'] == 1)]['RT'].dropna().values\n",
    "women = df[(df['GENDER'] == 0)]['RT'].dropna().values\n",
    "men"
   ]
  },
  {
   "cell_type": "code",
   "execution_count": 19,
   "metadata": {
    "scrolled": true
   },
   "outputs": [
    {
     "data": {
      "text/plain": [
       "(9.373347263157894, 10.50552123853211)"
      ]
     },
     "execution_count": 19,
     "metadata": {},
     "output_type": "execute_result"
    }
   ],
   "source": [
    "men.mean(), women.mean()"
   ]
  },
  {
   "cell_type": "markdown",
   "metadata": {},
   "source": [
    "$$\n",
    "\\begin{aligned}\n",
    "&H_0: \\hspace{2mm} \\mu_1 = \\mu_2 \\hspace{2mm} \\text{Cкорость нажатия на кнопку одинаковая} \\\\\n",
    "&H_1: \\hspace{2mm} \\mu_1 > \\mu_2  \\hspace{2mm} \\text{Женщины жмут быстрее}\n",
    "\\end{aligned}\n",
    "$$\n",
    "\n",
    "Выше мы увидели, что в данных нет нормальности. Поэтому используем асимптотический тест. "
   ]
  },
  {
   "cell_type": "markdown",
   "metadata": {},
   "source": [
    "### Асимптотический тест "
   ]
  },
  {
   "cell_type": "code",
   "execution_count": 20,
   "metadata": {},
   "outputs": [
    {
     "name": "stdout",
     "output_type": "stream",
     "text": [
      "Наблюдаемое значение 1.376 меньше критического 1.64 => нулевая гипотеза не отвергается\n"
     ]
    }
   ],
   "source": [
    "alpha = 0.05                                                    # уровень значимости = 5%\n",
    "nx, ny = women.size, men.size                                   # размер выборок\n",
    "\n",
    "diff = women.mean() - men.mean()                                # разность средних\n",
    "diff_std = np.sqrt(women.var(ddof=1)/nx + men.var(ddof=1)/ny)   # стандартное отклонение\n",
    "\n",
    "z_obs = diff/diff_std                                           # наблюдаемое значение\n",
    "z_crit = stats.norm.ppf(1 - alpha)                              # критическое значение\n",
    "\n",
    "print(f'Наблюдаемое значение {z_obs:.5} меньше критического {z_crit:.3} => нулевая гипотеза не отвергается')"
   ]
  },
  {
   "cell_type": "code",
   "execution_count": 21,
   "metadata": {},
   "outputs": [
    {
     "data": {
      "text/plain": [
       "0.08441634419903976"
      ]
     },
     "execution_count": 21,
     "metadata": {},
     "output_type": "execute_result"
    },
    {
     "data": {
      "image/png": "[encoded data removed]",
      "text/plain": [
       "<Figure size 720x360 with 1 Axes>"
      ]
     },
     "metadata": {
      "needs_background": "light"
     },
     "output_type": "display_data"
    }
   ],
   "source": [
    "asy_mean_test(diff, diff_std, mu_0=0, alpha=0.05, alternative='larger')"
   ]
  },
  {
   "cell_type": "markdown",
   "metadata": {},
   "source": [
    "Асимптотический тест для разных дисперсий в `statsmodels` не реализован. Есть только для равных.\n",
    "\n",
    "> Приведём ниже код, который мы бы использовали, если бы с нормальностью выборки всё бы было хорошо. "
   ]
  },
  {
   "cell_type": "markdown",
   "metadata": {},
   "source": [
    "### Тест Стьюдента (неизвестные равные дисперсии) "
   ]
  },
  {
   "cell_type": "code",
   "execution_count": 22,
   "metadata": {},
   "outputs": [
    {
     "name": "stdout",
     "output_type": "stream",
     "text": [
      "Наблюдаемое значение 1.37 меньше критического 1.65 => нулевая гипотеза не отвергается\n"
     ]
    }
   ],
   "source": [
    "alpha = 0.05                                                    # уровень значимости = 5%\n",
    "nx, ny = women.size, men.size                                   # размер выборок\n",
    "diff = women.mean() - men.mean()                                # разность средних\n",
    "\n",
    "diff_var = ((nx - 1)*women.var(ddof=1) + (ny - 1)*men.var(ddof=1))/(nx + ny - 2)\n",
    "diff_std = np.sqrt(diff_var/nx + diff_var/ny)                   # стандартное отклонение\n",
    "\n",
    "t_obs = diff/diff_std                                           # наблюдаемое значение\n",
    "t_crit = stats.t(df = nx + ny - 2).ppf(1 - alpha)               # критическое значение\n",
    "\n",
    "print(f'Наблюдаемое значение {t_obs:.3} меньше критического {t_crit:.3} => нулевая гипотеза не отвергается')"
   ]
  },
  {
   "cell_type": "markdown",
   "metadata": {},
   "source": [
    "То же самое средствами `statsmodels`. "
   ]
  },
  {
   "cell_type": "code",
   "execution_count": 23,
   "metadata": {},
   "outputs": [
    {
     "name": "stdout",
     "output_type": "stream",
     "text": [
      "Наблюдаемое значение: 1.37\n",
      "P-значение: 0.0868\n"
     ]
    }
   ],
   "source": [
    "from statsmodels.stats.weightstats import ttest_ind\n",
    "\n",
    "t_obs, p_val, _ = ttest_ind(women, men, value=0, alternative='larger')\n",
    "\n",
    "print(f\"Наблюдаемое значение: {t_obs:.3}\") \n",
    "print(f\"P-значение: {p_val:.3}\") "
   ]
  },
  {
   "cell_type": "markdown",
   "metadata": {},
   "source": [
    "### Тест Уэлча (неизвестные разные дисперсии) "
   ]
  },
  {
   "cell_type": "code",
   "execution_count": 24,
   "metadata": {},
   "outputs": [
    {
     "name": "stdout",
     "output_type": "stream",
     "text": [
      "Наблюдаемое значение 1.38 меньше критического 1.66 => нулевая гипотеза не отвергается\n"
     ]
    }
   ],
   "source": [
    "alpha = 0.05                                                    # уровень значимости = 5%\n",
    "nx, ny = women.size, men.size                                   # размер выборок\n",
    "\n",
    "diff = women.mean() - men.mean()                                # разность средних\n",
    "diff_std = np.sqrt(women.var(ddof=1)/nx + men.var(ddof=1)/ny)   # стандартное отклонение\n",
    "\n",
    "t_obs = diff/diff_std                                           # наблюдаемое значение\n",
    "\n",
    "# число степеней свободы\n",
    "u = (women.var(ddof=1) / nx + men.var(ddof=1) / ny) ** 2\n",
    "d = (women.var(ddof=1)**2) / (nx**2 * (nx - 1)) + (men.var(ddof=1)**2)/ (ny**2* (ny - 1))\n",
    "nu =  u/d \n",
    "\n",
    "t_crit = stats.t(nu).ppf(1 - alpha)                             # критическое значение\n",
    "\n",
    "print(f'Наблюдаемое значение {t_obs:.3} меньше критического {t_crit:.3} => нулевая гипотеза не отвергается')"
   ]
  },
  {
   "cell_type": "code",
   "execution_count": 25,
   "metadata": {},
   "outputs": [
    {
     "data": {
      "text/plain": [
       "(5.103972224167936, 4.996830829492464)"
      ]
     },
     "execution_count": 25,
     "metadata": {},
     "output_type": "execute_result"
    }
   ],
   "source": [
    "women.std(ddof=1), men.std(ddof=1)"
   ]
  },
  {
   "cell_type": "code",
   "execution_count": 26,
   "metadata": {},
   "outputs": [
    {
     "data": {
      "text/plain": [
       "(109, 57)"
      ]
     },
     "execution_count": 26,
     "metadata": {},
     "output_type": "execute_result"
    }
   ],
   "source": [
    "nx, ny # направление знака между наблюдениями соотвествует знаку между дисперсиями"
   ]
  },
  {
   "cell_type": "markdown",
   "metadata": {},
   "source": [
    "То же самое средствами `statsmodels`. "
   ]
  },
  {
   "cell_type": "code",
   "execution_count": 27,
   "metadata": {},
   "outputs": [
    {
     "name": "stdout",
     "output_type": "stream",
     "text": [
      "Наблюдаемое значение: 1.38\n",
      "P-значение: 0.0857\n"
     ]
    }
   ],
   "source": [
    "from statsmodels.stats.weightstats import ttest_ind\n",
    "\n",
    "# usevar опционально думает, что дисперсии одинаковые\n",
    "t_obs, p_val, _ = ttest_ind(women, men, value=0, \n",
    "                            alternative='larger', usevar='unequal')\n",
    "\n",
    "print(f\"Наблюдаемое значение: {t_obs:.3}\") \n",
    "print(f\"P-значение: {p_val:.3}\") "
   ]
  },
  {
   "cell_type": "markdown",
   "metadata": {},
   "source": [
    "> **Вывод:** используем асимптотический критерий. Гипотеза о том, что женщины жмут на кнопку с такой же скоростью, как и мужчины не отвергается. Мужчины и женщины одинаково кровожадны."
   ]
  },
  {
   "cell_type": "markdown",
   "metadata": {},
   "source": [
    "# 4. Эмпатия\n",
    "\n",
    "Перед экспериментом каждый участник проходил психологический тест. Для каждого человека рассчитывалось довольно большое число параметров, описывающих его психотип. Например, в колонках `EC` находится оценка способности человека к эмпатии [(Empathic concern),](https://en.wikipedia.org/wiki/Empathic_concern) в колонке `AE` находится оценка эмпатии человека к животным. \n",
    "\n"
   ]
  },
  {
   "cell_type": "code",
   "execution_count": 28,
   "metadata": {},
   "outputs": [
    {
     "data": {
      "image/png": "[encoded data removed]",
      "text/plain": [
       "<Figure size 1080x288 with 2 Axes>"
      ]
     },
     "metadata": {
      "needs_background": "light"
     },
     "output_type": "display_data"
    }
   ],
   "source": [
    "df['EC'] = (df['EC'] - df['EC'].min())/(df['EC'].max() - df['EC'].min())\n",
    "df['AE'] = (df['AE'] - df['AE'].min())/(df['AE'].max() - df['AE'].min())\n",
    "\n",
    "df[['EC', 'AE']].hist(bins=15, figsize=(15,4));"
   ]
  },
  {
   "cell_type": "markdown",
   "metadata": {},
   "source": [
    "Правда ли, что неоднородность людей в плане их эмпатии к животным намного выше неоднородности в плане обычной эмпатии? \n",
    "\n",
    "$$\n",
    "\\begin{aligned}\n",
    "&H_0: \\hspace{2mm} \\sigma^2_1 = \\sigma^2_2 \\hspace{2mm} \\text{Неоднородность одинаковая} \\\\\n",
    "&H_1: \\hspace{2mm} \\sigma^2_1 < \\sigma^2_2  \\hspace{2mm} \\text{Неоднородность для животных выше}\n",
    "\\end{aligned}\n",
    "$$\n",
    "\n",
    "Распределения нормальные, можем использовать F-статистику. "
   ]
  },
  {
   "cell_type": "code",
   "execution_count": 29,
   "metadata": {},
   "outputs": [
    {
     "data": {
      "text/plain": [
       "(0.6190814394131477, 0.5798980496933709)"
      ]
     },
     "execution_count": 29,
     "metadata": {},
     "output_type": "execute_result"
    }
   ],
   "source": [
    "ec = df['EC'].dropna().values\n",
    "ae = df['AE'].dropna().values\n",
    "\n",
    "ec.mean(), ae.mean()"
   ]
  },
  {
   "cell_type": "code",
   "execution_count": 30,
   "metadata": {},
   "outputs": [
    {
     "data": {
      "text/plain": [
       "(0.04247637731538298, 0.03204691694434707)"
      ]
     },
     "execution_count": 30,
     "metadata": {},
     "output_type": "execute_result"
    }
   ],
   "source": [
    "ec.var(), ae.var()"
   ]
  },
  {
   "cell_type": "code",
   "execution_count": 31,
   "metadata": {},
   "outputs": [
    {
     "name": "stdout",
     "output_type": "stream",
     "text": [
      "Наблюдаемое значение 1.3254 меньше критического 1.3291 => нулевая гипотеза не отвергается\n"
     ]
    }
   ],
   "source": [
    "alpha = 0.05                             # уровень значимости = 5%\n",
    "nx, ny = ec.size, ae.size                # размер выборок\n",
    "\n",
    "F_obs = ec.var()/ae.var()                # наблюдаемое значение\n",
    "\n",
    "f_rv = stats.f(nx - 1, ny - 1) \n",
    "F_crit = f_rv.ppf(1 - alpha/2)           # критическое значение\n",
    "\n",
    "print(f'Наблюдаемое значение {F_obs:.5} меньше критического {F_crit:.5} => нулевая гипотеза не отвергается')"
   ]
  },
  {
   "cell_type": "markdown",
   "metadata": {},
   "source": [
    "> Гипотеза о равенстве дисперсий не отвергается, однако она оказывается малозначима."
   ]
  },
  {
   "cell_type": "markdown",
   "metadata": {},
   "source": [
    "<img src=\"https://pp.userapi.com/c852220/v852220032/14dce1/r1zXBIig4B8.jpg\" height=\"300\" width=\"600\"> "
   ]
  },
  {
   "cell_type": "markdown",
   "metadata": {},
   "source": [
    "  "
   ]
  },
  {
   "cell_type": "markdown",
   "metadata": {},
   "source": [
    " "
   ]
  }
 ],
 "metadata": {
  "kernelspec": {
   "display_name": "Python 3",
   "language": "python",
   "name": "python3"
  },
  "language_info": {
   "codemirror_mode": {
    "name": "ipython",
    "version": 3
   },
   "file_extension": ".py",
   "mimetype": "text/x-python",
   "name": "python",
   "nbconvert_exporter": "python",
   "pygments_lexer": "ipython3",
   "version": "3.8.5"
  }
 },
 "nbformat": 4,
 "nbformat_minor": 2
}
