{
 "cells": [
  {
   "cell_type": "markdown",
   "metadata": {},
   "source": [
    "\n",
    "#  Авокадо\n",
    "\n",
    "Хорошо известно, что миллениалы любят тосты с авокадо. Хорошо известно, что миллениалы живут со своими родителями. На самом деле они не могут купить себе дом, потому что едят слишком много тостов с авокадо. Но надежда есть. Если нам удастся найти город с дешёвым авокадо, миллениалы смогут туда переехать и накопить денег на собственные квартиры. В этом задании мы этим и займёмся!"
   ]
  },
  {
   "cell_type": "code",
   "execution_count": null,
   "metadata": {},
   "outputs": [],
   "source": [
    "# Поставим недостающий пакет\n",
    "!pip3 install sktime --ignore-installed"
   ]
  },
  {
   "cell_type": "code",
   "execution_count": null,
   "metadata": {},
   "outputs": [],
   "source": [
    "import numpy as np\n",
    "import pandas as pd\n",
    "\n",
    "from scipy import stats \n",
    "\n",
    "import matplotlib.pyplot as plt\n",
    "plt.style.use('seaborn-whitegrid')\n",
    "\n",
    "import seaborn as sns\n",
    "%matplotlib inline"
   ]
  },
  {
   "cell_type": "code",
   "execution_count": null,
   "metadata": {},
   "outputs": [],
   "source": [
    "import warnings \n",
    "warnings.filterwarnings('ignore')"
   ]
  },
  {
   "cell_type": "markdown",
   "metadata": {},
   "source": [
    "## Данные\n",
    "\n",
    "Данные взяты [с соревнавания на kaggle.](https://www.kaggle.com/neuromusic/avocado-prices) В табличке ниже представлены месячные данные по розничной торговле авокадо:\n",
    "\n",
    "* `Date` - дата наблюдения\n",
    "* `AveragePrice` - средняя цена одного авокадо\n",
    "* `Type` - обычный или органический\n",
    "* `Year` - год\n",
    "* `Region` - город или регион наблюдения\n",
    "\n",
    "Кроме этих колонок есть ещё несколько технических, но они нас не будут интересовать. "
   ]
  },
  {
   "cell_type": "code",
   "execution_count": null,
   "metadata": {},
   "outputs": [],
   "source": [
    "dff = pd.read_csv('avocado_small.tsv', sep='\\t', parse_dates=['Date']).set_index('Date')\n",
    "\n",
    "# Периодичность данных - месячная \n",
    "dff.index = dff.index.to_period(\"M\")\n",
    "\n",
    "# будем смотреть только на тип organic \n",
    "dff = dff[dff.Type == 'organic'] \n",
    "print(dff.shape)\n",
    "dff.head()"
   ]
  },
  {
   "cell_type": "markdown",
   "metadata": {},
   "source": [
    "Сразу же ответим на вопрос из шапки этой тетрадки и посмотрим как в разных городах цена на авокадо менялась год от года."
   ]
  },
  {
   "cell_type": "code",
   "execution_count": null,
   "metadata": {},
   "outputs": [],
   "source": [
    "sns.factorplot('AveragePrice', 'Region', data=dff, hue='Year',\n",
    "                size=13, aspect=0.8, palette='magma', join=False);"
   ]
  },
  {
   "cell_type": "markdown",
   "metadata": {},
   "source": [
    "Кажется, что Сан-Франциско точно не подходит. Судя по всему, миллениалов может спасти Хьюстон. "
   ]
  },
  {
   "cell_type": "code",
   "execution_count": null,
   "metadata": {},
   "outputs": [],
   "source": [
    "df = dff[['AveragePrice', 'Region']]\n",
    "df.head()"
   ]
  },
  {
   "cell_type": "code",
   "execution_count": null,
   "metadata": {},
   "outputs": [],
   "source": [
    "df.index.unique().size # 39 уникальных точек (месячные данные)"
   ]
  },
  {
   "cell_type": "code",
   "execution_count": null,
   "metadata": {},
   "outputs": [],
   "source": [
    "df.Region.unique().size # 54 города"
   ]
  },
  {
   "cell_type": "markdown",
   "metadata": {},
   "source": [
    "Будем работать с Бостоном. Разобьём выборку на трейн и тест. С помощью функции `plot_series` "
   ]
  },
  {
   "cell_type": "code",
   "execution_count": null,
   "metadata": {
    "deletable": false,
    "nbgrader": {
     "cell_type": "code",
     "checksum": "cd07db0df5276ce6831e3c59729f32e4",
     "grade": false,
     "grade_id": "cell-468016df29bd758b",
     "locked": false,
     "schema_version": 3,
     "solution": true,
     "task": false
    }
   },
   "outputs": [],
   "source": [
    "from sktime.utils.plotting import plot_series\n",
    "from sktime.forecasting.model_selection import temporal_train_test_split\n",
    "\n",
    "TEST_SIZE = 12\n",
    "REGION = 'Boston'\n",
    "\n",
    "y = df[df['Region'] == REGION].sort_index()['AveragePrice'].asfreq('m')\n",
    "\n",
    "y_train, y_test = ... , ...\n",
    "\n",
    "# your code here\n"
   ]
  },
  {
   "cell_type": "code",
   "execution_count": null,
   "metadata": {},
   "outputs": [],
   "source": [
    "from sktime.forecasting.base import ForecastingHorizon\n",
    "\n",
    "fh = ForecastingHorizon(y_test.index, is_relative=False)\n",
    "fh"
   ]
  },
  {
   "cell_type": "markdown",
   "metadata": {},
   "source": [
    "В качестве метрики качества будем использовать MAPE."
   ]
  },
  {
   "cell_type": "code",
   "execution_count": null,
   "metadata": {},
   "outputs": [],
   "source": [
    "def mape(y_true, y_pred): \n",
    "    return np.mean(np.abs((y_true - y_pred) / y_true)) * 100"
   ]
  },
  {
   "cell_type": "markdown",
   "metadata": {},
   "source": [
    "# 1. Прогнозы и ансамбль"
   ]
  },
  {
   "cell_type": "markdown",
   "metadata": {},
   "source": [
    "__[а]__ Постройте наивный прогноз. Выберите из трёх стратегий для строительства наивного прогноза самую лучшую. Качество модели, полученной на тестовом периоде запишите в переменную `ans1`. \n",
    "\n",
    "__Примечание:__ Cреднее для наивного прогноза считайте по окну размера`TEST_SIZE`."
   ]
  },
  {
   "cell_type": "code",
   "execution_count": null,
   "metadata": {
    "deletable": false,
    "nbgrader": {
     "cell_type": "code",
     "checksum": "bee929c4b798860ac92d19ff6ec07edc",
     "grade": false,
     "grade_id": "cell-e4ccc937cb5ce54b",
     "locked": false,
     "schema_version": 3,
     "solution": true,
     "task": false
    }
   },
   "outputs": [],
   "source": [
    "from sktime.forecasting.naive import NaiveForecaster\n",
    "\n",
    "### ╰( ͡° ͜ʖ ͡° )つ▬▬ι═══════  bzzzzzzzzzz\n",
    "# will the code be with you\n",
    "\n",
    "ans1 = ...\n",
    "\n",
    "# your code here\n"
   ]
  },
  {
   "cell_type": "code",
   "execution_count": null,
   "metadata": {
    "deletable": false,
    "editable": false,
    "nbgrader": {
     "cell_type": "code",
     "checksum": "37ab25cdc5996af302727d8ef4fb92a9",
     "grade": true,
     "grade_id": "cell-a361790d93e6450f",
     "locked": true,
     "points": 1,
     "schema_version": 3,
     "solution": false,
     "task": false
    }
   },
   "outputs": [],
   "source": [
    "assert ans1  < 12\n",
    "\n",
    "# несколько похожих скрытых тестов"
   ]
  },
  {
   "cell_type": "markdown",
   "metadata": {},
   "source": [
    "__[б]__  Используя `sm.tsa.statespace.ExponentialSmoothing` обучите $ETS(AAA)$ модель. Поставьте `seasonal=12`. Постройте доверительный интервал для прогнозов. Изобразите его на картинке. Найдите качество работы модели на тестовой выборке и запишите результат в переменную `ans2`. Удалось ли улучшить наивный прогноз? "
   ]
  },
  {
   "cell_type": "code",
   "execution_count": null,
   "metadata": {
    "deletable": false,
    "nbgrader": {
     "cell_type": "code",
     "checksum": "803dabfe5294dd80838b024c5b25c387",
     "grade": false,
     "grade_id": "cell-830a2f764787cf9f",
     "locked": false,
     "schema_version": 3,
     "solution": true,
     "task": false
    }
   },
   "outputs": [],
   "source": [
    "import statsmodels.api as sm\n",
    "\n",
    "### ╰( ͡° ͜ʖ ͡° )つ▬▬ι═══════  bzzzzzzzzzz\n",
    "# will the code be with you\n",
    "\n",
    "ans2 = ...\n",
    "\n",
    "# your code here\n"
   ]
  },
  {
   "cell_type": "markdown",
   "metadata": {},
   "source": [
    "Проведите диагностику модели. Правда ли, что остатки модели оказались нормальными? Можно ли использовать её для точечных прогнозов? Можно ли с её помощью строить для прогнозов надёжные доверительные интервалы? "
   ]
  },
  {
   "cell_type": "code",
   "execution_count": null,
   "metadata": {
    "deletable": false,
    "nbgrader": {
     "cell_type": "code",
     "checksum": "f26b558439299de9d2f8657776c1b01b",
     "grade": false,
     "grade_id": "cell-a2cd38455c658c80",
     "locked": false,
     "schema_version": 3,
     "solution": true,
     "task": false
    }
   },
   "outputs": [],
   "source": [
    "# your code here\n"
   ]
  },
  {
   "cell_type": "code",
   "execution_count": null,
   "metadata": {
    "deletable": false,
    "editable": false,
    "nbgrader": {
     "cell_type": "code",
     "checksum": "3e698755646bbeeec054ddac1b042d11",
     "grade": true,
     "grade_id": "cell-e1e05462ee2d21c4",
     "locked": true,
     "points": 1,
     "schema_version": 3,
     "solution": false,
     "task": false
    }
   },
   "outputs": [],
   "source": [
    "assert ans2 < 15\n",
    "\n",
    "# несколько похожих скрытых тестов"
   ]
  },
  {
   "cell_type": "markdown",
   "metadata": {},
   "source": [
    "__[в]__  Попробуем новую для нас модель, $TBATS$. Это некоторое улучшение $ETS$, с тем как оно работает, мы будем разбиратться на следующей неделе. Пока просто обучим её и посмотрим на метрику качества. Запишите MAPE модели на тестовой выборке `ans3`. Не забудьте нарисовать картинку с динамикой прогнозов. "
   ]
  },
  {
   "cell_type": "code",
   "execution_count": null,
   "metadata": {
    "deletable": false,
    "nbgrader": {
     "cell_type": "code",
     "checksum": "aaa33d717f0ef5608c0256cc56aa3205",
     "grade": false,
     "grade_id": "cell-6afb5c7a0c7a7ccb",
     "locked": false,
     "schema_version": 3,
     "solution": true,
     "task": false
    }
   },
   "outputs": [],
   "source": [
    "from sktime.forecasting.tbats import TBATS\n",
    "\n",
    "forecaster = TBATS(sp=12, \n",
    "                   use_trend=True, \n",
    "                   use_damped_trend=True,\n",
    "                   use_arma_errors=True,\n",
    "                   use_box_cox=True)\n",
    "    \n",
    "### ╰( ͡° ͜ʖ ͡° )つ▬▬ι═══════  bzzzzzzzzzz\n",
    "# will the code be with you\n",
    "    \n",
    "# your code here\n"
   ]
  },
  {
   "cell_type": "code",
   "execution_count": null,
   "metadata": {
    "deletable": false,
    "editable": false,
    "nbgrader": {
     "cell_type": "code",
     "checksum": "a5cc22457815bb2aa9dd4c213618ef07",
     "grade": true,
     "grade_id": "cell-c09cc2ecd3a34a05",
     "locked": true,
     "points": 1,
     "schema_version": 3,
     "solution": false,
     "task": false
    }
   },
   "outputs": [],
   "source": [
    "assert ans3 < 10\n",
    "\n",
    "# несколько похожих скрытых тестов"
   ]
  },
  {
   "cell_type": "markdown",
   "metadata": {},
   "source": [
    "__[г]__ Попробуем заключительную модель перед ансамблем, тетта-метод. В переменную `ans4` запишите получившеесся MAPE."
   ]
  },
  {
   "cell_type": "code",
   "execution_count": null,
   "metadata": {
    "deletable": false,
    "nbgrader": {
     "cell_type": "code",
     "checksum": "81ad0a2263da2f96ef556ad8b4bc4ab3",
     "grade": false,
     "grade_id": "cell-6456ae886f4d4da5",
     "locked": false,
     "schema_version": 3,
     "solution": true,
     "task": false
    }
   },
   "outputs": [],
   "source": [
    "from sktime.forecasting.theta import ThetaForecaster\n",
    "forecaster = ThetaForecaster(sp=12)\n",
    "\n",
    "### ╰( ͡° ͜ʖ ͡° )つ▬▬ι═══════  bzzzzzzzzzz\n",
    "# will the code be with you\n",
    "    \n",
    "# your code here\n"
   ]
  },
  {
   "cell_type": "code",
   "execution_count": null,
   "metadata": {
    "deletable": false,
    "editable": false,
    "nbgrader": {
     "cell_type": "code",
     "checksum": "04ea5e987e2958fa99913ed37349cf80",
     "grade": true,
     "grade_id": "cell-940482bf80781b75",
     "locked": true,
     "points": 1,
     "schema_version": 3,
     "solution": false,
     "task": false
    }
   },
   "outputs": [],
   "source": [
    "assert ans4 > 18\n",
    "\n",
    "# несколько похожих скрытых тестов"
   ]
  },
  {
   "cell_type": "markdown",
   "metadata": {},
   "source": [
    "__[д]__ Объединим все оценённые нами модели в ансамбль. Заполните недостающие части кода. В качестве `ans5` запишите MAPE для ансамбля. Удалось ли с помощью него получить хорошее качество? "
   ]
  },
  {
   "cell_type": "code",
   "execution_count": null,
   "metadata": {
    "deletable": false,
    "nbgrader": {
     "cell_type": "code",
     "checksum": "bc771d91bcc1da1b2d23bbaa98ca1ae5",
     "grade": false,
     "grade_id": "cell-d57be7fc7bc8c89e",
     "locked": false,
     "schema_version": 3,
     "solution": true,
     "task": false
    }
   },
   "outputs": [],
   "source": [
    "from sktime.forecasting.compose import EnsembleForecaster\n",
    "from sktime.forecasting.exp_smoothing import ExponentialSmoothing\n",
    "\n",
    "\n",
    "### ╰( ͡° ͜ʖ ͡° )つ▬▬ι═══════  bzzzzzzzzzz\n",
    "# will the code be with you\n",
    "\n",
    "forecaster = EnsembleForecaster(\n",
    "    [(\"ets\",   ExponentialSmoothing(trend=\"add\", seasonal=\"add\", sp=12)),\n",
    "     # tbats model here\n",
    "     # theta model here\n",
    "    ]\n",
    ")\n",
    "    \n",
    "\n",
    "# your code here\n"
   ]
  },
  {
   "cell_type": "code",
   "execution_count": null,
   "metadata": {
    "deletable": false,
    "editable": false,
    "nbgrader": {
     "cell_type": "code",
     "checksum": "e925f48be37721f656d2ca326718a596",
     "grade": true,
     "grade_id": "cell-98a505a48c15f4a4",
     "locked": true,
     "points": 1,
     "schema_version": 3,
     "solution": false,
     "task": false
    }
   },
   "outputs": [],
   "source": [
    "assert ans5 > 10\n",
    "\n",
    "# несколько похожих скрытых тестов"
   ]
  },
  {
   "cell_type": "markdown",
   "metadata": {},
   "source": [
    "> __ВАЖНО!!!__ Перед отправкой тетрадки в грейдер на оценивание закомментируйте код, который обучает модели. Оставьте только ответы, записанные в соотвествующие переменные. При выставлении оценки ваш код должен отрабатывать за 30 секунд. Из-за того, что модель обучается довольно долго, полноценный код процедуру тестирования не пройдёт."
   ]
  },
  {
   "cell_type": "markdown",
   "metadata": {},
   "source": [
    "# 2. Кросс-валидация\n",
    "\n",
    "Понятное дело, что просто разбить выборку на трэйн и тест, а затем построить прогноз на всю тестовую часть - мало. Такие оценки качества моделей не очень стабильны. Более того, при прогнозировании на разные горизонты, мы получаем разные ошибки.\n",
    "\n",
    "Для кросс-валидации будем использовать класс [SlidingWindowSplitter,](https://www.sktime.org/en/latest/api_reference/modules/auto_generated/sktime.forecasting.model_selection.SlidingWindowSplitter.html#sktime.forecasting.model_selection.SlidingWindowSplitter) в рамках которого реализовано скользящее окно. В тестовой выборке будем держать три месяца.\n",
    "\n",
    "На семинаре мы использовали средства sklearn, но sktime на порядок удобнее. "
   ]
  },
  {
   "cell_type": "code",
   "execution_count": null,
   "metadata": {},
   "outputs": [],
   "source": [
    "from sktime.forecasting.model_selection import SlidingWindowSplitter\n",
    "\n",
    "# параметры для кросс-валидации\n",
    "window_length = 27                     # y_train.size\n",
    "fh = ForecastingHorizon([1, 2, 3])     # максимум на 3 месяца вперёд\n",
    "fh_length = len(fh)                    # даты для тестовой выборки\n",
    "\n",
    "cv_window = SlidingWindowSplitter(window_length=window_length, fh=fh, start_with_window=True)\n",
    "\n",
    "n_splits = cv_window.get_n_splits(y)\n",
    "print(f\"Number of Folds = {n_splits}\")"
   ]
  },
  {
   "cell_type": "markdown",
   "metadata": {},
   "source": [
    "Выглядеть наше разбиение будет вот таким образом. Голубое - обучающая выборка, оранжевое - тестовая. Найти код для строительства такой картинки можно [в документации.](https://github.com/alan-turing-institute/sktime/blob/master/examples/window_splitters.ipynb) Там же описано много других стратегий кросс-валидации, уже реализованных в рамках пакета. \n",
    "\n",
    "![](split.png)"
   ]
  },
  {
   "cell_type": "markdown",
   "metadata": {},
   "source": [
    "Попробуем провести кросс-валидацию для Тетта-метода. Допишите в функции ниже нехватающие для этого части."
   ]
  },
  {
   "cell_type": "code",
   "execution_count": null,
   "metadata": {
    "deletable": false,
    "nbgrader": {
     "cell_type": "code",
     "checksum": "91833106a8ee40d932890b5861e7ab08",
     "grade": false,
     "grade_id": "cell-7765f08429216fa4",
     "locked": false,
     "schema_version": 3,
     "solution": true,
     "task": false
    }
   },
   "outputs": [],
   "source": [
    "def mape(y_true, y_pred): \n",
    "    return np.abs((y_true - y_pred) / y_true)* 100\n",
    "\n",
    "def cross_val_sccore(forecaster, y, cv=cv_window):\n",
    "    M = [ ]\n",
    "\n",
    "    for idx_train, idx_val in cv.split(y):\n",
    "        \n",
    "        y_tr = ...\n",
    "        y_val = ...\n",
    "        fh_val = ...\n",
    "        \n",
    "        # обучение модели\n",
    "        \n",
    "        y_pred = ...  # прогнозирование на период fh_val\n",
    "        \n",
    "        # your code here\n",
    "        \n",
    "        \n",
    "        M.append(mape(y_val, y_pred).values)\n",
    "        \n",
    "    return np.array(M)\n",
    "\n",
    "M = cross_val_sccore(ThetaForecaster(sp=12), y)\n",
    "quality = M.mean(axis=0)\n",
    "quality"
   ]
  },
  {
   "cell_type": "markdown",
   "metadata": {},
   "source": [
    "В векторе quality записано три различных значения MAPE нашей модели при прогнозировании на месяц, два и три вперёд."
   ]
  },
  {
   "cell_type": "code",
   "execution_count": null,
   "metadata": {},
   "outputs": [],
   "source": [
    "assert M.shape == (10, 3) # это не тест на оценку, его можно закоментить при отправке в грейдер"
   ]
  },
  {
   "cell_type": "markdown",
   "metadata": {},
   "source": [
    "Проведите кросс-валидацию для всех моделей из списка ниже. Какая из них показывает наилучший результат? В переменную `ans6` запишите номер модели, которая лучше всего прогноизрует на месяц вперёд. В перемменную `ans7` запишите номер модели, которая лучше всего прогнозирует на три месяца вперёд. Провизуализируйте получившееся качество на картинке по аналогии с семинаром."
   ]
  },
  {
   "cell_type": "code",
   "execution_count": null,
   "metadata": {
    "deletable": false,
    "nbgrader": {
     "cell_type": "code",
     "checksum": "541ebec158c55c66d8aaf46ec945e086",
     "grade": false,
     "grade_id": "cell-34987ab51bf7077d",
     "locked": false,
     "schema_version": 3,
     "solution": true,
     "task": false
    }
   },
   "outputs": [],
   "source": [
    "from sktime.forecasting.ets import AutoETS\n",
    "\n",
    "forecaster_1 = NaiveForecaster(strategy=\"last\")\n",
    "forecaster_2 = NaiveForecaster(strategy=\"mean\", window_length=12)\n",
    "forecaster_3 = NaiveForecaster(strategy=\"last\", sp=12)\n",
    "\n",
    "forecaster_4 = ThetaForecaster(sp=12)\n",
    "forecaster_5 = AutoETS(auto=True, sp=12, n_jobs=-1, information_criterion='bic')\n",
    "\n",
    "forecaster_6 = TBATS(sp=12, \n",
    "                   use_trend=True, \n",
    "                   use_damped_trend=True,\n",
    "                   use_arma_errors=True,\n",
    "                   use_box_cox=True)\n",
    "\n",
    "ans6 = ... \n",
    "ans7 = ...\n",
    "\n",
    "# your code here\n"
   ]
  },
  {
   "cell_type": "code",
   "execution_count": null,
   "metadata": {
    "deletable": false,
    "editable": false,
    "nbgrader": {
     "cell_type": "code",
     "checksum": "0e06280bcdabe1c5f7315063a674cbe4",
     "grade": true,
     "grade_id": "cell-bd34ab42e458c4a4",
     "locked": true,
     "points": 1,
     "schema_version": 3,
     "solution": false,
     "task": false
    }
   },
   "outputs": [],
   "source": [
    "assert ans6 > 0\n",
    "assert ans7 > 0\n",
    "assert ans6 < 7 \n",
    "assert ans7 < 7\n",
    "\n",
    "# несколько похожих скрытых тестов"
   ]
  },
  {
   "cell_type": "markdown",
   "metadata": {},
   "source": [
    "> __ВАЖНО!!!__ Перед отправкой тетрадки в грейдер на оценивание закомментируйте код, который обучает модели. Оставьте только ответы, записанные в соотвествующие переменные. При выставлении оценки ваш код должен отрабатывать за 30 секунд. Из-за того, что модель обучается довольно долго, полноценный код процедуру тестирования не пройдёт."
   ]
  },
  {
   "cell_type": "markdown",
   "metadata": {},
   "source": [
    "# Необязательное задание:\n",
    "\n",
    "1. Попробуйте прогнать наш пайплайн на всех городах. Найдите модель, которая побеждает в качестве прогноза чаще всего.\n",
    "\n",
    "2. Прочитайте [туториал от sktime,](https://nbviewer.jupyter.org/github/alan-turing-institute/sktime/blob/master/examples/01_forecasting.ipynb) в нём вы найдёте пример того как делать Griidsearch, а также онлайн-прогнозирование с постепенно сдвигающимся окном. Попробуйте добавить в наш пайплайн [другие модели](https://www.sktime.org/en/latest/api_reference.html#sktime-forecasting-time-series-forecasting) и сравнить их между собой. Можно попробовать добавить `Autoarima`, `Prophet`, `KNeighborsRegressor`. Обязательно посстарайтесь разобраться, как именно они строят свой прогноз. Если не выходит, приходите на форум, будем разбираться вместе! \n",
    "\n",
    "2. На гите библиотеки [есть довольно много примеров кода.](https://github.com/alan-turing-institute/sktime/tree/master/examples)"
   ]
  },
  {
   "cell_type": "markdown",
   "metadata": {},
   "source": [
    " ## Разбираемся в теории:\n",
    " \n",
    "В этом задании вы встретились с таким алгоритмом, как Тетта-метод. Его придумали в $2000$ году и он довольно простой. Попробуйте [самостоятельно разобраться с ним](https://robjhyndman.com/papers/Theta.pdf) по аналогии с тем, как мы на лекциии разбирали другие модели: \n",
    " \n",
    " 1. Выпишите уравнение модели\n",
    " 2. Разбиритесь как строится точечный прогноз\n",
    " 3. Разберитессь как строится доверительный интервал \n",
    " 4. Придумайте простую задачку с цифрами, из 5 наблюдений, и решите её на листочке\n"
   ]
  },
  {
   "cell_type": "code",
   "execution_count": null,
   "metadata": {},
   "outputs": [],
   "source": []
  }
 ],
 "metadata": {
  "kernelspec": {
   "display_name": "Python 3",
   "language": "python",
   "name": "python3"
  },
  "language_info": {
   "codemirror_mode": {
    "name": "ipython",
    "version": 3
   },
   "file_extension": ".py",
   "mimetype": "text/x-python",
   "name": "python",
   "nbconvert_exporter": "python",
   "pygments_lexer": "ipython3",
   "version": "3.8.5"
  }
 },
 "nbformat": 4,
 "nbformat_minor": 4
}
