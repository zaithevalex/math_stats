{
 "cells": [
  {
   "cell_type": "markdown",
   "metadata": {},
   "source": [
    "<center>\n",
    "<img src=\"logo.png\" height=\"900\"> \n",
    "</center>\n",
    "\n",
    "\n",
    "# Продолжаем проверять гипотезы\n",
    "\n",
    "В этом домашнем задании мы продолжим проверять гипотезы."
   ]
  },
  {
   "cell_type": "code",
   "execution_count": 18,
   "metadata": {},
   "outputs": [
    {
     "name": "stdout",
     "output_type": "stream",
     "text": [
      "Defaulting to user installation because normal site-packages is not writeable\n",
      "Collecting statsmodels\n",
      "  Downloading statsmodels-0.14.4-cp313-cp313-win_amd64.whl.metadata (9.5 kB)\n",
      "Requirement already satisfied: numpy<3,>=1.22.3 in c:\\users\\zaits\\appdata\\local\\packages\\pythonsoftwarefoundation.python.3.13_qbz5n2kfra8p0\\localcache\\local-packages\\python313\\site-packages (from statsmodels) (2.2.4)\n",
      "Requirement already satisfied: scipy!=1.9.2,>=1.8 in c:\\users\\zaits\\appdata\\local\\packages\\pythonsoftwarefoundation.python.3.13_qbz5n2kfra8p0\\localcache\\local-packages\\python313\\site-packages (from statsmodels) (1.15.2)\n",
      "Requirement already satisfied: pandas!=2.1.0,>=1.4 in c:\\users\\zaits\\appdata\\local\\packages\\pythonsoftwarefoundation.python.3.13_qbz5n2kfra8p0\\localcache\\local-packages\\python313\\site-packages (from statsmodels) (2.2.3)\n",
      "Collecting patsy>=0.5.6 (from statsmodels)\n",
      "  Downloading patsy-1.0.1-py2.py3-none-any.whl.metadata (3.3 kB)\n",
      "Requirement already satisfied: packaging>=21.3 in c:\\users\\zaits\\appdata\\local\\packages\\pythonsoftwarefoundation.python.3.13_qbz5n2kfra8p0\\localcache\\local-packages\\python313\\site-packages (from statsmodels) (24.2)\n",
      "Requirement already satisfied: python-dateutil>=2.8.2 in c:\\users\\zaits\\appdata\\local\\packages\\pythonsoftwarefoundation.python.3.13_qbz5n2kfra8p0\\localcache\\local-packages\\python313\\site-packages (from pandas!=2.1.0,>=1.4->statsmodels) (2.9.0.post0)\n",
      "Requirement already satisfied: pytz>=2020.1 in c:\\users\\zaits\\appdata\\local\\packages\\pythonsoftwarefoundation.python.3.13_qbz5n2kfra8p0\\localcache\\local-packages\\python313\\site-packages (from pandas!=2.1.0,>=1.4->statsmodels) (2025.2)\n",
      "Requirement already satisfied: tzdata>=2022.7 in c:\\users\\zaits\\appdata\\local\\packages\\pythonsoftwarefoundation.python.3.13_qbz5n2kfra8p0\\localcache\\local-packages\\python313\\site-packages (from pandas!=2.1.0,>=1.4->statsmodels) (2025.2)\n",
      "Requirement already satisfied: six>=1.5 in c:\\users\\zaits\\appdata\\local\\packages\\pythonsoftwarefoundation.python.3.13_qbz5n2kfra8p0\\localcache\\local-packages\\python313\\site-packages (from python-dateutil>=2.8.2->pandas!=2.1.0,>=1.4->statsmodels) (1.17.0)\n",
      "Downloading statsmodels-0.14.4-cp313-cp313-win_amd64.whl (9.8 MB)\n",
      "   ---------------------------------------- 0.0/9.8 MB ? eta -:--:--\n",
      "   ---------------------------------------- 0.0/9.8 MB ? eta -:--:--\n",
      "   - -------------------------------------- 0.3/9.8 MB ? eta -:--:--\n",
      "   ------- -------------------------------- 1.8/9.8 MB 5.9 MB/s eta 0:00:02\n",
      "   ----------- ---------------------------- 2.9/9.8 MB 7.3 MB/s eta 0:00:01\n",
      "   ------------- -------------------------- 3.4/9.8 MB 4.6 MB/s eta 0:00:02\n",
      "   ----------------------------- ---------- 7.3/9.8 MB 8.8 MB/s eta 0:00:01\n",
      "   ---------------------------------------- 9.8/9.8 MB 9.2 MB/s eta 0:00:00\n",
      "Downloading patsy-1.0.1-py2.py3-none-any.whl (232 kB)\n",
      "Installing collected packages: patsy, statsmodels\n",
      "Successfully installed patsy-1.0.1 statsmodels-0.14.4\n"
     ]
    },
    {
     "name": "stderr",
     "output_type": "stream",
     "text": [
      "\n",
      "[notice] A new release of pip is available: 25.0.1 -> 25.1.1\n",
      "[notice] To update, run: C:\\Users\\zaits\\AppData\\Local\\Microsoft\\WindowsApps\\PythonSoftwareFoundation.Python.3.13_qbz5n2kfra8p0\\python.exe -m pip install --upgrade pip\n"
     ]
    }
   ],
   "source": [
    "# ! pip install statsmodels"
   ]
  },
  {
   "cell_type": "code",
   "execution_count": 19,
   "metadata": {},
   "outputs": [],
   "source": [
    "import numpy as np\n",
    "import pandas as pd\n",
    "\n",
    "from scipy import stats as sts\n",
    "from statsmodels.stats.weightstats import ztest,zconfint\n",
    "\n",
    "import seaborn as sns\n",
    "import matplotlib.pyplot as plt\n",
    "\n",
    "plt.style.use('ggplot')\n",
    "%matplotlib inline"
   ]
  },
  {
   "cell_type": "code",
   "execution_count": 20,
   "metadata": {},
   "outputs": [
    {
     "name": "stdout",
     "output_type": "stream",
     "text": [
      "1.15.2\n"
     ]
    }
   ],
   "source": [
    "import scipy\n",
    "print(scipy.__version__)"
   ]
  },
  {
   "cell_type": "markdown",
   "metadata": {},
   "source": [
    "## Задание 1 (однородная игра)\n",
    "\n",
    "Киллер - это весёлая лагерная игра. Краткие правила игры:\n",
    "\n",
    "- Игроки пишут свои имена на карточках и кладут их в шляпу\n",
    "- Игроки рандомно вытаскивают карточки из шляпы \n",
    "- Полученное имя - имя жертвы\n",
    "- Каждый игрок одновременно и убийца и жертва\n",
    "- Чтобы убить другого игрока, надо оказаться с ним наедине и застрелить из пальца\n",
    "- Жертва убитого становится новой жертвой игрока\n",
    "- Побеждает тот, кто совершит наибольшее число убийств\n",
    "\n",
    "На экономическом факультете было два раунда игры в киллера. Все убийства регистрировались в гугл-форме. В табличках `killer_time1.csv` и `killer_time2.csv` лежит время в часах, которое проходило между убийствами."
   ]
  },
  {
   "cell_type": "code",
   "execution_count": 21,
   "metadata": {},
   "outputs": [],
   "source": [
    "killer1 = pd.read_csv(\"data/killer_time1.csv\").hours_between_kill.values\n",
    "killer2 = pd.read_csv(\"data/killer_time2.csv\").hours_between_kill.values"
   ]
  },
  {
   "cell_type": "code",
   "execution_count": 22,
   "metadata": {},
   "outputs": [
    {
     "data": {
      "image/png": "[encoded data removed]",
      "text/plain": [
       "<Figure size 640x480 with 1 Axes>"
      ]
     },
     "metadata": {},
     "output_type": "display_data"
    }
   ],
   "source": [
    "plt.hist(killer1, bins=20);"
   ]
  },
  {
   "cell_type": "code",
   "execution_count": 23,
   "metadata": {},
   "outputs": [
    {
     "data": {
      "image/png": "[encoded data removed]",
      "text/plain": [
       "<Figure size 640x480 with 1 Axes>"
      ]
     },
     "metadata": {},
     "output_type": "display_data"
    }
   ],
   "source": [
    "plt.hist(killer2, bins=20);"
   ]
  },
  {
   "cell_type": "markdown",
   "metadata": {},
   "source": [
    "Распределение выглядит, как экспоненциальное. Более того, по гистограммам возникает ощущение, что это одинаковое распределение. С помощью теста Колмогорова-Смирнова проверьте гипотезу о том, что обе выборки пришли из одного и того же распределения, $p$-значение, полученное при проверке запишите в переменную `pvalue1`. "
   ]
  },
  {
   "cell_type": "code",
   "execution_count": 24,
   "metadata": {
    "deletable": false,
    "nbgrader": {
     "cell_type": "code",
     "checksum": "44fb3b5304225f3947fbd73bc67a3d44",
     "grade": false,
     "grade_id": "cell-f8134e5d39cba5cd",
     "locked": false,
     "schema_version": 3,
     "solution": true,
     "task": false
    }
   },
   "outputs": [
    {
     "name": "stdout",
     "output_type": "stream",
     "text": [
      "pvalue1 = 0.5452509816793373\n"
     ]
    }
   ],
   "source": [
    "### ╰( ͡° ͜ʖ ͡° )つ▬▬ι═══════  bzzzzzzzzzz\n",
    "# will the code be with you\n",
    "\n",
    "# your code here\n",
    "pvalue1 = sts.ks_2samp(killer1, killer2)[1]\n",
    "print(f\"pvalue1 = {pvalue1}\")"
   ]
  },
  {
   "cell_type": "markdown",
   "metadata": {},
   "source": [
    "С помощью теста Колмогорова проверьте гипотезу о том, что время для первой игры имеет экспоненциальное распределение с параметром $\\lambda = 0.026$, $p$-значение, полученное при проверке запишите в переменную `pvalue2`. "
   ]
  },
  {
   "cell_type": "code",
   "execution_count": 25,
   "metadata": {
    "deletable": false,
    "nbgrader": {
     "cell_type": "code",
     "checksum": "b4e27fa1c6f0366a2e938430173a15b3",
     "grade": false,
     "grade_id": "cell-da5a87e744840bab",
     "locked": false,
     "schema_version": 3,
     "solution": true,
     "task": false
    }
   },
   "outputs": [
    {
     "name": "stdout",
     "output_type": "stream",
     "text": [
      "pvalue2 = 2.822430337321615e-39\n"
     ]
    }
   ],
   "source": [
    "### ╰( ͡° ͜ʖ ͡° )つ▬▬ι═══════  bzzzzzzzzzz\n",
    "# will the code be with you\n",
    "\n",
    "# your code here\n",
    "pvalue2 = sts.kstest(killer1, 'expon', args=(0, 0.026))[1]\n",
    "print(f\"pvalue2 = {pvalue2}\")"
   ]
  },
  {
   "cell_type": "code",
   "execution_count": 26,
   "metadata": {
    "deletable": false,
    "editable": false,
    "nbgrader": {
     "cell_type": "code",
     "checksum": "92729497f6a2fc0d98bc3610e4f4c72d",
     "grade": true,
     "grade_id": "cell-be55b7fce581170d",
     "locked": true,
     "points": 2,
     "schema_version": 3,
     "solution": false,
     "task": false
    }
   },
   "outputs": [],
   "source": [
    "# проверка того, что задание решено верно\n",
    "assert pvalue1 > 0.5\n",
    "\n",
    "# подобные тесты скрыты от вас "
   ]
  },
  {
   "cell_type": "markdown",
   "metadata": {},
   "source": [
    "## Задание 2 (мыши и зеркало)\n",
    "\n",
    "$16$ лабораторных мышей были помещены в двухкомнатные клетки, в одной из комнат висело зеркало. С целью установить, есть ли у мышей какие-то предпочтения насчет зеркал, измерялась доля времени, которое каждая мышь проводила в каждой из своих двух клеток.\n",
    "\n",
    "![](https://ars.els-cdn.com/content/image/1-s2.0-S0168159104000061-gr1.gif)\n",
    "\n",
    "В файле `mouses_mirror.txt` лежит информация о том, какую долю времени мышка проводила в клетке с зеркалом. "
   ]
  },
  {
   "cell_type": "code",
   "execution_count": 27,
   "metadata": {},
   "outputs": [
    {
     "data": {
      "image/png": "[encoded data removed]",
      "text/plain": [
       "<Figure size 640x480 with 1 Axes>"
      ]
     },
     "metadata": {},
     "output_type": "display_data"
    }
   ],
   "source": [
    "x = pd.read_csv('data/mouses_mirror.txt', header = None)[0].values\n",
    "plt.hist(x, density=True);"
   ]
  },
  {
   "cell_type": "markdown",
   "metadata": {},
   "source": [
    "Проверьте гипотезу о том, что мышкам безразлично в какой комнате проводить время с помощью критерия знаков. Сформулируйте нулевую гипотезу, перечислите основные особенности этого критерия. Запишите в переменную `pvalue_1` получившееся в результате этого $p$-значение. "
   ]
  },
  {
   "cell_type": "code",
   "execution_count": 28,
   "metadata": {
    "deletable": false,
    "nbgrader": {
     "cell_type": "code",
     "checksum": "69c18cd39cdcc6708cc99b3d2034796a",
     "grade": false,
     "grade_id": "cell-6b6cc3cc3f9d2e2d",
     "locked": false,
     "schema_version": 3,
     "solution": true,
     "task": false
    }
   },
   "outputs": [
    {
     "name": "stdout",
     "output_type": "stream",
     "text": [
      "pvalue_1 = 0.021270751953125\n"
     ]
    }
   ],
   "source": [
    "### ╰( ͡° ͜ʖ ͡° )つ▬▬ι═══════  bzzzzzzzzzz\n",
    "# will the code be with you\n",
    "\n",
    "# your code here\n",
    "pvalue_1 = 2 * (sts.binom(len(x > 0.5), 0.5).cdf(sum(x > 0.5)))\n",
    "print(f\"pvalue_1 = {pvalue_1}\")"
   ]
  },
  {
   "cell_type": "markdown",
   "metadata": {},
   "source": [
    "Проверьте гипотезу о том, что мышкам безразлично в какой комнате проводить время с помощью теста Вилкоксона. Сформулируйте нулевую гипотезу, перечислите основные особенности этого критерия.  Запишите в переменную `pvalue_2` получившееся в результате этого $p$-значение. "
   ]
  },
  {
   "cell_type": "code",
   "execution_count": 29,
   "metadata": {
    "deletable": false,
    "nbgrader": {
     "cell_type": "code",
     "checksum": "810237e6b508833ff45a566c9122dc2d",
     "grade": false,
     "grade_id": "cell-689716dd8c46567c",
     "locked": false,
     "schema_version": 3,
     "solution": true,
     "task": false
    }
   },
   "outputs": [
    {
     "name": "stdout",
     "output_type": "stream",
     "text": [
      "pvalue_2 = 0.09344482421875\n"
     ]
    }
   ],
   "source": [
    "### ╰( ͡° ͜ʖ ͡° )つ▬▬ι═══════  bzzzzzzzzzz\n",
    "# will the code be with you\n",
    "\n",
    "# your code here\n",
    "pvalue_2 = sts.wilcoxon(x - 0.5)[1]\n",
    "print(f\"pvalue_2 = {pvalue_2}\")"
   ]
  },
  {
   "cell_type": "markdown",
   "metadata": {},
   "source": [
    "Проверьте гипотезу о том, что мышкам безразлично в какой комнате проводить время с помощью асимптотического $z$-теста. Сформулируйте нулевую гипотезу, перечислите основные особенности этого критерия.  Запишите в переменную `pvalue_3` получившееся в результате этого $p$-значение. "
   ]
  },
  {
   "cell_type": "code",
   "execution_count": 30,
   "metadata": {
    "deletable": false,
    "nbgrader": {
     "cell_type": "code",
     "checksum": "b55c22e6795228bd3d57ea5a1e98c49a",
     "grade": false,
     "grade_id": "cell-4ce505503163ae74",
     "locked": false,
     "schema_version": 3,
     "solution": true,
     "task": false
    }
   },
   "outputs": [
    {
     "name": "stdout",
     "output_type": "stream",
     "text": [
      "pvalue_3 = 0.13460721078205806\n"
     ]
    }
   ],
   "source": [
    "from statsmodels.stats.weightstats import ztest,zconfint\n",
    "\n",
    "### ╰( ͡° ͜ʖ ͡° )つ▬▬ι═══════  bzzzzzzzzzz\n",
    "# will the code be with you\n",
    "\n",
    "# your code here\n",
    "pvalue_3 = ztest(x, value=0.5)[1]\n",
    "print(f\"pvalue_3 = {pvalue_3}\")"
   ]
  },
  {
   "cell_type": "code",
   "execution_count": 31,
   "metadata": {
    "deletable": false,
    "editable": false,
    "nbgrader": {
     "cell_type": "code",
     "checksum": "73290f06f31fe8c145c864dae9c02101",
     "grade": true,
     "grade_id": "cell-2f9dfc7c1834c8a5",
     "locked": true,
     "points": 2,
     "schema_version": 3,
     "solution": false,
     "task": false
    }
   },
   "outputs": [],
   "source": [
    "# проверка того, что задание решено верно\n",
    "assert pvalue_1 < 0.05\n",
    "assert pvalue_2 > 0.05\n",
    "assert pvalue_3 > 0.05\n",
    "\n",
    "# подобные тесты скрыты от вас "
   ]
  },
  {
   "cell_type": "markdown",
   "metadata": {},
   "source": [
    "Объясните, почему `pvalue` от теста к тесту ведёт себя именно так. Подробнее про опыт с мышками читайте [в оригинальном исследовании.](https://www.sciencedirect.com/science/article/abs/pii/S0168159104000061)"
   ]
  },
  {
   "cell_type": "markdown",
   "metadata": {},
   "source": [
    "## Задание 3 (энергетик)\n",
    "\n",
    "Исследовательница Глафира считает, что любовь к энергетическим напиткам и успешность сдачи экзамена по математической статистике должны быть как-то связаны. Опросив $200$ своих однокурсников, она получила следующие результаты:\n",
    "\n",
    "- Сдал, пьёт энергетик: 20\n",
    "- Сдал, не пьёт энергетик: 120\n",
    "- Завалил, пьёт энергетик: 40\n",
    "- Завалил, не пьёт энергетик: 20\n",
    "\n",
    "Правда ли, что энергетик оказывает на успешность сдачи экзамена какое-то влияние? Проверьте гипотезу с помощью критерия Пирсона. В качестве ответа запишите в переменную `pvalue` получившееся $p$-значение."
   ]
  },
  {
   "cell_type": "code",
   "execution_count": 32,
   "metadata": {
    "deletable": false,
    "nbgrader": {
     "cell_type": "code",
     "checksum": "11b701a76c7cad856b9a90da5179b7fe",
     "grade": false,
     "grade_id": "cell-8806588bc0865379",
     "locked": false,
     "schema_version": 3,
     "solution": true,
     "task": false
    }
   },
   "outputs": [
    {
     "name": "stdout",
     "output_type": "stream",
     "text": [
      "pvalue = 4.5058575666472013e-13\n"
     ]
    }
   ],
   "source": [
    "### ╰( ͡° ͜ʖ ͡° )つ▬▬ι═══════  bzzzzzzzzzz\n",
    "# will the code be with your\n",
    "\n",
    "# your code here\n",
    "pvalue = sts.chi2_contingency(np.array([[20, 40], [120, 20]]))[1]\n",
    "print(f\"pvalue = {pvalue}\")"
   ]
  },
  {
   "cell_type": "code",
   "execution_count": 33,
   "metadata": {
    "deletable": false,
    "editable": false,
    "nbgrader": {
     "cell_type": "code",
     "checksum": "da1fdd962d58f234934cc003b1d90290",
     "grade": true,
     "grade_id": "cell-920f09f17b0aafde",
     "locked": true,
     "points": 2,
     "schema_version": 3,
     "solution": false,
     "task": false
    }
   },
   "outputs": [],
   "source": [
    "# проверка того, что задание решено верно\n",
    "assert pvalue < 0.05\n",
    "\n",
    "# подобные тесты скрыты от вас "
   ]
  },
  {
   "cell_type": "markdown",
   "metadata": {},
   "source": [
    "## Задание 4 (бомбардировки)\n",
    "\n",
    "В таблице `london_07-09-1940.tsv` лежат данные о бомбардировке Лондона 7 сентября 1940 года немецкой авиацией. Интересно выяснить, насколько прицельно велась бомбардировка. Если немецкие войска знали, где именно находятся британские военные объекты, они вели бы бомбардировку пристрельно.  \n",
    "\n",
    "Ещё больше данных о бомбардировке Лондона ищите здесь: http://bombsight.org/data/sources/"
   ]
  },
  {
   "cell_type": "code",
   "execution_count": 34,
   "metadata": {},
   "outputs": [
    {
     "name": "stdout",
     "output_type": "stream",
     "text": [
      "(751, 6)\n"
     ]
    },
    {
     "data": {
      "text/html": [
       "<div>\n",
       "<style scoped>\n",
       "    .dataframe tbody tr th:only-of-type {\n",
       "        vertical-align: middle;\n",
       "    }\n",
       "\n",
       "    .dataframe tbody tr th {\n",
       "        vertical-align: top;\n",
       "    }\n",
       "\n",
       "    .dataframe thead th {\n",
       "        text-align: right;\n",
       "    }\n",
       "</style>\n",
       "<table border=\"1\" class=\"dataframe\">\n",
       "  <thead>\n",
       "    <tr style=\"text-align: right;\">\n",
       "      <th></th>\n",
       "      <th>Time</th>\n",
       "      <th>Location</th>\n",
       "      <th>Type_of_bomb</th>\n",
       "      <th>Damage</th>\n",
       "      <th>x</th>\n",
       "      <th>y</th>\n",
       "    </tr>\n",
       "  </thead>\n",
       "  <tbody>\n",
       "    <tr>\n",
       "      <th>0</th>\n",
       "      <td>0:08</td>\n",
       "      <td>43 Southwark Park Road, SE16, London, UK</td>\n",
       "      <td>IB</td>\n",
       "      <td>Grocers: 3x2 roof damaged</td>\n",
       "      <td>-0.127660</td>\n",
       "      <td>51.507351</td>\n",
       "    </tr>\n",
       "    <tr>\n",
       "      <th>1</th>\n",
       "      <td>0:10</td>\n",
       "      <td>49 Southwark Park road, Bermondsey, SE16, Lond...</td>\n",
       "      <td>IB</td>\n",
       "      <td>Bakers: 3x2 roof damaged</td>\n",
       "      <td>-0.054303</td>\n",
       "      <td>51.487794</td>\n",
       "    </tr>\n",
       "    <tr>\n",
       "      <th>2</th>\n",
       "      <td>0:15</td>\n",
       "      <td>84 Southwark Park Road, SE16, London, UK</td>\n",
       "      <td>IB</td>\n",
       "      <td>front room on 1st floor and contents slightly ...</td>\n",
       "      <td>-0.127660</td>\n",
       "      <td>51.507351</td>\n",
       "    </tr>\n",
       "    <tr>\n",
       "      <th>3</th>\n",
       "      <td>0:18</td>\n",
       "      <td>141 Braidwood Road, Catford SE6, London, UK</td>\n",
       "      <td>IB</td>\n",
       "      <td>10x6 roof damage</td>\n",
       "      <td>-0.025584</td>\n",
       "      <td>51.443299</td>\n",
       "    </tr>\n",
       "    <tr>\n",
       "      <th>4</th>\n",
       "      <td>0:20</td>\n",
       "      <td>129 Killearn Road, Catford SE6, London, UK</td>\n",
       "      <td>IB</td>\n",
       "      <td>Front room on 1st floor severely damaged</td>\n",
       "      <td>-0.025584</td>\n",
       "      <td>51.443299</td>\n",
       "    </tr>\n",
       "  </tbody>\n",
       "</table>\n",
       "</div>"
      ],
      "text/plain": [
       "   Time                                           Location Type_of_bomb  \\\n",
       "0  0:08           43 Southwark Park Road, SE16, London, UK           IB   \n",
       "1  0:10  49 Southwark Park road, Bermondsey, SE16, Lond...           IB   \n",
       "2  0:15           84 Southwark Park Road, SE16, London, UK           IB   \n",
       "3  0:18        141 Braidwood Road, Catford SE6, London, UK           IB   \n",
       "4  0:20         129 Killearn Road, Catford SE6, London, UK           IB   \n",
       "\n",
       "                                              Damage         x          y  \n",
       "0                          Grocers: 3x2 roof damaged -0.127660  51.507351  \n",
       "1                           Bakers: 3x2 roof damaged -0.054303  51.487794  \n",
       "2  front room on 1st floor and contents slightly ... -0.127660  51.507351  \n",
       "3                                   10x6 roof damage -0.025584  51.443299  \n",
       "4           Front room on 1st floor severely damaged -0.025584  51.443299  "
      ]
     },
     "execution_count": 34,
     "metadata": {},
     "output_type": "execute_result"
    }
   ],
   "source": [
    "df = pd.read_csv('data/london_07-09-1940.tsv', sep='\\t')\n",
    "print(df.shape)\n",
    "df.head()"
   ]
  },
  {
   "cell_type": "code",
   "execution_count": 35,
   "metadata": {},
   "outputs": [
    {
     "data": {
      "image/png": "[encoded data removed]",
      "text/plain": [
       "<Figure size 640x480 with 1 Axes>"
      ]
     },
     "metadata": {},
     "output_type": "display_data"
    }
   ],
   "source": [
    "plt.scatter(df.x, df.y);"
   ]
  },
  {
   "cell_type": "markdown",
   "metadata": {},
   "source": [
    "В колонках $x$ и $y$ лежат координаты точки, куда упала бомба. Разбейте Лондон решёткой размера $30 \\times 30$ на $900$ небольших квадратных участков. С помощью функции `binned_statistic_2d` из пакета `scipy.stats`, подсчитайте как часто снаряд попадал на какой из участков. Поместите информацию об этом в переменную `ret`. "
   ]
  },
  {
   "cell_type": "code",
   "execution_count": 37,
   "metadata": {
    "deletable": false,
    "nbgrader": {
     "cell_type": "code",
     "checksum": "3d8e8a1156fdd06c8ae186fb41313b02",
     "grade": false,
     "grade_id": "cell-2a06adb25a0b5542",
     "locked": false,
     "schema_version": 3,
     "solution": true,
     "task": false
    }
   },
   "outputs": [
    {
     "data": {
      "image/png": "[encoded data removed]",
      "text/plain": [
       "<Figure size 640x480 with 2 Axes>"
      ]
     },
     "metadata": {},
     "output_type": "display_data"
    }
   ],
   "source": [
    "binx = np.linspace(df.x.min(), df.x.max(), 31)\n",
    "biny = np.linspace(df.y.min(), df.y.max(), 31)\n",
    "\n",
    "### ╰( ͡° ͜ʖ ͡° )つ▬▬ι═══════  bzzzzzzzzzz\n",
    "# will the code be with you\n",
    "\n",
    "# your code here\n",
    "from scipy.stats import binned_statistic_2d\n",
    "\n",
    "ret = binned_statistic_2d(df.x, df.y, None, statistic='count', bins=[binx, biny])\n",
    "sns.heatmap(ret.statistic);"
   ]
  },
  {
   "cell_type": "markdown",
   "metadata": {},
   "source": [
    "Распакуйте информацию о попаданиях в участки в вектор `z`. Нарисуте гистограмму для получившегося распределения. "
   ]
  },
  {
   "cell_type": "code",
   "execution_count": 39,
   "metadata": {
    "deletable": false,
    "nbgrader": {
     "cell_type": "code",
     "checksum": "3fbbdfb1fc38caf7a66e28a32e3d5cd5",
     "grade": false,
     "grade_id": "cell-1b692a90383e2eff",
     "locked": false,
     "schema_version": 3,
     "solution": true,
     "task": false
    }
   },
   "outputs": [
    {
     "data": {
      "image/png": "[encoded data removed]",
      "text/plain": [
       "<Figure size 640x480 with 1 Axes>"
      ]
     },
     "metadata": {},
     "output_type": "display_data"
    }
   ],
   "source": [
    "### ╰( ͡° ͜ʖ ͡° )つ▬▬ι═══════  bzzzzzzzzzz\n",
    "# will the code be with you\n",
    "\n",
    "# your code here\n",
    "z = ret.statistic.ravel()\n",
    "plt.hist(z, bins=30)\n",
    "plt.show()"
   ]
  },
  {
   "cell_type": "markdown",
   "metadata": {},
   "source": [
    "Участков много, а вероятность попадания на отдельный участок мала. При справедливости гипотезы о низкой точности стрельбы мы можем воспользоваться законом редких событий:\n",
    "\n",
    "> Если в схеме испытаний Бернулли $p \\to 0$, а $n \\to \\infty$, оно сходится к распределению Пуассона. \n",
    "\n",
    "Получается, что __при верности гипотезы о низкой точности стрельбы,__ число попаданий в квадрат имеет распределение Пуассона. Дополнительно будем предполагать, что попадания на разные участки независимы друг от друга. \n",
    "\n",
    "C помощью критерия Пирсона проверьте гипотезу о том, что число попаданий на участок имеет распределение Пуассона. Прежде, чем вычислять статистику, объедините все наблюдения из хвоста в одно по аналогии с лекцией. Хвостом будем считать все наблюдения $\\ge 9$. Получившуюся в результате расчётов статистику запишите в переменную `T`."
   ]
  },
  {
   "cell_type": "code",
   "execution_count": 44,
   "metadata": {
    "deletable": false,
    "nbgrader": {
     "cell_type": "code",
     "checksum": "27458dfda82dafb25009a2fa92b137b2",
     "grade": false,
     "grade_id": "cell-ae799b5490316110",
     "locked": false,
     "schema_version": 3,
     "solution": true,
     "task": false
    }
   },
   "outputs": [
    {
     "name": "stdout",
     "output_type": "stream",
     "text": [
      "T = 130869588.0336\n"
     ]
    }
   ],
   "source": [
    "### ╰( ͡° ͜ʖ ͡° )つ▬▬ι═══════  bzzzzzzzzzz\n",
    "# will the code be with you\n",
    "\n",
    "# your code here\n",
    "from scipy.stats import poisson\n",
    "\n",
    "z_capped = np.clip(ret.statistic.ravel(), a_min=0, a_max=9)\n",
    "z_capped = z_capped[~np.isnan(z_capped)]\n",
    "lambda_mle = z_capped.mean()\n",
    "bins = np.arange(11)\n",
    "observed_freq, _ = np.histogram(z_capped, bins=np.append(bins, np.inf))\n",
    "probs = poisson.pmf(bins, mu=lambda_mle)\n",
    "probs[-1] = 1 - poisson.cdf(8, mu=lambda_mle)\n",
    "expected_freq = probs * len(z_capped)\n",
    "T = np.sum((observed_freq - expected_freq) ** 2 / expected_freq)\n",
    "print(f\"T = {T:.4f}\")"
   ]
  },
  {
   "cell_type": "code",
   "execution_count": 45,
   "metadata": {
    "deletable": false,
    "editable": false,
    "nbgrader": {
     "cell_type": "code",
     "checksum": "04a992cbb78c1776904005722f0fad09",
     "grade": true,
     "grade_id": "cell-2986a877274d9a7e",
     "locked": true,
     "points": 2,
     "schema_version": 3,
     "solution": false,
     "task": false
    }
   },
   "outputs": [],
   "source": [
    "# проверка того, что задание решено верно\n",
    "assert T > 6000\n",
    "\n",
    "# подобные тесты скрыты от вас "
   ]
  },
  {
   "cell_type": "markdown",
   "metadata": {},
   "source": [
    "Какой вывод мы можем из этого сделать? Правда ли, что бомбардировка осуществлялась прицельно? \n",
    "Бомбардировка осуществлялась прицельно, так как распределение \"выстрелов\" не случайно, а приоритетно в некоторых областях."
   ]
  },
  {
   "cell_type": "markdown",
   "metadata": {},
   "source": [
    "## Задание 5 (дискриминация)\n",
    "\n",
    "Компания Verizon - основная региональная телекоммуникационная компания в западной части США. Она отвечает за поддержание наземной телефонной связи (Incumbent Local Exchange Carrier, ILEC). Кроме того, она продаёт услуги междугородней связи, как и ряд её конкурентов, получивших название (Competing Local Exchange Carriers, CLEC).\n",
    "\n",
    "Когда что-то шло не так, Verizon отвечала за ремонт своего оборудования и оборудования конкурентов. Она должна была делать ремонт оборудования конкурентов также быстро, как и ремонт своего оборудования. За этим следила комиссия по коммунальным услугам. \n",
    "\n",
    "Периодически возникали подозрения, что Verizon ремонтирует чужое оборудование медленнее. Тим Хестерберг, автор [отличной статьи про бустрап,](https://arxiv.org/pdf/1411.5279.pdf) консультировал компанию Verizon во время слушаний о нарушениях. Комиссия сравнивала время ремонта для Verizon и других компаний. Чтобы определить есть ли нарушения, в каждом случае, она проверяла гипотезу о равенстве средних на уровне значимости $1\\%$. \n",
    "\n",
    "Если более $1\\%$ тестов оказывались значимыми, компания должна была бы заплатить высокий штраф. Гипотезы проверялись с помощью $t$-статистик. После консультации Тима, Verizon предложила использовать тесты, робастные к выбросам и никак не завязанные на нормальность исходных распределений.\n",
    "\n",
    "Мы в этом задании попробуем ответить на тот же вопрос, связанный с дискриминацией, но с помощью бустрапа. Для этого мы построим доверительный интервал для разности медиан и посмотрим входит ли в него ноль. Будем использовать уровень значимости в $1\\%$. Доверительный интервал будем строить для одной CLEC-комиании и для Verizon. "
   ]
  },
  {
   "cell_type": "code",
   "execution_count": 46,
   "metadata": {},
   "outputs": [
    {
     "name": "stdout",
     "output_type": "stream",
     "text": [
      "(1687, 2)\n"
     ]
    },
    {
     "data": {
      "text/html": [
       "<div>\n",
       "<style scoped>\n",
       "    .dataframe tbody tr th:only-of-type {\n",
       "        vertical-align: middle;\n",
       "    }\n",
       "\n",
       "    .dataframe tbody tr th {\n",
       "        vertical-align: top;\n",
       "    }\n",
       "\n",
       "    .dataframe thead th {\n",
       "        text-align: right;\n",
       "    }\n",
       "</style>\n",
       "<table border=\"1\" class=\"dataframe\">\n",
       "  <thead>\n",
       "    <tr style=\"text-align: right;\">\n",
       "      <th></th>\n",
       "      <th>Time</th>\n",
       "      <th>Group</th>\n",
       "    </tr>\n",
       "  </thead>\n",
       "  <tbody>\n",
       "    <tr>\n",
       "      <th>0</th>\n",
       "      <td>17.50</td>\n",
       "      <td>ILEC</td>\n",
       "    </tr>\n",
       "    <tr>\n",
       "      <th>1</th>\n",
       "      <td>2.40</td>\n",
       "      <td>ILEC</td>\n",
       "    </tr>\n",
       "    <tr>\n",
       "      <th>2</th>\n",
       "      <td>0.00</td>\n",
       "      <td>ILEC</td>\n",
       "    </tr>\n",
       "    <tr>\n",
       "      <th>3</th>\n",
       "      <td>0.65</td>\n",
       "      <td>ILEC</td>\n",
       "    </tr>\n",
       "    <tr>\n",
       "      <th>4</th>\n",
       "      <td>22.23</td>\n",
       "      <td>ILEC</td>\n",
       "    </tr>\n",
       "  </tbody>\n",
       "</table>\n",
       "</div>"
      ],
      "text/plain": [
       "    Time Group\n",
       "0  17.50  ILEC\n",
       "1   2.40  ILEC\n",
       "2   0.00  ILEC\n",
       "3   0.65  ILEC\n",
       "4  22.23  ILEC"
      ]
     },
     "execution_count": 46,
     "metadata": {},
     "output_type": "execute_result"
    }
   ],
   "source": [
    "df = pd.read_csv('data/verizon.txt', sep='\\t')\n",
    "print(df.shape)\n",
    "\n",
    "# ILEC - Verizion\n",
    "# CLEC - внешние клиенты \n",
    "df.head()"
   ]
  },
  {
   "cell_type": "markdown",
   "metadata": {},
   "source": [
    "Посмотрим на то, как распределено время ремонта для разных компаний, а также на число наблюдений, которым мы располагаем. "
   ]
  },
  {
   "cell_type": "code",
   "execution_count": 47,
   "metadata": {},
   "outputs": [
    {
     "data": {
      "text/html": [
       "<div>\n",
       "<style scoped>\n",
       "    .dataframe tbody tr th:only-of-type {\n",
       "        vertical-align: middle;\n",
       "    }\n",
       "\n",
       "    .dataframe tbody tr th {\n",
       "        vertical-align: top;\n",
       "    }\n",
       "\n",
       "    .dataframe thead th {\n",
       "        text-align: right;\n",
       "    }\n",
       "</style>\n",
       "<table border=\"1\" class=\"dataframe\">\n",
       "  <thead>\n",
       "    <tr style=\"text-align: right;\">\n",
       "      <th></th>\n",
       "      <th>count</th>\n",
       "      <th>mean</th>\n",
       "      <th>median</th>\n",
       "      <th>std</th>\n",
       "    </tr>\n",
       "    <tr>\n",
       "      <th>Group</th>\n",
       "      <th></th>\n",
       "      <th></th>\n",
       "      <th></th>\n",
       "      <th></th>\n",
       "    </tr>\n",
       "  </thead>\n",
       "  <tbody>\n",
       "    <tr>\n",
       "      <th>CLEC</th>\n",
       "      <td>23</td>\n",
       "      <td>16.509130</td>\n",
       "      <td>14.33</td>\n",
       "      <td>19.503576</td>\n",
       "    </tr>\n",
       "    <tr>\n",
       "      <th>ILEC</th>\n",
       "      <td>1664</td>\n",
       "      <td>8.411611</td>\n",
       "      <td>3.59</td>\n",
       "      <td>14.690039</td>\n",
       "    </tr>\n",
       "  </tbody>\n",
       "</table>\n",
       "</div>"
      ],
      "text/plain": [
       "       count       mean  median        std\n",
       "Group                                     \n",
       "CLEC      23  16.509130   14.33  19.503576\n",
       "ILEC    1664   8.411611    3.59  14.690039"
      ]
     },
     "execution_count": 47,
     "metadata": {},
     "output_type": "execute_result"
    }
   ],
   "source": [
    "df.groupby('Group')['Time'].agg(['count', 'mean', 'median', 'std'])"
   ]
  },
  {
   "cell_type": "markdown",
   "metadata": {},
   "source": [
    "В данных есть существенный перекос в количестве наблюдений. Среднее время ремонта CLEC почти вдвое больше, чем для ILEC. Вопрос в том, является ли это свидетельством дискриминации. Если посмотреть на распределение, можно заметить, что распределение времени на ремонт CLEC имеет как минимум один выброс. Тем не менее, если смотреть на медианы, которые робастны (нечувствительны) к выбросам, ситуация, связанная со временем оказывается ещё более драмматичной. "
   ]
  },
  {
   "cell_type": "code",
   "execution_count": 48,
   "metadata": {},
   "outputs": [
    {
     "data": {
      "image/png": "[encoded data removed]",
      "text/plain": [
       "<Figure size 1200x500 with 1 Axes>"
      ]
     },
     "metadata": {},
     "output_type": "display_data"
    }
   ],
   "source": [
    "plt.figure(figsize=(12,5))\n",
    "df[df.Group == 'ILEC'].Time.hist(bins=15, label='Verizion', alpha=0.4, density=True)\n",
    "df[df.Group == 'CLEC'].Time.hist(bins=15, label='CLEC', alpha=0.4, density=True)\n",
    "plt.legend();"
   ]
  },
  {
   "cell_type": "markdown",
   "metadata": {},
   "source": [
    "__а)__ Постройте для разницы $med_{CLEC} - med_{Verizion}$ доверительный интервал Эфрона (перцентильный доверительный интервал). "
   ]
  },
  {
   "cell_type": "code",
   "execution_count": 78,
   "metadata": {
    "deletable": false,
    "nbgrader": {
     "cell_type": "code",
     "checksum": "4c45f252c5a6ca950abf65491700623d",
     "grade": false,
     "grade_id": "cell-2327d4f1eaf528d9",
     "locked": false,
     "schema_version": 3,
     "solution": true,
     "task": false
    }
   },
   "outputs": [
    {
     "data": {
      "image/png": "[encoded data removed]",
      "text/plain": [
       "<Figure size 1000x600 with 1 Axes>"
      ]
     },
     "metadata": {},
     "output_type": "display_data"
    },
    {
     "name": "stdout",
     "output_type": "stream",
     "text": [
      "99% Confidence Interval: [1.73, 17.56]\n"
     ]
    }
   ],
   "source": [
    "### ╰( ͡° ͜ʖ ͡° )つ▬▬ι═══════  bzzzzzzzzzz\n",
    "# will the code be with you\n",
    "\n",
    "B_sample=10**4\n",
    "\n",
    "# your code here\n",
    "ilec_vals = df[df['Group'] == 'ILEC']['Time'].values \n",
    "clec_vals = df[df['Group'] == 'CLEC']['Time'].values\n",
    "\n",
    "ilec_bs = np.random.choice(ilec_vals, (len(ilec_vals), B_sample))\n",
    "clec_bs = np.random.choice(clec_vals, (len(clec_vals), B_sample))\n",
    "\n",
    "med_ilec = np.median(ilec_bs, 0)\n",
    "med_clec = np.median(clec_bs, 0)\n",
    "\n",
    "plt.figure(figsize=(10,6))\n",
    "plt.hist(med_ilec, bins=40, color='blue', alpha=0.7)\n",
    "plt.grid(True)\n",
    "plt.show()\n",
    "\n",
    "diff_medians = med_clec - med_ilec\n",
    "ci_low = np.percentile(diff_medians, 0.5)\n",
    "ci_high = np.percentile(diff_medians, 99.5)\n",
    "\n",
    "print(f\"99% Confidence Interval: [{ci_low:.2f}, {ci_high:.2f}]\")"
   ]
  },
  {
   "cell_type": "code",
   "execution_count": 79,
   "metadata": {
    "deletable": false,
    "editable": false,
    "nbgrader": {
     "cell_type": "code",
     "checksum": "fa0c24e3dedec0cf189ed6f5f313fc4f",
     "grade": true,
     "grade_id": "cell-cca59662f5bc18d8",
     "locked": true,
     "points": 1,
     "schema_version": 3,
     "solution": false,
     "task": false
    }
   },
   "outputs": [],
   "source": [
    "# проверка того, что задание решено верно\n",
    "assert left > 1.6\n",
    "assert right < 20\n",
    "\n",
    "# подобные тесты скрыты от вас "
   ]
  },
  {
   "cell_type": "markdown",
   "metadata": {},
   "source": [
    "В целом, перцентильный интервал выглядит самым простым вариантом оценивания, однако в реальности он даёт весьма плохие результаты, так как сильно зависит от того насколько хорошо изначальная выборка аппроксимирует истинное распределение случайной величины. В данной ситуации из-за того, что исходное распределение асимметрично, мы получаем смещение."
   ]
  },
  {
   "cell_type": "markdown",
   "metadata": {},
   "source": [
    "__б)__ Постройте для разницы $med_{CLEC} - med_{Verizion}$ доверительный интервал Холла (обратный перцентильный доверительный интервал). "
   ]
  },
  {
   "cell_type": "code",
   "execution_count": 81,
   "metadata": {
    "deletable": false,
    "nbgrader": {
     "cell_type": "code",
     "checksum": "ca2044719d18bddb40ee53de06224d3f",
     "grade": false,
     "grade_id": "cell-3edef04b243d2f2a",
     "locked": false,
     "schema_version": 3,
     "solution": true,
     "task": false
    }
   },
   "outputs": [
    {
     "name": "stdout",
     "output_type": "stream",
     "text": [
      "interval(np.float64(3.9499000000000173), np.float64(19.75))\n"
     ]
    }
   ],
   "source": [
    "### ╰( ͡° ͜ʖ ͡° )つ▬▬ι═══════  bzzzzzzzzzz\n",
    "# will the code be with you\n",
    "\n",
    "# your code here\n",
    "theta_hat = median_diff(clec, ilec)\n",
    "left = 2*theta_hat - np.percentile(boot_diffs, 99.5)\n",
    "right = 2*theta_hat - np.percentile(boot_diffs, 0.5)\n",
    "print(f\"interval{left, right}\")"
   ]
  },
  {
   "cell_type": "code",
   "execution_count": 82,
   "metadata": {
    "deletable": false,
    "editable": false,
    "nbgrader": {
     "cell_type": "code",
     "checksum": "d0a802d70460dc97a1c9a2552167573c",
     "grade": true,
     "grade_id": "cell-6ff2910865ff8fbe",
     "locked": true,
     "points": 1,
     "schema_version": 3,
     "solution": false,
     "task": false
    }
   },
   "outputs": [],
   "source": [
    "# проверка того, что задание решено верно\n",
    "assert left > 3\n",
    "assert right < 22\n",
    "\n",
    "# подобные тесты скрыты от вас "
   ]
  },
  {
   "cell_type": "markdown",
   "metadata": {},
   "source": [
    "Холл в своей работе называл перцентильный интервал \"the wrong pivot, backwards\". Обратный перцентильный интервал для асимметричных распределений делает то же самое, но в обратном направлении."
   ]
  },
  {
   "cell_type": "markdown",
   "metadata": {},
   "source": [
    "__в)__ Постройте $t-$ перцентильный доверительный интервал:\n",
    "\n",
    "1. Найдите точечную оценку неизвестного параметра (разность медиан) и точечную оценку стандартного отклонения\n",
    "2. Сгенерируйте $10^5$ boostrap-выборок\n",
    "3. Рассчитайте по каждой выбооке выборочную разницу медиан \n",
    "4. Рассчитайте по каждой выборке стандартную ошибку \n",
    "5. Найдите по каждой выборке $$t^* = \\frac{\\hat \\theta^{*} - \\hat{\\theta}}{S^{*}}$$\n",
    "6. Найдите для $t^{*}$ квантили уровня $0.05$ и $0.95$\n",
    "7. Постройте доверительный интервал для разности медиан\n",
    "\n",
    "В качестве $S^{*}$ исполизуйте сумму стандартных отклонений, посчитанных по выборкам $x$ и $y$. Конечно же, мы используем при таком подходе неправильное стандартное отклонение. При этом мы надеемся, что бутсрэп сам поправит нашу ошибку. При таком подходе главное, чтобы знаменатель сходился по вероятности к какому-нибудь пределу."
   ]
  },
  {
   "cell_type": "code",
   "execution_count": 87,
   "metadata": {
    "deletable": false,
    "nbgrader": {
     "cell_type": "code",
     "checksum": "0b2c5b761d7095c08855fb58ce522a0c",
     "grade": false,
     "grade_id": "cell-ea60593513f67e59",
     "locked": false,
     "schema_version": 3,
     "solution": true,
     "task": false
    }
   },
   "outputs": [],
   "source": [
    "### ╰( ͡° ͜ʖ ͡° )つ▬▬ι═══════  bzzzzzzzzzz\n",
    "# will the code be with you\n",
    "\n",
    "alpha = 0.01\n",
    "# your code here\n",
    "from scipy.stats import norm\n",
    "\n",
    "ilec = df.loc[df['Group'] == 'ILEC', 'Time'].to_numpy()\n",
    "clec = df.loc[df['Group'] == 'CLEC', 'Time'].to_numpy()\n",
    "n_ilec = len(ilec)\n",
    "n_clec = len(clec)\n",
    "rng = np.random.default_rng()\n",
    "point_estimate = np.median(ilec) - np.median(clec)\n",
    "\n",
    "boot_diffs = np.empty(B)\n",
    "boot_stds = np.empty(B)\n",
    "for i in range(B):\n",
    "    sample_ilec = rng.choice(ilec, size=n_ilec, replace=True)\n",
    "    sample_clec = rng.choice(clec, size=n_clec, replace=True)\n",
    "    med_ilec = np.median(sample_ilec)\n",
    "    med_clec = np.median(sample_clec)\n",
    "    boot_diffs[i] = med_ilec - med_clec\n",
    "    std_ilec = np.std(sample_ilec, ddof=1)\n",
    "    std_clec = np.std(sample_clec, ddof=1)\n",
    "    boot_stds[i] = std_ilec + std_clec\n",
    "\n",
    "lower_quantile = np.quantile(boot_diffs, alpha / 2)\n",
    "upper_quantile = np.quantile(boot_diffs, 1 - alpha / 2)\n",
    "lower_std = np.quantile(boot_stds, alpha / 2)\n",
    "upper_std = np.quantile(boot_stds, 1 - alpha / 2)\n",
    "z = norm.ppf(1 - alpha / 2)\n",
    "left = lower_quantile - z * upper_std\n",
    "right = upper_quantile + z * upper_std"
   ]
  },
  {
   "cell_type": "markdown",
   "metadata": {},
   "source": [
    "У $t$-bootstrap есть одно интересное свойство: он \"уважает\" асимметрию распределений при расчёте доверительных интервалов. "
   ]
  },
  {
   "cell_type": "code",
   "execution_count": 88,
   "metadata": {
    "deletable": false,
    "editable": false,
    "nbgrader": {
     "cell_type": "code",
     "checksum": "9be85326e2f97a948a7637e59bba77b1",
     "grade": true,
     "grade_id": "cell-d96f07e4a8a6a609",
     "locked": true,
     "points": 1,
     "schema_version": 3,
     "solution": false,
     "task": false
    }
   },
   "outputs": [],
   "source": [
    "# проверка того, что задание решено верно\n",
    "assert left < 2\n",
    "assert right > 20\n",
    "\n",
    "# подобные тесты скрыты от вас "
   ]
  },
  {
   "cell_type": "markdown",
   "metadata": {},
   "source": [
    "## Задание 6 (aaaaaaaaand its gone)\n",
    "\n",
    "Коэффициент асимметрии (skewness) говорит нам о скошенности распределения. В финансах, как правило, люди хотят положительной асимметрии, поскольку это означает, что большие положительные доходы вытянуты в хвост и с какой-то небольшой вероятностью могут быть очень большими. При этом, отрицательные доходы более тесно сгруппированы и предсказуемы.\n",
    "\n",
    "<center>\n",
    "<img src=\"https://upload.wikimedia.org/wikipedia/commons/thumb/c/cc/Relationship_between_mean_and_median_under_different_skewness.png/868px-Relationship_between_mean_and_median_under_different_skewness.png\" width=\"600\"> \n",
    "</center>\n",
    "\n",
    "Подгрузим данные о стоимости акций Яндекса в течение последних $10$ лет. Перейдите от цен к доходностям. С помощью метода `skew()` из модуля `scipy.stats` найдите значение асимметрии доходности акций Яндекса. Запишите получившееся значение в переменную `sk`. Что означает такое значение коэффициента для инвестора? "
   ]
  },
  {
   "cell_type": "markdown",
   "metadata": {},
   "source": [
    "Отрицательный коэффициент ассиметрии говорит о левосторонней ассиметрии. Медиана окажется правее среднего значения."
   ]
  },
  {
   "cell_type": "code",
   "execution_count": 104,
   "metadata": {},
   "outputs": [
    {
     "name": "stdout",
     "output_type": "stream",
     "text": [
      "(2291, 6)\n"
     ]
    },
    {
     "data": {
      "text/html": [
       "<div>\n",
       "<style scoped>\n",
       "    .dataframe tbody tr th:only-of-type {\n",
       "        vertical-align: middle;\n",
       "    }\n",
       "\n",
       "    .dataframe tbody tr th {\n",
       "        vertical-align: top;\n",
       "    }\n",
       "\n",
       "    .dataframe thead th {\n",
       "        text-align: right;\n",
       "    }\n",
       "</style>\n",
       "<table border=\"1\" class=\"dataframe\">\n",
       "  <thead>\n",
       "    <tr style=\"text-align: right;\">\n",
       "      <th></th>\n",
       "      <th>open</th>\n",
       "      <th>high</th>\n",
       "      <th>low</th>\n",
       "      <th>close</th>\n",
       "      <th>volume</th>\n",
       "      <th>adjusted</th>\n",
       "    </tr>\n",
       "    <tr>\n",
       "      <th>fielddate</th>\n",
       "      <th></th>\n",
       "      <th></th>\n",
       "      <th></th>\n",
       "      <th></th>\n",
       "      <th></th>\n",
       "      <th></th>\n",
       "    </tr>\n",
       "  </thead>\n",
       "  <tbody>\n",
       "    <tr>\n",
       "      <th>2011-05-24</th>\n",
       "      <td>35.000000</td>\n",
       "      <td>42.009998</td>\n",
       "      <td>30.549999</td>\n",
       "      <td>38.840000</td>\n",
       "      <td>70186700.0</td>\n",
       "      <td>38.840000</td>\n",
       "    </tr>\n",
       "    <tr>\n",
       "      <th>2011-05-25</th>\n",
       "      <td>37.750000</td>\n",
       "      <td>37.900002</td>\n",
       "      <td>34.400002</td>\n",
       "      <td>35.000000</td>\n",
       "      <td>11761600.0</td>\n",
       "      <td>35.000000</td>\n",
       "    </tr>\n",
       "    <tr>\n",
       "      <th>2011-05-26</th>\n",
       "      <td>34.450001</td>\n",
       "      <td>35.450001</td>\n",
       "      <td>34.000000</td>\n",
       "      <td>34.770000</td>\n",
       "      <td>4417500.0</td>\n",
       "      <td>34.770000</td>\n",
       "    </tr>\n",
       "    <tr>\n",
       "      <th>2011-05-27</th>\n",
       "      <td>34.750000</td>\n",
       "      <td>35.000000</td>\n",
       "      <td>34.000000</td>\n",
       "      <td>34.450001</td>\n",
       "      <td>2006000.0</td>\n",
       "      <td>34.450001</td>\n",
       "    </tr>\n",
       "    <tr>\n",
       "      <th>2011-05-31</th>\n",
       "      <td>34.950001</td>\n",
       "      <td>35.369999</td>\n",
       "      <td>32.610001</td>\n",
       "      <td>33.450001</td>\n",
       "      <td>3981100.0</td>\n",
       "      <td>33.450001</td>\n",
       "    </tr>\n",
       "  </tbody>\n",
       "</table>\n",
       "</div>"
      ],
      "text/plain": [
       "                 open       high        low      close      volume   adjusted\n",
       "fielddate                                                                    \n",
       "2011-05-24  35.000000  42.009998  30.549999  38.840000  70186700.0  38.840000\n",
       "2011-05-25  37.750000  37.900002  34.400002  35.000000  11761600.0  35.000000\n",
       "2011-05-26  34.450001  35.450001  34.000000  34.770000   4417500.0  34.770000\n",
       "2011-05-27  34.750000  35.000000  34.000000  34.450001   2006000.0  34.450001\n",
       "2011-05-31  34.950001  35.369999  32.610001  33.450001   3981100.0  33.450001"
      ]
     },
     "execution_count": 104,
     "metadata": {},
     "output_type": "execute_result"
    }
   ],
   "source": [
    "df = pd.read_csv('data/ynd.tsv', sep='\\t')\n",
    "df['fielddate'] = pd.to_datetime(df['fielddate'])\n",
    "df.set_index('fielddate', inplace=True)\n",
    "print(df.shape)\n",
    "df.head()"
   ]
  },
  {
   "cell_type": "code",
   "execution_count": 105,
   "metadata": {
    "deletable": false,
    "nbgrader": {
     "cell_type": "code",
     "checksum": "5f087384aca7deae5fd923bd30269835",
     "grade": false,
     "grade_id": "cell-d8f6ee277550bfec",
     "locked": false,
     "schema_version": 3,
     "solution": true,
     "task": false
    }
   },
   "outputs": [
    {
     "name": "stdout",
     "output_type": "stream",
     "text": [
      "sk = -0.15308974700747527\n"
     ]
    },
    {
     "data": {
      "image/png": "[encoded data removed]",
      "text/plain": [
       "<Figure size 640x480 with 1 Axes>"
      ]
     },
     "metadata": {},
     "output_type": "display_data"
    }
   ],
   "source": [
    "### ╰( ͡° ͜ʖ ͡° )つ▬▬ι═══════  bzzzzzzzzzz\n",
    "# will the code be with you\n",
    "from scipy.stats import skew\n",
    "r = (df.close.diff()/df.close.shift(1)).dropna()\n",
    "r = r.values\n",
    "\n",
    "# your code here\n",
    "from scipy.stats import skew\n",
    "sk = skew(r)\n",
    "print(f\"sk = {sk}\")\n",
    "plt.hist(r, bins=50)\n",
    "plt.show()"
   ]
  },
  {
   "cell_type": "markdown",
   "metadata": {},
   "source": [
    "Будем считать, что доходности акций независимы друг от друга. Проверим с помощью бустрапа гипотезу о том, что коэффициент асимметрии равен нулю. Для этого: \n",
    "\n",
    "1. Сгенерируйте $10^4$ бустрап-выборок\n",
    "2. Найдите бутстрап-распределение статистики $$\\delta = \\frac{\\hat{skew} - skew}{S}$$ Для этого $B$ раз сбустрапируйте выборку и по каждой из них найдите $$\\delta^{*} = \\frac{\\hat{skew^{*}} - \\hat{skew}}{S^{*}},$$ где  $\\hat{skew^{*}}$ - асимметрия, посчитанная по бустрап-выборке, $\\hat{skew}$ - асимметрия исходной выборки, $S^{*}$ - стандартное отклонение, рассчитанное по бустрап-выборке\n",
    "3. Посчитайте наблюдаемое значение статистики $$\\delta_{obs} = \\frac{\\hat{skew} - 0}{S},$$  где $S$ - стандартное отклонение исходной выборки\n",
    "4. Из бустрап распределения найдите критические значения статистики, при условии что гипотеза проверяется на уровне значимости $5\\%$ против двусторонней альтернативы. \n",
    "5. Сравните эти значения и сделайте вывод.\n",
    "\n",
    "В переменные `d_obs` и `d_crL`, `d_crR` поместите соотвествующие значения. Подробнее про разные виды бустрапа читайте в [этой статье](https://arxiv.org/pdf/1411.5279.pdf) "
   ]
  },
  {
   "cell_type": "code",
   "execution_count": 106,
   "metadata": {
    "deletable": false,
    "nbgrader": {
     "cell_type": "code",
     "checksum": "65280632691d6f0edd78ba8e82c3fedf",
     "grade": false,
     "grade_id": "cell-cfca1313e2e5a139",
     "locked": false,
     "schema_version": 3,
     "solution": true,
     "task": false
    }
   },
   "outputs": [
    {
     "name": "stdout",
     "output_type": "stream",
     "text": [
      "d_obs = -5.4053, d_crL = -18.0541, d_crR = 18.0639\n"
     ]
    }
   ],
   "source": [
    "### ╰( ͡° ͜ʖ ͡° )つ▬▬ι═══════  bzzzzzzzzzz\n",
    "# will the code be with you\n",
    "\n",
    "# your code here\n",
    "r_bootstrap = np.random.choice(r, size=(len(r), 10000))\n",
    "skew_bootstrap = skew(r_bootstrap, axis=0)\n",
    "delta_hat = (skew_bootstrap - sk) / np.std(r_bootstrap, axis=0, ddof=1)\n",
    "d_obs = (sk - 0) / np.std(r, ddof=1)\n",
    "d_crL = np.quantile(delta_hat, alpha/2)\n",
    "d_crR = np.quantile(delta_hat, 1-alpha/2)\n",
    "print(f\"d_obs = {d_obs:.4f}, d_crL = {d_crL:.4f}, d_crR = {d_crR:.4f}\")"
   ]
  },
  {
   "cell_type": "code",
   "execution_count": 107,
   "metadata": {},
   "outputs": [
    {
     "data": {
      "image/png": "[encoded data removed]",
      "text/plain": [
       "<Figure size 640x480 with 1 Axes>"
      ]
     },
     "metadata": {},
     "output_type": "display_data"
    }
   ],
   "source": [
    "plt.hist(skew_bootstrap, bins=40)\n",
    "plt.show()"
   ]
  },
  {
   "cell_type": "code",
   "execution_count": 108,
   "metadata": {},
   "outputs": [
    {
     "data": {
      "image/png": "[encoded data removed]",
      "text/plain": [
       "<Figure size 640x480 with 1 Axes>"
      ]
     },
     "metadata": {},
     "output_type": "display_data"
    }
   ],
   "source": [
    "plt.hist(delta_hat, bins=40)\n",
    "plt.show()"
   ]
  },
  {
   "cell_type": "code",
   "execution_count": 109,
   "metadata": {
    "deletable": false,
    "editable": false,
    "nbgrader": {
     "cell_type": "code",
     "checksum": "0c56c0828f6d400e71c4824ac2addb70",
     "grade": true,
     "grade_id": "cell-4ba13b21b85d9610",
     "locked": true,
     "points": 1,
     "schema_version": 3,
     "solution": false,
     "task": false
    }
   },
   "outputs": [],
   "source": [
    "# проверка того, что задание решено верно\n",
    "assert np.abs(sk + 0.15308974) < 1e-4\n",
    "assert d_crL < 14\n",
    "\n",
    "# подобные тесты скрыты от вас "
   ]
  },
  {
   "cell_type": "markdown",
   "metadata": {},
   "source": [
    "С помощью получившегося бустрап-распределения и найденной наблюдаемой статистики $d$ оцените $p-$значение. Запишите его в переменную `pvalue`. "
   ]
  },
  {
   "cell_type": "code",
   "execution_count": 110,
   "metadata": {
    "deletable": false,
    "nbgrader": {
     "cell_type": "code",
     "checksum": "a140e70d3563b5d4d3edb8e0a55ad7ee",
     "grade": false,
     "grade_id": "cell-ef9cf386e1050b5d",
     "locked": false,
     "schema_version": 3,
     "solution": true,
     "task": false
    }
   },
   "outputs": [
    {
     "name": "stdout",
     "output_type": "stream",
     "text": [
      "pvalue = 0.4472\n"
     ]
    }
   ],
   "source": [
    "### ╰( ͡° ͜ʖ ͡° )つ▬▬ι═══════  bzzzzzzzzzz\n",
    "# will the code be with you\n",
    "\n",
    "# your code here\n",
    "pvalue = 2 * sts.percentileofscore(delta_hat, d_obs) / 100\n",
    "print(f\"pvalue = {pvalue}\")"
   ]
  },
  {
   "cell_type": "code",
   "execution_count": 111,
   "metadata": {
    "deletable": false,
    "editable": false,
    "nbgrader": {
     "cell_type": "code",
     "checksum": "cec9ed368c60d51d227c43acb4b4cb95",
     "grade": true,
     "grade_id": "cell-ae542794d136fc05",
     "locked": true,
     "points": 1,
     "schema_version": 3,
     "solution": false,
     "task": false
    }
   },
   "outputs": [],
   "source": [
    "# проверка того, что задание решено верно\n",
    "assert pvalue < 0.5\n",
    "assert pvalue > 0.05\n",
    "\n",
    "# подобные тесты скрыты от вас "
   ]
  },
  {
   "cell_type": "markdown",
   "metadata": {},
   "source": [
    "Сделайте выводы о том, что происходит с акциями яндекса на бирже. Можно ли заработать на торговле ими за счёт асимметрии? \n",
    "Думаю можно, так как средняя доходность будет положительной, но существует риск просадок из-за которых можно и потерять деньги."
   ]
  },
  {
   "attachments": {
    "image.png": {
     "image/png": "[encoded data removed]"
    }
   },
   "cell_type": "markdown",
   "metadata": {},
   "source": [
    "# Необязательное задание\n",
    "\n",
    "Обратите внимание, что мы в обоих упражнениях при проверки гипотезы и при строительстве доверительного интервала, использовали стандартное отклонение, вычисленное по выборке. В оригинальной $t$-статистике мы делили на стандартное отклонение среднего. Его мы нашли в аналитическом виде. \n",
    "\n",
    "Для медианы и асимметрии найти в аналитическом виде стандартное отклонение невозможно. Но мы можем попробовать его сбутстрапировать - сделать двойной бутстрап: \n",
    "\n",
    "1. Бутстрапируем $B$ выборок\n",
    "2. Для каждой сбутстрапированной выборки делаем ещё $B$ итераций бутстрапа, рассматривая эту выборку как исходную \n",
    "3. По каждой выборке второго уровня находим асимметрию, подсчитываем по полученным асимметриям стандартное отклонение \n",
    "4. Теперь у нас есть $B$ асимметрий и $B$ их стандартных отклонений\n",
    "5. Стандартное отклонение, найденное по выборке асимметрий первого уровня мы будем использовать для подсчёта наблюдаемого значения статистики\n",
    "\n",
    "Получается матрёшка из бутстрапов. Внутри каждого бутстрапа ещё $B$ бутсрапов. В качестве необязательного упражнения проделайте эту процедуру для обеих задач про бутстрап на своём компьютере. \n",
    "\n",
    "![image.png](attachment:image.png)"
   ]
  }
 ],
 "metadata": {
  "kernelspec": {
   "display_name": "Python 3 (ipykernel)",
   "language": "python",
   "name": "python3"
  },
  "language_info": {
   "codemirror_mode": {
    "name": "ipython",
    "version": 3
   },
   "file_extension": ".py",
   "mimetype": "text/x-python",
   "name": "python",
   "nbconvert_exporter": "python",
   "pygments_lexer": "ipython3",
   "version": "3.13.3"
  }
 },
 "nbformat": 4,
 "nbformat_minor": 4
}
