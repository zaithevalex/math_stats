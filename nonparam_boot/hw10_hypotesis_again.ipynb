{
 "cells": [
  {
   "cell_type": "markdown",
   "metadata": {},
   "source": [
    "<center>\n",
    "<img src=\"logo.png\" height=\"900\"> \n",
    "</center>\n",
    "\n",
    "\n",
    "# Продолжаем проверять гипотезы\n",
    "\n",
    "В этом домашнем задании мы продолжим проверять гипотезы."
   ]
  },
  {
   "cell_type": "code",
   "execution_count": null,
   "metadata": {},
   "outputs": [],
   "source": [
    "import numpy as np\n",
    "import pandas as pd\n",
    "\n",
    "from scipy import stats as sts\n",
    "\n",
    "import seaborn as sns\n",
    "import matplotlib.pyplot as plt\n",
    "\n",
    "plt.style.use('ggplot')\n",
    "%matplotlib inline"
   ]
  },
  {
   "cell_type": "code",
   "execution_count": null,
   "metadata": {},
   "outputs": [],
   "source": [
    "import scipy\n",
    "print(scipy.__version__)"
   ]
  },
  {
   "cell_type": "markdown",
   "metadata": {},
   "source": [
    "## Задание 1 (однородная игра)\n",
    "\n",
    "Киллер - это весёлая лагерная игра. Краткие правила игры:\n",
    "\n",
    "- Игроки пишут свои имена на карточках и кладут их в шляпу\n",
    "- Игроки рандомно вытаскивают карточки из шляпы \n",
    "- Полученное имя - имя жертвы\n",
    "- Каждый игрок одновременно и убийца и жертва\n",
    "- Чтобы убить другого игрока, надо оказаться с ним наедине и застрелить из пальца\n",
    "- Жертва убитого становится новой жертвой игрока\n",
    "- Побеждает тот, кто совершит наибольшее число убийств\n",
    "\n",
    "На экономическом факультете было два раунда игры в киллера. Все убийства регистрировались в гугл-форме. В табличках `killer_time1.csv` и `killer_time2.csv` лежит время в часах, которое проходило между убийствами."
   ]
  },
  {
   "cell_type": "code",
   "execution_count": null,
   "metadata": {},
   "outputs": [],
   "source": [
    "killer1 = pd.read_csv(\"killer_time1.csv\").hours_between_kill.values\n",
    "killer2 = pd.read_csv(\"killer_time2.csv\").hours_between_kill.values"
   ]
  },
  {
   "cell_type": "code",
   "execution_count": null,
   "metadata": {},
   "outputs": [],
   "source": [
    "plt.hist(killer1, bins=20);"
   ]
  },
  {
   "cell_type": "code",
   "execution_count": null,
   "metadata": {},
   "outputs": [],
   "source": [
    "plt.hist(killer2, bins=20);"
   ]
  },
  {
   "cell_type": "markdown",
   "metadata": {},
   "source": [
    "Распределение выглядит, как экспоненциальное. Более того, по гистограммам возникает ощущение, что это одинаковое распределение. С помощью теста Колмогорова-Смирнова проверьте гипотезу о том, что обе выборки пришли из одного и того же распределения, $p$-значение, полученное при проверке запишите в переменную `pvalue1`. "
   ]
  },
  {
   "cell_type": "code",
   "execution_count": null,
   "metadata": {
    "deletable": false,
    "nbgrader": {
     "cell_type": "code",
     "checksum": "44fb3b5304225f3947fbd73bc67a3d44",
     "grade": false,
     "grade_id": "cell-f8134e5d39cba5cd",
     "locked": false,
     "schema_version": 3,
     "solution": true,
     "task": false
    }
   },
   "outputs": [],
   "source": [
    "### ╰( ͡° ͜ʖ ͡° )つ▬▬ι═══════  bzzzzzzzzzz\n",
    "# will the code be with you\n",
    "\n",
    "pvalue1 = ...\n",
    "\n",
    "# your code here\n"
   ]
  },
  {
   "cell_type": "markdown",
   "metadata": {},
   "source": [
    "С помощью теста Колмогорова проверьте гипотезу о том, что время для первой игры имеет экспоненциальное распределение с параметром $\\lambda = 0.026$, $p$-значение, полученное при проверке запишите в переменную `pvalue2`. "
   ]
  },
  {
   "cell_type": "code",
   "execution_count": null,
   "metadata": {
    "deletable": false,
    "nbgrader": {
     "cell_type": "code",
     "checksum": "b4e27fa1c6f0366a2e938430173a15b3",
     "grade": false,
     "grade_id": "cell-da5a87e744840bab",
     "locked": false,
     "schema_version": 3,
     "solution": true,
     "task": false
    }
   },
   "outputs": [],
   "source": [
    "### ╰( ͡° ͜ʖ ͡° )つ▬▬ι═══════  bzzzzzzzzzz\n",
    "# will the code be with you\n",
    "\n",
    "pvalue2 = ...\n",
    "\n",
    "# your code here\n"
   ]
  },
  {
   "cell_type": "code",
   "execution_count": null,
   "metadata": {
    "deletable": false,
    "editable": false,
    "nbgrader": {
     "cell_type": "code",
     "checksum": "92729497f6a2fc0d98bc3610e4f4c72d",
     "grade": true,
     "grade_id": "cell-be55b7fce581170d",
     "locked": true,
     "points": 2,
     "schema_version": 3,
     "solution": false,
     "task": false
    }
   },
   "outputs": [],
   "source": [
    "# проверка того, что задание решено верно\n",
    "assert pvalue1 > 0.5\n",
    "\n",
    "# подобные тесты скрыты от вас "
   ]
  },
  {
   "cell_type": "markdown",
   "metadata": {},
   "source": [
    "## Задание 2 (мыши и зеркало)\n",
    "\n",
    "$16$ лабораторных мышей были помещены в двухкомнатные клетки, в одной из комнат висело зеркало. С целью установить, есть ли у мышей какие-то предпочтения насчет зеркал, измерялась доля времени, которое каждая мышь проводила в каждой из своих двух клеток.\n",
    "\n",
    "![](https://ars.els-cdn.com/content/image/1-s2.0-S0168159104000061-gr1.gif)\n",
    "\n",
    "В файле `mouses_mirror.txt` лежит информация о том, какую долю времени мышка проводила в клетке с зеркалом. "
   ]
  },
  {
   "cell_type": "code",
   "execution_count": null,
   "metadata": {},
   "outputs": [],
   "source": [
    "x = pd.read_csv('mouses_mirror.txt', header = None)[0].values\n",
    "plt.hist(x, density=True);"
   ]
  },
  {
   "cell_type": "markdown",
   "metadata": {},
   "source": [
    "Проверьте гипотезу о том, что мышкам безразлично в какой комнате проводить время с помощью критерия знаков. Сформулируйте нулевую гипотезу, перечислите основные особенности этого критерия. Запишите в переменную `pvalue_1` получившееся в результате этого $p$-значение. "
   ]
  },
  {
   "cell_type": "code",
   "execution_count": null,
   "metadata": {
    "deletable": false,
    "nbgrader": {
     "cell_type": "code",
     "checksum": "69c18cd39cdcc6708cc99b3d2034796a",
     "grade": false,
     "grade_id": "cell-6b6cc3cc3f9d2e2d",
     "locked": false,
     "schema_version": 3,
     "solution": true,
     "task": false
    }
   },
   "outputs": [],
   "source": [
    "### ╰( ͡° ͜ʖ ͡° )つ▬▬ι═══════  bzzzzzzzzzz\n",
    "# will the code be with you\n",
    "\n",
    "pvalue_1 = ... \n",
    "\n",
    "# your code here\n"
   ]
  },
  {
   "cell_type": "markdown",
   "metadata": {},
   "source": [
    "Проверьте гипотезу о том, что мышкам безразлично в какой комнате проводить время с помощью теста Вилкоксона. Сформулируйте нулевую гипотезу, перечислите основные особенности этого критерия.  Запишите в переменную `pvalue_2` получившееся в результате этого $p$-значение. "
   ]
  },
  {
   "cell_type": "code",
   "execution_count": null,
   "metadata": {
    "deletable": false,
    "nbgrader": {
     "cell_type": "code",
     "checksum": "810237e6b508833ff45a566c9122dc2d",
     "grade": false,
     "grade_id": "cell-689716dd8c46567c",
     "locked": false,
     "schema_version": 3,
     "solution": true,
     "task": false
    }
   },
   "outputs": [],
   "source": [
    "### ╰( ͡° ͜ʖ ͡° )つ▬▬ι═══════  bzzzzzzzzzz\n",
    "# will the code be with you\n",
    "\n",
    "pvalue_2 = ... \n",
    "\n",
    "# your code here\n"
   ]
  },
  {
   "cell_type": "markdown",
   "metadata": {},
   "source": [
    "Проверьте гипотезу о том, что мышкам безразлично в какой комнате проводить время с помощью асимптотического $z$-теста. Сформулируйте нулевую гипотезу, перечислите основные особенности этого критерия.  Запишите в переменную `pvalue_3` получившееся в результате этого $p$-значение. "
   ]
  },
  {
   "cell_type": "code",
   "execution_count": null,
   "metadata": {
    "deletable": false,
    "nbgrader": {
     "cell_type": "code",
     "checksum": "b55c22e6795228bd3d57ea5a1e98c49a",
     "grade": false,
     "grade_id": "cell-4ce505503163ae74",
     "locked": false,
     "schema_version": 3,
     "solution": true,
     "task": false
    }
   },
   "outputs": [],
   "source": [
    "from statsmodels.stats.weightstats import ztest,zconfint\n",
    "\n",
    "### ╰( ͡° ͜ʖ ͡° )つ▬▬ι═══════  bzzzzzzzzzz\n",
    "# will the code be with you\n",
    "\n",
    "pvalue_3 = ... \n",
    "\n",
    "# your code here\n"
   ]
  },
  {
   "cell_type": "code",
   "execution_count": null,
   "metadata": {
    "deletable": false,
    "editable": false,
    "nbgrader": {
     "cell_type": "code",
     "checksum": "73290f06f31fe8c145c864dae9c02101",
     "grade": true,
     "grade_id": "cell-2f9dfc7c1834c8a5",
     "locked": true,
     "points": 2,
     "schema_version": 3,
     "solution": false,
     "task": false
    }
   },
   "outputs": [],
   "source": [
    "# проверка того, что задание решено верно\n",
    "assert pvalue_1 < 0.05\n",
    "assert pvalue_2 > 0.05\n",
    "assert pvalue_3 > 0.05\n",
    "\n",
    "# подобные тесты скрыты от вас "
   ]
  },
  {
   "cell_type": "markdown",
   "metadata": {},
   "source": [
    "Объясните, почему `pvalue` от теста к тесту ведёт себя именно так. Подробнее про опыт с мышками читайте [в оригинальном исследовании.](https://www.sciencedirect.com/science/article/abs/pii/S0168159104000061)"
   ]
  },
  {
   "cell_type": "markdown",
   "metadata": {},
   "source": [
    "## Задание 3 (энергетик)\n",
    "\n",
    "Исследовательница Глафира считает, что любовь к энергетическим напиткам и успешность сдачи экзамена по математической статистике должны быть как-то связаны. Опросив $200$ своих однокурсников, она получила следующие результаты:\n",
    "\n",
    "- Сдал, пьёт энергетик: 20\n",
    "- Сдал, не пьёт энергетик: 120\n",
    "- Завалил, пьёт энергетик: 40\n",
    "- Завалил, не пьёт энергетик: 20\n",
    "\n",
    "Правда ли, что энергетик оказывает на успешность сдачи экзамена какое-то влияние? Проверьте гипотезу с помощью критерия Пирсона. В качестве ответа запишите в переменную `pvalue` получившееся $p$-значение."
   ]
  },
  {
   "cell_type": "code",
   "execution_count": null,
   "metadata": {
    "deletable": false,
    "nbgrader": {
     "cell_type": "code",
     "checksum": "11b701a76c7cad856b9a90da5179b7fe",
     "grade": false,
     "grade_id": "cell-8806588bc0865379",
     "locked": false,
     "schema_version": 3,
     "solution": true,
     "task": false
    }
   },
   "outputs": [],
   "source": [
    "### ╰( ͡° ͜ʖ ͡° )つ▬▬ι═══════  bzzzzzzzzzz\n",
    "# will the code be with you\n",
    "\n",
    "pvalue = ... \n",
    "\n",
    "# your code here\n"
   ]
  },
  {
   "cell_type": "code",
   "execution_count": null,
   "metadata": {
    "deletable": false,
    "editable": false,
    "nbgrader": {
     "cell_type": "code",
     "checksum": "da1fdd962d58f234934cc003b1d90290",
     "grade": true,
     "grade_id": "cell-920f09f17b0aafde",
     "locked": true,
     "points": 2,
     "schema_version": 3,
     "solution": false,
     "task": false
    }
   },
   "outputs": [],
   "source": [
    "# проверка того, что задание решено верно\n",
    "assert pvalue < 0.05\n",
    "\n",
    "# подобные тесты скрыты от вас "
   ]
  },
  {
   "cell_type": "markdown",
   "metadata": {},
   "source": [
    "## Задание 4 (бомбардировки)\n",
    "\n",
    "В таблице `london_07-09-1940.tsv` лежат данные о бомбардировке Лондона 7 сентября 1940 года немецкой авиацией. Интересно выяснить, насколько прицельно велась бомбардировка. Если немецкие войска знали, где именно находятся британские военные объекты, они вели бы бомбардировку пристрельно.  \n",
    "\n",
    "Ещё больше данных о бомбардировке Лондона ищите здесь: http://bombsight.org/data/sources/"
   ]
  },
  {
   "cell_type": "code",
   "execution_count": null,
   "metadata": {},
   "outputs": [],
   "source": [
    "df = pd.read_csv('london_07-09-1940.tsv', sep='\\t')\n",
    "print(df.shape)\n",
    "df.head()"
   ]
  },
  {
   "cell_type": "code",
   "execution_count": null,
   "metadata": {},
   "outputs": [],
   "source": [
    "plt.scatter(df.x, df.y);"
   ]
  },
  {
   "cell_type": "markdown",
   "metadata": {},
   "source": [
    "В колонках $x$ и $y$ лежат координаты точки, куда упала бомба. Разбейте Лондон решёткой размера $30 \\times 30$ на $900$ небольших квадратных участков. С помощью функции `binned_statistic_2d` из пакета `scipy.stats`, подсчитайте как часто снаряд попадал на какой из участков. Поместите информацию об этом в переменную `ret`. "
   ]
  },
  {
   "cell_type": "code",
   "execution_count": null,
   "metadata": {
    "deletable": false,
    "nbgrader": {
     "cell_type": "code",
     "checksum": "3d8e8a1156fdd06c8ae186fb41313b02",
     "grade": false,
     "grade_id": "cell-2a06adb25a0b5542",
     "locked": false,
     "schema_version": 3,
     "solution": true,
     "task": false
    }
   },
   "outputs": [],
   "source": [
    "binx = np.linspace(df.x.min(), df.x.max(), 31)\n",
    "biny = np.linspace(df.y.min(), df.y.max(), 31)\n",
    "\n",
    "ret = ... \n",
    "\n",
    "### ╰( ͡° ͜ʖ ͡° )つ▬▬ι═══════  bzzzzzzzzzz\n",
    "# will the code be with you\n",
    "\n",
    "# your code here\n",
    "\n",
    "\n",
    "sns.heatmap(ret.statistic);"
   ]
  },
  {
   "cell_type": "markdown",
   "metadata": {},
   "source": [
    "Распакуйте информацию о попаданиях в участки в вектор `z`. Нарисуте гистограмму для получившегося распределения. "
   ]
  },
  {
   "cell_type": "code",
   "execution_count": null,
   "metadata": {
    "deletable": false,
    "nbgrader": {
     "cell_type": "code",
     "checksum": "3fbbdfb1fc38caf7a66e28a32e3d5cd5",
     "grade": false,
     "grade_id": "cell-1b692a90383e2eff",
     "locked": false,
     "schema_version": 3,
     "solution": true,
     "task": false
    }
   },
   "outputs": [],
   "source": [
    "### ╰( ͡° ͜ʖ ͡° )つ▬▬ι═══════  bzzzzzzzzzz\n",
    "# will the code be with you\n",
    "\n",
    "z = ...\n",
    "\n",
    "# your code here\n"
   ]
  },
  {
   "cell_type": "markdown",
   "metadata": {},
   "source": [
    "Участков много, а вероятность попадания на отдельный участок мала. При справедливости гипотезы о низкой точности стрельбы мы можем воспользоваться законом редких событий:\n",
    "\n",
    "> Если в схеме испытаний Бернулли $p \\to 0$, а $n \\to \\infty$, оно сходится к распределению Пуассона. \n",
    "\n",
    "Получается, что __при верности гипотезы о низкой точности стрельбы,__ число попаданий в квадрат имеет распределение Пуассона. Дополнительно будем предполагать, что попадания на разные участки независимы друг от друга. \n",
    "\n",
    "C помощью критерия Пирсона проверьте гипотезу о том, что число попаданий на участок имеет распределение Пуассона. Прежде, чем вычислять статистику, объедините все наблюдения из хвоста в одно по аналогии с лекцией. Хвостом будем считать все наблюдения $\\ge 9$. Получившуюся в результате расчётов статистику запишите в переменную `T`."
   ]
  },
  {
   "cell_type": "code",
   "execution_count": null,
   "metadata": {
    "deletable": false,
    "nbgrader": {
     "cell_type": "code",
     "checksum": "27458dfda82dafb25009a2fa92b137b2",
     "grade": false,
     "grade_id": "cell-ae799b5490316110",
     "locked": false,
     "schema_version": 3,
     "solution": true,
     "task": false
    }
   },
   "outputs": [],
   "source": [
    "### ╰( ͡° ͜ʖ ͡° )つ▬▬ι═══════  bzzzzzzzzzz\n",
    "# will the code be with you\n",
    "\n",
    "T = ...\n",
    "\n",
    "# your code here\n"
   ]
  },
  {
   "cell_type": "code",
   "execution_count": null,
   "metadata": {
    "deletable": false,
    "editable": false,
    "nbgrader": {
     "cell_type": "code",
     "checksum": "04a992cbb78c1776904005722f0fad09",
     "grade": true,
     "grade_id": "cell-2986a877274d9a7e",
     "locked": true,
     "points": 2,
     "schema_version": 3,
     "solution": false,
     "task": false
    }
   },
   "outputs": [],
   "source": [
    "# проверка того, что задание решено верно\n",
    "assert T > 6000\n",
    "\n",
    "# подобные тесты скрыты от вас "
   ]
  },
  {
   "cell_type": "markdown",
   "metadata": {},
   "source": [
    "Какой вывод мы можем из этого сделать? Правда ли, что бомбардировка осуществлялась прицельно? "
   ]
  },
  {
   "cell_type": "markdown",
   "metadata": {},
   "source": [
    "## Задание 5 (дискриминация)\n",
    "\n",
    "Компания Verizon - основная региональная телекоммуникационная компания в западной части США. Она отвечает за поддержание наземной телефонной связи (Incumbent Local Exchange Carrier, ILEC). Кроме того, она продаёт услуги междугородней связи, как и ряд её конкурентов, получивших название (Competing Local Exchange Carriers, CLEC).\n",
    "\n",
    "Когда что-то шло не так, Verizon отвечала за ремонт своего оборудования и оборудования конкурентов. Она должна была делать ремонт оборудования конкурентов также быстро, как и ремонт своего оборудования. За этим следила комиссия по коммунальным услугам. \n",
    "\n",
    "Периодически возникали подозрения, что Verizon ремонтирует чужое оборудование медленнее. Тим Хестерберг, автор [отличной статьи про бустрап,](https://arxiv.org/pdf/1411.5279.pdf) консультировал компанию Verizon во время слушаний о нарушениях. Комиссия сравнивала время ремонта для Verizon и других компаний. Чтобы определить есть ли нарушения, в каждом случае, она проверяла гипотезу о равенстве средних на уровне значимости $1\\%$. \n",
    "\n",
    "Если более $1\\%$ тестов оказывались значимыми, компания должна была бы заплатить высокий штраф. Гипотезы проверялись с помощью $t$-статистик. После консультации Тима, Verizon предложила использовать тесты, робастные к выбросам и никак не завязанные на нормальность исходных распределений.\n",
    "\n",
    "Мы в этом задании попробуем ответить на тот же вопрос, связанный с дискриминацией, но с помощью бустрапа. Для этого мы построим доверительный интервал для разности медиан и посмотрим входит ли в него ноль. Будем использовать уровень значимости в $1\\%$. Доверительный интервал будем строить для одной CLEC-комиании и для Verizon. "
   ]
  },
  {
   "cell_type": "code",
   "execution_count": null,
   "metadata": {},
   "outputs": [],
   "source": [
    "df = pd.read_csv('verizon.txt', sep='\\t')\n",
    "print(df.shape)\n",
    "\n",
    "# ILEC - Verizion\n",
    "# CLEC - внешние клиенты \n",
    "df.head()"
   ]
  },
  {
   "cell_type": "markdown",
   "metadata": {},
   "source": [
    "Посмотрим на то, как распределено время ремонта для разных компаний, а также на число наблюдений, которым мы располагаем. "
   ]
  },
  {
   "cell_type": "code",
   "execution_count": null,
   "metadata": {},
   "outputs": [],
   "source": [
    "df.groupby('Group')['Time'].agg(['count', 'mean', 'median', 'std'])"
   ]
  },
  {
   "cell_type": "markdown",
   "metadata": {},
   "source": [
    "В данных есть существенный перекос в количестве наблюдений. Среднее время ремонта CLEC почти вдвое больше, чем для ILEC. Вопрос в том, является ли это свидетельством дискриминации. Если посмотреть на распределение, можно заметить, что распределение времени на ремонт CLEC имеет как минимум один выброс. Тем не менее, если смотреть на медианы, которые робастны (нечувствительны) к выбросам, ситуация, связанная со временем оказывается ещё более драмматичной. "
   ]
  },
  {
   "cell_type": "code",
   "execution_count": null,
   "metadata": {},
   "outputs": [],
   "source": [
    "plt.figure(figsize=(12,5))\n",
    "df[df.Group == 'ILEC'].Time.hist(bins=15, label='Verizion', alpha=0.4, density=True)\n",
    "df[df.Group == 'CLEC'].Time.hist(bins=15, label='CLEC', alpha=0.4, density=True)\n",
    "plt.legend();"
   ]
  },
  {
   "cell_type": "markdown",
   "metadata": {},
   "source": [
    "__а)__ Постройте для разницы $med_{CLEC} - med_{Verizion}$ доверительный интервал Эфрона (перцентильный доверительный интервал). "
   ]
  },
  {
   "cell_type": "code",
   "execution_count": null,
   "metadata": {
    "deletable": false,
    "nbgrader": {
     "cell_type": "code",
     "checksum": "4c45f252c5a6ca950abf65491700623d",
     "grade": false,
     "grade_id": "cell-2327d4f1eaf528d9",
     "locked": false,
     "schema_version": 3,
     "solution": true,
     "task": false
    }
   },
   "outputs": [],
   "source": [
    "### ╰( ͡° ͜ʖ ͡° )つ▬▬ι═══════  bzzzzzzzzzz\n",
    "# will the code be with you\n",
    "\n",
    "B_sample=10**4\n",
    "left = ...\n",
    "right = ...\n",
    "\n",
    "# your code here\n"
   ]
  },
  {
   "cell_type": "code",
   "execution_count": null,
   "metadata": {
    "deletable": false,
    "editable": false,
    "nbgrader": {
     "cell_type": "code",
     "checksum": "fa0c24e3dedec0cf189ed6f5f313fc4f",
     "grade": true,
     "grade_id": "cell-cca59662f5bc18d8",
     "locked": true,
     "points": 1,
     "schema_version": 3,
     "solution": false,
     "task": false
    }
   },
   "outputs": [],
   "source": [
    "# проверка того, что задание решено верно\n",
    "assert left > 1.6\n",
    "assert right < 20\n",
    "\n",
    "# подобные тесты скрыты от вас "
   ]
  },
  {
   "cell_type": "markdown",
   "metadata": {},
   "source": [
    "В целом, перцентильный интервал выглядит самым простым вариантом оценивания, однако в реальности он даёт весьма плохие результаты, так как сильно зависит от того насколько хорошо изначальная выборка аппроксимирует истинное распределение случайной величины. В данной ситуации из-за того, что исходное распределение асимметрично, мы получаем смещение."
   ]
  },
  {
   "cell_type": "markdown",
   "metadata": {},
   "source": [
    "__б)__ Постройте для разницы $med_{CLEC} - med_{Verizion}$ доверительный интервал Холла (обратный перцентильный доверительный интервал). "
   ]
  },
  {
   "cell_type": "code",
   "execution_count": null,
   "metadata": {
    "deletable": false,
    "nbgrader": {
     "cell_type": "code",
     "checksum": "ca2044719d18bddb40ee53de06224d3f",
     "grade": false,
     "grade_id": "cell-3edef04b243d2f2a",
     "locked": false,
     "schema_version": 3,
     "solution": true,
     "task": false
    }
   },
   "outputs": [],
   "source": [
    "### ╰( ͡° ͜ʖ ͡° )つ▬▬ι═══════  bzzzzzzzzzz\n",
    "# will the code be with you\n",
    "\n",
    "left = ...\n",
    "right = ...\n",
    "\n",
    "# your code here\n"
   ]
  },
  {
   "cell_type": "code",
   "execution_count": null,
   "metadata": {
    "deletable": false,
    "editable": false,
    "nbgrader": {
     "cell_type": "code",
     "checksum": "d0a802d70460dc97a1c9a2552167573c",
     "grade": true,
     "grade_id": "cell-6ff2910865ff8fbe",
     "locked": true,
     "points": 1,
     "schema_version": 3,
     "solution": false,
     "task": false
    }
   },
   "outputs": [],
   "source": [
    "# проверка того, что задание решено верно\n",
    "assert left > 3\n",
    "assert right < 22\n",
    "\n",
    "# подобные тесты скрыты от вас "
   ]
  },
  {
   "cell_type": "markdown",
   "metadata": {},
   "source": [
    "Холл в своей работе называл перцентильный интервал \"the wrong pivot, backwards\". Обратный перцентильный интервал для асимметричных распределений делает то же самое, но в обратном направлении."
   ]
  },
  {
   "cell_type": "markdown",
   "metadata": {},
   "source": [
    "__в)__ Постройте $t-$ перцентильный доверительный интервал:\n",
    "\n",
    "1. Найдите точечную оценку неизвестного параметра (разность медиан) и точечную оценку стандартного отклонения\n",
    "2. Сгенерируйте $10^5$ boostrap-выборок\n",
    "3. Рассчитайте по каждой выбооке выборочную разницу медиан \n",
    "4. Рассчитайте по каждой выборке стандартную ошибку \n",
    "5. Найдите по каждой выборке $$t^* = \\frac{\\hat \\theta^{*} - \\hat{\\theta}}{S^{*}}$$\n",
    "6. Найдите для $t^{*}$ квантили уровня $0.05$ и $0.95$\n",
    "7. Постройте доверительный интервал для разности медиан\n",
    "\n",
    "В качестве $S^{*}$ исполизуйте сумму стандартных отклонений, посчитанных по выборкам $x$ и $y$. Конечно же, мы используем при таком подходе неправильное стандартное отклонение. При этом мы надеемся, что бутсрэп сам поправит нашу ошибку. При таком подходе главное, чтобы знаменатель сходился по вероятности к какому-нибудь пределу."
   ]
  },
  {
   "cell_type": "code",
   "execution_count": null,
   "metadata": {
    "deletable": false,
    "nbgrader": {
     "cell_type": "code",
     "checksum": "0b2c5b761d7095c08855fb58ce522a0c",
     "grade": false,
     "grade_id": "cell-ea60593513f67e59",
     "locked": false,
     "schema_version": 3,
     "solution": true,
     "task": false
    }
   },
   "outputs": [],
   "source": [
    "### ╰( ͡° ͜ʖ ͡° )つ▬▬ι═══════  bzzzzzzzzzz\n",
    "# will the code be with you\n",
    "\n",
    "theta_hat = ...\n",
    "std_hat = ...\n",
    "\n",
    "left = ...\n",
    "right = ...\n",
    "\n",
    "alpha = 0.01\n",
    "# your code here\n"
   ]
  },
  {
   "cell_type": "markdown",
   "metadata": {},
   "source": [
    "У $t$-bootstrap есть одно интересное свойство: он \"уважает\" асимметрию распределений при расчёте доверительных интервалов. "
   ]
  },
  {
   "cell_type": "code",
   "execution_count": null,
   "metadata": {
    "deletable": false,
    "editable": false,
    "nbgrader": {
     "cell_type": "code",
     "checksum": "9be85326e2f97a948a7637e59bba77b1",
     "grade": true,
     "grade_id": "cell-d96f07e4a8a6a609",
     "locked": true,
     "points": 1,
     "schema_version": 3,
     "solution": false,
     "task": false
    }
   },
   "outputs": [],
   "source": [
    "# проверка того, что задание решено верно\n",
    "assert left < 2\n",
    "assert right > 20\n",
    "\n",
    "# подобные тесты скрыты от вас "
   ]
  },
  {
   "cell_type": "markdown",
   "metadata": {},
   "source": [
    "## Задание 6 (aaaaaaaaand its gone)\n",
    "\n",
    "Коэффициент асимметрии (skewness) говорит нам о скошенности распределения. В финансах, как правило, люди хотят положительной асимметрии, поскольку это означает, что большие положительные доходы вытянуты в хвост и с какой-то небольшой вероятностью могут быть очень большими. При этом, отрицательные доходы более тесно сгруппированы и предсказуемы.\n",
    "\n",
    "<center>\n",
    "<img src=\"https://upload.wikimedia.org/wikipedia/commons/thumb/c/cc/Relationship_between_mean_and_median_under_different_skewness.png/868px-Relationship_between_mean_and_median_under_different_skewness.png\" width=\"600\"> \n",
    "</center>\n",
    "\n",
    "Подгрузим данные о стоимости акций Яндекса в течение последних $10$ лет. Перейдите от цен к доходностям. С помощью метода `skew()` из модуля `scipy.stats` найдите значение асимметрии доходности акций Яндекса. Запишите получившееся значение в переменную `sk`. Что означает такое значение коэффициента для инвестора? "
   ]
  },
  {
   "cell_type": "code",
   "execution_count": null,
   "metadata": {},
   "outputs": [],
   "source": [
    "df = pd.read_csv('ynd.tsv', sep='\\t')\n",
    "df['fielddate'] = pd.to_datetime(df['fielddate'])\n",
    "df.set_index('fielddate', inplace=True)\n",
    "print(df.shape)\n",
    "df.head()"
   ]
  },
  {
   "cell_type": "code",
   "execution_count": null,
   "metadata": {
    "deletable": false,
    "nbgrader": {
     "cell_type": "code",
     "checksum": "5f087384aca7deae5fd923bd30269835",
     "grade": false,
     "grade_id": "cell-d8f6ee277550bfec",
     "locked": false,
     "schema_version": 3,
     "solution": true,
     "task": false
    }
   },
   "outputs": [],
   "source": [
    "### ╰( ͡° ͜ʖ ͡° )つ▬▬ι═══════  bzzzzzzzzzz\n",
    "# will the code be with you\n",
    "from scipy.stats import skew\n",
    "r = (df.close.diff()/df.close.shift(1)).dropna()\n",
    "r = r.values\n",
    "\n",
    "sk = ...\n",
    "\n",
    "# your code here\n"
   ]
  },
  {
   "cell_type": "markdown",
   "metadata": {},
   "source": [
    "Будем считать, что доходности акций независимы друг от друга. Проверим с помощью бустрапа гипотезу о том, что коэффициент асимметрии равен нулю. Для этого: \n",
    "\n",
    "1. Сгенерируйте $10^4$ бустрап-выборок\n",
    "2. Найдите бутстрап-распределение статистики $$\\delta = \\frac{\\hat{skew} - skew}{S}$$ Для этого $B$ раз сбустрапируйте выборку и по каждой из них найдите $$\\delta^{*} = \\frac{\\hat{skew^{*}} - \\hat{skew}}{S^{*}},$$ где  $\\hat{skew^{*}}$ - асимметрия, посчитанная по бустрап-выборке, $\\hat{skew}$ - асимметрия исходной выборки, $S^{*}$ - стандартное отклонение, рассчитанное по бустрап-выборке\n",
    "3. Посчитайте наблюдаемое значение статистики $$\\delta_{obs} = \\frac{\\hat{skew} - 0}{S},$$  где $S$ - стандартное отклонение исходной выборки\n",
    "4. Из бустрап распределения найдите критические значения статистики, при условии что гипотеза проверяется на уровне значимости $5\\%$ против двусторонней альтернативы. \n",
    "5. Сравните эти значения и сделайте вывод.\n",
    "\n",
    "В переменные `d_obs` и `d_crL`, `d_crR` поместите соотвествующие значения. Подробнее про разные виды бустрапа читайте в [этой статье](https://arxiv.org/pdf/1411.5279.pdf) "
   ]
  },
  {
   "cell_type": "code",
   "execution_count": null,
   "metadata": {
    "deletable": false,
    "nbgrader": {
     "cell_type": "code",
     "checksum": "65280632691d6f0edd78ba8e82c3fedf",
     "grade": false,
     "grade_id": "cell-cfca1313e2e5a139",
     "locked": false,
     "schema_version": 3,
     "solution": true,
     "task": false
    }
   },
   "outputs": [],
   "source": [
    "### ╰( ͡° ͜ʖ ͡° )つ▬▬ι═══════  bzzzzzzzzzz\n",
    "# will the code be with you\n",
    "\n",
    "d_obs = ...\n",
    "d_crL = ...\n",
    "d_crR = ...\n",
    "\n",
    "# your code here\n"
   ]
  },
  {
   "cell_type": "code",
   "execution_count": null,
   "metadata": {
    "deletable": false,
    "editable": false,
    "nbgrader": {
     "cell_type": "code",
     "checksum": "0c56c0828f6d400e71c4824ac2addb70",
     "grade": true,
     "grade_id": "cell-4ba13b21b85d9610",
     "locked": true,
     "points": 1,
     "schema_version": 3,
     "solution": false,
     "task": false
    }
   },
   "outputs": [],
   "source": [
    "# проверка того, что задание решено верно\n",
    "assert np.abs(sk + 0.15308974) < 1e-4\n",
    "assert d_crL < 14\n",
    "\n",
    "# подобные тесты скрыты от вас "
   ]
  },
  {
   "cell_type": "markdown",
   "metadata": {},
   "source": [
    "С помощью получившегося бустрап-распределения и найденной наблюдаемой статистики $d$ оцените $p-$значение. Запишите его в переменную `pvalue`. "
   ]
  },
  {
   "cell_type": "code",
   "execution_count": null,
   "metadata": {
    "deletable": false,
    "nbgrader": {
     "cell_type": "code",
     "checksum": "a140e70d3563b5d4d3edb8e0a55ad7ee",
     "grade": false,
     "grade_id": "cell-ef9cf386e1050b5d",
     "locked": false,
     "schema_version": 3,
     "solution": true,
     "task": false
    }
   },
   "outputs": [],
   "source": [
    "### ╰( ͡° ͜ʖ ͡° )つ▬▬ι═══════  bzzzzzzzzzz\n",
    "# will the code be with you\n",
    "\n",
    "pvalue = ...\n",
    "\n",
    "# your code here\n"
   ]
  },
  {
   "cell_type": "code",
   "execution_count": null,
   "metadata": {
    "deletable": false,
    "editable": false,
    "nbgrader": {
     "cell_type": "code",
     "checksum": "cec9ed368c60d51d227c43acb4b4cb95",
     "grade": true,
     "grade_id": "cell-ae542794d136fc05",
     "locked": true,
     "points": 1,
     "schema_version": 3,
     "solution": false,
     "task": false
    }
   },
   "outputs": [],
   "source": [
    "# проверка того, что задание решено верно\n",
    "assert pvalue < 0.5\n",
    "assert pvalue > 0.05\n",
    "\n",
    "# подобные тесты скрыты от вас "
   ]
  },
  {
   "cell_type": "markdown",
   "metadata": {},
   "source": [
    "Сделайте выводы о том, что происходит с акциями яндекса на бирже. Можно ли заработать на торговле ими за счёт асимметрии? "
   ]
  },
  {
   "attachments": {
    "image.png": {
     "image/png": "[encoded data removed]"
    }
   },
   "cell_type": "markdown",
   "metadata": {},
   "source": [
    "# Необязательное задание\n",
    "\n",
    "Обратите внимание, что мы в обоих упражнениях при проверки гипотезы и при строительстве доверительного интервала, использовали стандартное отклонение, вычисленное по выборке. В оригинальной $t$-статистике мы делили на стандартное отклонение среднего. Его мы нашли в аналитическом виде. \n",
    "\n",
    "Для медианы и асимметрии найти в аналитическом виде стандартное отклонение невозможно. Но мы можем попробовать его сбутстрапировать - сделать двойной бутстрап: \n",
    "\n",
    "1. Бутстрапируем $B$ выборок\n",
    "2. Для каждой сбутстрапированной выборки делаем ещё $B$ итераций бутстрапа, рассматривая эту выборку как исходную \n",
    "3. По каждой выборке второго уровня находим асимметрию, подсчитываем по полученным асимметриям стандартное отклонение \n",
    "4. Теперь у нас есть $B$ асимметрий и $B$ их стандартных отклонений\n",
    "5. Стандартное отклонение, найденное по выборке асимметрий первого уровня мы будем использовать для подсчёта наблюдаемого значения статистики\n",
    "\n",
    "Получается матрёшка из бутстрапов. Внутри каждого бутстрапа ещё $B$ бутсрапов. В качестве необязательного упражнения проделайте эту процедуру для обеих задач про бутстрап на своём компьютере. \n",
    "\n",
    "![image.png](attachment:image.png)"
   ]
  }
 ],
 "metadata": {
  "kernelspec": {
   "display_name": "Python 3",
   "language": "python",
   "name": "python3"
  },
  "language_info": {
   "codemirror_mode": {
    "name": "ipython",
    "version": 3
   },
   "file_extension": ".py",
   "mimetype": "text/x-python",
   "name": "python",
   "nbconvert_exporter": "python",
   "pygments_lexer": "ipython3",
   "version": "3.8.5"
  }
 },
 "nbformat": 4,
 "nbformat_minor": 2
}
