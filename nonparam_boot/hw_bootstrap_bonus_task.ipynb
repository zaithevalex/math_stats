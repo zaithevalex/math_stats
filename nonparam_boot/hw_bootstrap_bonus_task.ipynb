{
 "cells": [
  {
   "cell_type": "markdown",
   "metadata": {},
   "source": [
    "<center>\n",
    "<img src=\"logo.png\" height=\"900\"> \n",
    "</center>\n",
    "\n",
    "\n",
    "# Свойства бутсрапа\n",
    "\n",
    "В этом __необязательном__ задании мы изучим чуть ближе свойства бутстрапа."
   ]
  },
  {
   "cell_type": "code",
   "execution_count": null,
   "metadata": {},
   "outputs": [],
   "source": [
    "import numpy as np\n",
    "import pandas as pd\n",
    "\n",
    "from scipy import stats as sts\n",
    "\n",
    "import seaborn as sns\n",
    "import matplotlib.pyplot as plt\n",
    "\n",
    "from tqdm import tqdm\n",
    "\n",
    "plt.style.use('ggplot')\n",
    "%matplotlib inline"
   ]
  },
  {
   "cell_type": "markdown",
   "metadata": {},
   "source": [
    "Скопируем из лекции функцию для бустрапирования, которую мы написали. "
   ]
  },
  {
   "cell_type": "code",
   "execution_count": null,
   "metadata": {},
   "outputs": [],
   "source": [
    "def get_bootstrap_sample(x, B_sample=1):\n",
    "    N = x.size \n",
    "    sample = np.random.choice(x, size=(N, B_sample), replace=True)\n",
    "    \n",
    "    if B_sample == 1:\n",
    "        sample = sample.T[0]\n",
    "    return sample"
   ]
  },
  {
   "cell_type": "markdown",
   "metadata": {},
   "source": [
    "# 0. Подготовка\n",
    "\n",
    "Реализуем все три процедуры для строительства доверительного интервала, изученные нами на лекции. Начнём с перцентильного доверительного интервала."
   ]
  },
  {
   "cell_type": "code",
   "execution_count": null,
   "metadata": {
    "deletable": false,
    "nbgrader": {
     "cell_type": "code",
     "checksum": "fae38f6b3ff9278bd0d60c9771c0c142",
     "grade": false,
     "grade_id": "cell-728a5e22fe1a2dee",
     "locked": false,
     "schema_version": 3,
     "solution": true,
     "task": false
    }
   },
   "outputs": [],
   "source": [
    "### ╰( ͡° ͜ʖ ͡° )つ▬▬ι═══════  bzzzzzzzzzz\n",
    "# will the code be with you\n",
    "\n",
    "def quantile_ci(x_boot, alpha=0.05):\n",
    "    # your code here\n",
    "    \n",
    "    return left, right"
   ]
  },
  {
   "cell_type": "code",
   "execution_count": null,
   "metadata": {
    "deletable": false,
    "editable": false,
    "nbgrader": {
     "cell_type": "code",
     "checksum": "9b9d91f9f9418a6bc8775fcd63121a92",
     "grade": true,
     "grade_id": "cell-6c3c44716327f49f",
     "locked": true,
     "points": 1,
     "schema_version": 3,
     "solution": false,
     "task": false
    }
   },
   "outputs": [],
   "source": [
    "# Убедимся, что функция реализована правильно\n",
    "x = np.array([1,2,3,4])\n",
    "l, r = quantile_ci(x)\n",
    "\n",
    "assert np.abs(l - 1.07) < 1e-2\n",
    "assert np.abs(r - 3.92) < 1e-2"
   ]
  },
  {
   "cell_type": "markdown",
   "metadata": {},
   "source": [
    "Теперь обратный перцентильный доверительный интервал."
   ]
  },
  {
   "cell_type": "code",
   "execution_count": null,
   "metadata": {
    "deletable": false,
    "nbgrader": {
     "cell_type": "code",
     "checksum": "cf356273646432bce31e1e0335ec8146",
     "grade": false,
     "grade_id": "cell-14e45785658fd375",
     "locked": false,
     "schema_version": 3,
     "solution": true,
     "task": false
    }
   },
   "outputs": [],
   "source": [
    "### ╰( ͡° ͜ʖ ͡° )つ▬▬ι═══════  bzzzzzzzzzz\n",
    "# will the code be with you\n",
    "\n",
    "def reverse_quantile_ci(x_boot, theta_hat, alpha=0.05):\n",
    "    # your code here\n",
    "    \n",
    "    return left, right"
   ]
  },
  {
   "cell_type": "code",
   "execution_count": null,
   "metadata": {
    "deletable": false,
    "editable": false,
    "nbgrader": {
     "cell_type": "code",
     "checksum": "382f3f3debc1fc3104d515248b079433",
     "grade": true,
     "grade_id": "cell-e55cf45d4ef901a6",
     "locked": true,
     "points": 1,
     "schema_version": 3,
     "solution": false,
     "task": false
    }
   },
   "outputs": [],
   "source": [
    "# Убедимся, что функция реализована правильно\n",
    "l, r = reverse_quantile_ci(x, 2)\n",
    "\n",
    "assert np.abs(l - 0.07) < 1e-2\n",
    "assert np.abs(r - 2.92) < 1e-2"
   ]
  },
  {
   "cell_type": "markdown",
   "metadata": {},
   "source": [
    "Остался только $t$-перцентильный доверительный интервал."
   ]
  },
  {
   "cell_type": "code",
   "execution_count": null,
   "metadata": {
    "deletable": false,
    "nbgrader": {
     "cell_type": "code",
     "checksum": "8e5dbcff17752bc4a91619abaa3faf32",
     "grade": false,
     "grade_id": "cell-67f8e3d93971d6e0",
     "locked": false,
     "schema_version": 3,
     "solution": true,
     "task": false
    }
   },
   "outputs": [],
   "source": [
    "### ╰( ͡° ͜ʖ ͡° )つ▬▬ι═══════  bzzzzzzzzzz\n",
    "# will the code be with you\n",
    "\n",
    "def t_ci(x_boot, std_boot, theta_hat, sd_hat, alpha=0.05):\n",
    "    # your code here\n",
    "    \n",
    "    return left, right"
   ]
  },
  {
   "cell_type": "code",
   "execution_count": null,
   "metadata": {
    "deletable": false,
    "editable": false,
    "nbgrader": {
     "cell_type": "code",
     "checksum": "7681693c11463ab2c7436dee38b542fa",
     "grade": true,
     "grade_id": "cell-ce884867876a84df",
     "locked": true,
     "points": 1,
     "schema_version": 3,
     "solution": false,
     "task": false
    }
   },
   "outputs": [],
   "source": [
    "# Убедимся, что функция реализована правильно\n",
    "l, r = t_ci(x, x/10, 2, 2/10)\n",
    "\n",
    "assert np.abs(l - 1.025) < 1e-2\n",
    "assert np.abs(r - 3.85) < 1e-2"
   ]
  },
  {
   "cell_type": "markdown",
   "metadata": {},
   "source": [
    "# 1. Бутстрап для симметричное распределения\n",
    "\n",
    "Давайте сгенерируем $10^4$ раз выборку из симметричного распределения и построим для его среднего разные доверительные интервалы. Для каждого из них оценим, с какой вероятностью интервал действительно накрывает неизвестное среднее. Будем это делать на уровне значимости $5\\%$."
   ]
  },
  {
   "cell_type": "code",
   "execution_count": null,
   "metadata": {},
   "outputs": [],
   "source": [
    "n_int = 10**4      # число интервалов \n",
    "sample_size = 100  # размеры выборок\n",
    "\n",
    "rv = sts.uniform(3,2)\n",
    "theta_real = rv.mean() # настоящий параметр\n",
    "\n",
    "# генерируем n_int выборок\n",
    "X = rv.rvs((n_int, sample_size))\n",
    "print('Математическое ожидание:', rv.mean())\n",
    "X.shape"
   ]
  },
  {
   "cell_type": "markdown",
   "metadata": {},
   "source": [
    "Напишем цикл для эксперимента: "
   ]
  },
  {
   "cell_type": "code",
   "execution_count": null,
   "metadata": {},
   "outputs": [],
   "source": [
    "B = 10**3 # сколько делть бустрап-выборок\n",
    "\n",
    "# счётчики для проверки как часто мы попали в интервал реальным параметром\n",
    "i_q, i_rq, i_t = 0, 0, 0\n",
    "\n",
    "for i in tqdm(range(n_int)):\n",
    "    x = X[i] # взяли i-ую выборку \n",
    "    \n",
    "    # оценки по выборке \n",
    "    theta_hat, sd_hat = np.mean(x), np.std(x)  \n",
    "    \n",
    "    # бутстрап-статистики \n",
    "    x_boot = get_bootstrap_sample(x, B_sample=B)\n",
    "    std_boot = np.std(x_boot, axis=0)\n",
    "    x_boot = np.mean(x_boot, axis=0)\n",
    "    \n",
    "    # quantile CI\n",
    "    left1, right1 = quantile_ci(x_boot)\n",
    "    i_q += (left1 < theta_real < right1)\n",
    "    \n",
    "    # reverse quantile CI\n",
    "    left2, right2 = reverse_quantile_ci(x_boot, theta_hat)\n",
    "    i_rq += (left2 < theta_real < right2)\n",
    "\n",
    "    # t-percentile CI\n",
    "    left3, right3 = t_ci(x_boot, std_boot, theta_hat, sd_hat)\n",
    "    i_t += (left3 < theta_real < right3)\n",
    "    \n",
    "    # Напечатать интервалы после первой итерации\n",
    "    if i == 0: \n",
    "        print('quantile:', left1, right1)\n",
    "        print('quantile:', left2, right2)\n",
    "        print('t-percentile:', left3, right3)"
   ]
  },
  {
   "cell_type": "markdown",
   "metadata": {},
   "source": [
    "Исходный уровень доверия был $95\\%$. Посмотрим как часто настоящее значение параметра оказывается внутри соотвествующего доверительного интервала. Если способ построения доверительного интервала хороший, полученная в ходе эксперимента частота, должна слабо отличаться от заявленного уровня доверия. "
   ]
  },
  {
   "cell_type": "code",
   "execution_count": null,
   "metadata": {},
   "outputs": [],
   "source": [
    "i_q/n_int, i_rq/n_int, i_t/n_int"
   ]
  },
  {
   "cell_type": "markdown",
   "metadata": {},
   "source": [
    "Видим, что доверительные интервалы оказываются похожими, а частота попадания истиного среднего в доверительный интервал близка к $0.95$. То есть уровень значимости близок к $5\\%$. Если сделать больше итераций эксперимента (в районе $10^7$, мы получим числа совсем-совсем близкие к $0.95$. __Все три процедуры бутстрапирования хорошо себя показывают при работе с симметричным распределением.__"
   ]
  },
  {
   "cell_type": "markdown",
   "metadata": {},
   "source": [
    "# 2. Несимметричное распределение \n",
    "\n",
    "Сделаем то же самое для несимметричного случая. Сгенерируйте $10^4$ выборок размера $100$ из распределения хи-квадрат с одной степенью свободы. Постройте для одной из выборок гистограмму, убедитесь что наше распределение несимметрично относительно нуля и обладает длинным хвостом. "
   ]
  },
  {
   "cell_type": "code",
   "execution_count": null,
   "metadata": {
    "deletable": false,
    "nbgrader": {
     "cell_type": "code",
     "checksum": "81ec019746481584abf9ac5de3767390",
     "grade": false,
     "grade_id": "cell-3708dc179a8575f8",
     "locked": false,
     "schema_version": 3,
     "solution": true,
     "task": false
    }
   },
   "outputs": [],
   "source": [
    "### ╰( ͡° ͜ʖ ͡° )つ▬▬ι═══════  bzzzzzzzzzz\n",
    "# will the code be with you\n",
    "\n",
    "# your code here\n"
   ]
  },
  {
   "cell_type": "markdown",
   "metadata": {},
   "source": [
    "Повторите тот же самый эксперимент, что и выше. "
   ]
  },
  {
   "cell_type": "code",
   "execution_count": null,
   "metadata": {
    "deletable": false,
    "nbgrader": {
     "cell_type": "code",
     "checksum": "fead1d4f9ee058ff5ba3a1639114ec52",
     "grade": false,
     "grade_id": "cell-2382533bfab87032",
     "locked": false,
     "schema_version": 3,
     "solution": true,
     "task": false
    }
   },
   "outputs": [],
   "source": [
    "### ╰( ͡° ͜ʖ ͡° )つ▬▬ι═══════  bzzzzzzzzzz\n",
    "# will the code be with you\n",
    "\n",
    "B = 10**3 # сколько делть бустрап-выборок\n",
    "\n",
    "# счётчики для проверки как часто мы попали в интервал реальным параметром\n",
    "i_q, i_rq, i_t = 0, 0, 0\n",
    "\n",
    "# your code here\n"
   ]
  },
  {
   "cell_type": "markdown",
   "metadata": {},
   "source": [
    "Посмотрим на оценку поулчившихся частот."
   ]
  },
  {
   "cell_type": "code",
   "execution_count": null,
   "metadata": {},
   "outputs": [],
   "source": [
    "i_q/n_int, i_rq/n_int, i_t/n_int"
   ]
  },
  {
   "cell_type": "markdown",
   "metadata": {},
   "source": [
    "Близкой к 0.95 оказалась только последняя частота. Первые две довольно сильно от неё отличаются. Мы оказываемся в ситуации, когда перцентильный и обратный перцентильные интервалы приводят нас к смещённым оценкам границ доверительного интервала. При этом $t$-процентильный интервал показывает результаты на заявленном уровне доверия. \n",
    "\n",
    "Обратите внимание на границы, которые получились для разных доверительных интервалово. $t$-процентильный интервал уважительнее всего отнесся к тому, что исходное распределение скошено и выдал более далеко расположенные друг от друга критические значения. "
   ]
  },
  {
   "cell_type": "markdown",
   "metadata": {},
   "source": [
    "# 3. Бутсрап? А это точно? \n",
    "\n",
    "Мы сказали с вами, что бутстрап - это асимптотическая техника, которая при больших размерах выборки позволяет получать критические значения. \n",
    "\n",
    "Кроме размера выборки в бутстрапе фигурирует ещё и число испытаний, $B$. С ним связан интересный практический вопрос: как быстро бустрап сходится. Достаточно ли $10000$ испытаний? А достаточно ли $1000$ или $100$? \n",
    "\n",
    "В целом, чем больше тем лучше, но сейчас мы увидим, что даже для оценки CDF распределения верно, что $B_k$ сходится к $B_{\\infty}$ (значение статистики при бесконечном количестве ресемплов) как $\\frac{1}{\\sqrt{n}}$.\n",
    "\n",
    "Смотреть на то, как устроена эта сходимость, будем на треугольном распределении. Так обычно называют сумму двух равномерных случайных величин. "
   ]
  },
  {
   "cell_type": "code",
   "execution_count": null,
   "metadata": {},
   "outputs": [],
   "source": [
    "N = 5000 # размер изначальной выборки\n",
    "X = np.random.uniform(0, 1, size=N) + np.random.uniform(0, 1, size=N)\n",
    "plt.hist(X, bins=100);"
   ]
  },
  {
   "cell_type": "markdown",
   "metadata": {},
   "source": [
    "Это распределение называют треугольным, так как его плотность распределения выглядит как треугольник. Вобьём его функцию распределения. Её можно найти в аналитическом виде. Она будет выглядеть вот так: "
   ]
  },
  {
   "cell_type": "code",
   "execution_count": null,
   "metadata": {},
   "outputs": [],
   "source": [
    "def TrueTriangularDistrubition(x):\n",
    "    if x < 0:\n",
    "        return 0\n",
    "    elif x < 1:\n",
    "        return x**2 / 2\n",
    "    elif x < 2:\n",
    "        return 2*x - x**2 / 2 - 1\n",
    "    else:\n",
    "        return 1"
   ]
  },
  {
   "cell_type": "markdown",
   "metadata": {},
   "source": [
    "Давайте сделаем $B=800$ бутсрап-выборок и для каждой из них построим эмпирическую функцию распределения. На этом же графике нарисуем исходную эмпирическую функцию распределения и теоретическую функцию распределения. "
   ]
  },
  {
   "cell_type": "code",
   "execution_count": null,
   "metadata": {},
   "outputs": [],
   "source": [
    "N = 300 # размер изначальной выборки\n",
    "B = 800 # размер бутстрепной выборки\n",
    "\n",
    "x = np.random.uniform(0, 1, size=N) + np.random.uniform(0, 1, size=N)\n",
    "Xb = get_bootstrap_sample(x, B_sample=B)\n",
    "Xb.shape"
   ]
  },
  {
   "cell_type": "code",
   "execution_count": null,
   "metadata": {
    "deletable": false,
    "nbgrader": {
     "cell_type": "code",
     "checksum": "65700bfe2a73d677d26533eb3f4a2088",
     "grade": false,
     "grade_id": "cell-0000b435be0ffb97",
     "locked": false,
     "schema_version": 3,
     "solution": true,
     "task": false
    }
   },
   "outputs": [],
   "source": [
    "### ╰( ͡° ͜ʖ ͡° )つ▬▬ι═══════  bzzzzzzzzzz\n",
    "# will the code be with you\n",
    "\n",
    "from statsmodels.distributions.empirical_distribution import ECDF\n",
    "\n",
    "plt.figure(figsize = (16, 8))\n",
    "\n",
    "# CDF для каждого бутстрепной выборки\n",
    "for bootstrap_sample in Xb:\n",
    "    # your code here\n",
    "    \n",
    "    \n",
    "# Настоящая функция распределения\n",
    "xs = np.linspace(0, 2, 100)\n",
    "cdf = [TrueTriangularDistrubition(item) for item in xs]\n",
    "plt.plot(xs, cdf, lw = 3, label='Функция распределения')\n",
    "\n",
    "# эмпирическая функция распределения \n",
    "# your code here\n",
    "\n",
    "\n",
    "plt.legend();"
   ]
  },
  {
   "cell_type": "markdown",
   "metadata": {},
   "source": [
    "Мы не знаем теоретической функции распределения на практике. Мы используем эмпирическую функцию распределения, как бутсрап-аналог для реальности. Мы делаем вид, что у нас есть вся генеральная совокупность, а симуляции это наши независимые наблюдения из неё. \n",
    "\n",
    "По картинке видно, что все наши бустрап-выборки вытягиваются именно вдоль эмпирической функции, а не вдоль теоретической. __Мы действуем в предпосылке, что наша выборка хорошо описывает генеральную совокупность.__ Если это не так, мы будем получать неверные выводы.\n",
    "\n",
    "Посмотрим на то, насколько хорошо, в среднем, бустраповыские эмпирические функции распределения, приближают наше исходное, теоретическое, распределение, при разных значениях $B$ (число бутсрап-выборок размера $N$).  "
   ]
  },
  {
   "cell_type": "code",
   "execution_count": null,
   "metadata": {},
   "outputs": [],
   "source": [
    "bins = np.linspace(0, 2, N)\n",
    "\n",
    "# Настоящее распределение\n",
    "true_distr = np.array([TrueTriangularDistrubition(item) for item in np.linspace(0, 2, N - 1)])\n",
    "\n",
    "# диапазон количества испытаний для которых будем смотреть на зависимость\n",
    "Bs = np.arange(1, 1000, 1)\n",
    "\n",
    "means = []\n",
    "\n",
    "for B in tqdm(Bs):\n",
    "    # бутстрап выборки\n",
    "    Xb = np.random.choice(x, (B, N), replace=True)\n",
    "    \n",
    "    cdfs = []\n",
    "    for bootstrap_sample in Xb:\n",
    "        \n",
    "        # считаем насколько сильно CDF полученная бутстрапом отличается от настоящей\n",
    "        # bins - те точки, где нам надо считать значения CDF, для удобства они всегда фиксированы\n",
    "        # мы сначала находим гистограмму, а потом считаем по ней кумулятивную сумму, получается ECDF\n",
    "        \n",
    "        cdfs.append(\n",
    "            true_distr - np.cumsum(np.histogram(bootstrap_sample, bins=bins)[0] / N)\n",
    "        )\n",
    "    # считаем среднее отличие по всем B функциям в каждой точке\n",
    "    means.append(np.array(cdfs).mean(axis=0))"
   ]
  },
  {
   "cell_type": "markdown",
   "metadata": {},
   "source": [
    "Внутри вектора `means` записана средняя разница между бустрап-распределениями и теоретической функцией при разных $B$."
   ]
  },
  {
   "cell_type": "code",
   "execution_count": null,
   "metadata": {},
   "outputs": [],
   "source": [
    "means = np.array(means)\n",
    "means.shape"
   ]
  },
  {
   "cell_type": "markdown",
   "metadata": {},
   "source": [
    "Чем больше $B$, тем меньше должна быть эта разница. Тем не менее, объём исходной выборки, $N$, ограничен. То есть рано или поздно мы должны исчерпать повышение качества за счёт увелечиня $B$."
   ]
  },
  {
   "cell_type": "code",
   "execution_count": null,
   "metadata": {},
   "outputs": [],
   "source": [
    "r = means.mean(axis=1) # усредним разницу по всем бинам\n",
    "r.shape"
   ]
  },
  {
   "cell_type": "markdown",
   "metadata": {},
   "source": [
    "Если построить график средней ошибки, можно увидеть, что её дисперсия с ростом $B$ становится всё меньше. "
   ]
  },
  {
   "cell_type": "code",
   "execution_count": null,
   "metadata": {},
   "outputs": [],
   "source": [
    "plt.plot(Bs[:len(r)], r);"
   ]
  },
  {
   "cell_type": "markdown",
   "metadata": {},
   "source": [
    "Вопрос в том, как именно себя эта дисперсия ведёт. Давайте сгладим ёё. Для этого пройдёмся по полученному вектору ошибок скользящим окном. "
   ]
  },
  {
   "cell_type": "code",
   "execution_count": null,
   "metadata": {},
   "outputs": [],
   "source": [
    "def rolling_window(a, window):\n",
    "    shape = a.shape[:-1] + (a.shape[-1] - window + 1, window)\n",
    "    strides = a.strides + (a.strides[-1],)\n",
    "    return np.lib.stride_tricks.as_strided(a, shape=shape, strides=strides)\n",
    "\n",
    "# считаем скользящее стандартное отклонение, чтобы получить более гладкий график\n",
    "r = np.std(rolling_window(r, 15), -1)\n",
    "\n",
    "plt.figure(figsize=(12, 8))\n",
    "plt.plot(Bs[:len(r)], r)\n",
    "plt.plot(Bs, 1e-2 / np.sqrt(Bs));"
   ]
  },
  {
   "cell_type": "markdown",
   "metadata": {},
   "source": [
    "### Что мы видим? \n",
    "\n",
    "Мы видим, что ошибка постепенно уменьшается. Её стандартное отклонение падает. Причём оно падает как $\\frac{1}{\\sqrt{n}}$. Эта функция нанесена на картинку синим цветом. На практике для бутсрапа рекомендуется использовать размер бутстрапной выборки порядка $10000$ и больше."
   ]
  },
  {
   "cell_type": "markdown",
   "metadata": {},
   "source": [
    " "
   ]
  }
 ],
 "metadata": {
  "kernelspec": {
   "display_name": "Python 3",
   "language": "python",
   "name": "python3"
  },
  "language_info": {
   "codemirror_mode": {
    "name": "ipython",
    "version": 3
   },
   "file_extension": ".py",
   "mimetype": "text/x-python",
   "name": "python",
   "nbconvert_exporter": "python",
   "pygments_lexer": "ipython3",
   "version": "3.7.6"
  }
 },
 "nbformat": 4,
 "nbformat_minor": 4
}
